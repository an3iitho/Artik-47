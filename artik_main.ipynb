{
 "cells": [
  {
   "cell_type": "markdown",
   "metadata": {
    "collapsed": false,
    "pycharm": {
     "name": "#%% md\n"
    }
   },
   "source": [
    "# Artik 47"
   ]
  },
  {
   "cell_type": "code",
   "execution_count": 1,
   "metadata": {
    "collapsed": false,
    "pycharm": {
     "name": "#%%\n"
    }
   },
   "outputs": [
    {
     "name": "stderr",
     "output_type": "stream",
     "text": [
      "C:\\Users\\alvar\\anaconda3\\envs\\sk_tf_gpu_39\\lib\\site-packages\\xgboost\\compat.py:36: FutureWarning: pandas.Int64Index is deprecated and will be removed from pandas in a future version. Use pandas.Index with the appropriate dtype instead.\n",
      "  from pandas import MultiIndex, Int64Index\n"
     ]
    },
    {
     "name": "stdout",
     "output_type": "stream",
     "text": [
      "[name: \"/device:CPU:0\"\n",
      "device_type: \"CPU\"\n",
      "memory_limit: 268435456\n",
      "locality {\n",
      "}\n",
      "incarnation: 4149881978025889055\n",
      "xla_global_id: -1\n",
      ", name: \"/device:GPU:0\"\n",
      "device_type: \"GPU\"\n",
      "memory_limit: 2238919476\n",
      "locality {\n",
      "  bus_id: 1\n",
      "  links {\n",
      "  }\n",
      "}\n",
      "incarnation: 6942619899175006785\n",
      "physical_device_desc: \"device: 0, name: NVIDIA GeForce GTX 1650, pci bus id: 0000:01:00.0, compute capability: 7.5\"\n",
      "xla_global_id: 416903419\n",
      "]\n"
     ]
    }
   ],
   "source": [
    "import pandas as pd\n",
    "import numpy as np\n",
    "import tensorflow as tf\n",
    "\n",
    "import xgboost as xgb\n",
    "\n",
    "from sklearn.datasets import make_moons\n",
    "from sklearn.model_selection import train_test_split, cross_val_score, RepeatedKFold, GridSearchCV\n",
    "from sklearn.preprocessing import MinMaxScaler\n",
    "from sklearn.linear_model import ElasticNet, Lasso, HuberRegressor\n",
    "from sklearn.ensemble import RandomForestRegressor, AdaBoostRegressor\n",
    "from sklearn.svm import SVR\n",
    "from sklearn.preprocessing import StandardScaler, RobustScaler, MinMaxScaler\n",
    "from sklearn.metrics import mean_absolute_percentage_error\n",
    "from sklearn.decomposition import PCA\n",
    "from sklearn import neighbors\n",
    "\n",
    "from tqdm import tqdm\n",
    "from datetime import *\n",
    "# import catboost as ctb\n",
    "from sklearn.linear_model import LinearRegression\n",
    "from sklearn.preprocessing import PolynomialFeatures\n",
    "from sklearn.metrics import mean_absolute_error\n",
    "from sklearn.pipeline import make_pipeline\n",
    "import matplotlib.pyplot as plt\n",
    "\n",
    "from tensorflow.python.client import device_lib\n",
    "print(device_lib.list_local_devices())"
   ]
  },
  {
   "cell_type": "code",
   "execution_count": 2,
   "metadata": {
    "collapsed": false,
    "pycharm": {
     "name": "#%%\n"
    },
    "ExecuteTime": {
     "end_time": "2023-06-10T20:06:00.640639600Z",
     "start_time": "2023-06-10T20:06:00.581473700Z"
    }
   },
   "outputs": [],
   "source": [
    "PATH_RESULTS = f'~\\\\Documents\\\\Artik_47\\\\Artik-47\\\\results\\\\'"
   ]
  },
  {
   "cell_type": "code",
   "execution_count": 3,
   "outputs": [],
   "source": [
    "def get_data():\n",
    "    df = pd.read_csv(f'~\\Documents\\Artik_47\\Artik-47\\data\\GBPUSD_M30.csv', sep='\\t', parse_dates=['Time'])\n",
    "    return df"
   ],
   "metadata": {
    "collapsed": false,
    "pycharm": {
     "name": "#%%\n"
    },
    "ExecuteTime": {
     "end_time": "2023-06-10T20:06:00.644631500Z",
     "start_time": "2023-06-10T20:06:00.595025500Z"
    }
   }
  },
  {
   "cell_type": "markdown",
   "source": [
    "## Ichimoku Kinko Hyo system"
   ],
   "metadata": {
    "collapsed": false,
    "pycharm": {
     "name": "#%% md\n"
    }
   }
  },
  {
   "cell_type": "code",
   "execution_count": 14,
   "outputs": [
    {
     "data": {
      "text/plain": "                        Open     High      Low    Close  Volume\nTime                                                           \n2007-01-01 06:00:00  1.95805  1.95836  1.95795  1.95817    1728\n2007-01-01 06:30:00  1.95813  1.95835  1.95788  1.95815    1651\n2007-01-01 07:00:00  1.95815  1.95832  1.95807  1.95824    1352\n2007-01-01 07:30:00  1.95818  1.95833  1.95807  1.95822    1722\n2007-01-01 08:00:00  1.95815  1.95871  1.95808  1.95852    1729\n...                      ...      ...      ...      ...     ...\n2022-07-13 03:30:00  1.18882  1.18885  1.18852  1.18863     596\n2022-07-13 04:00:00  1.18858  1.18894  1.18796  1.18813    1522\n2022-07-13 04:30:00  1.18811  1.18827  1.18779  1.18794    1852\n2022-07-13 05:00:00  1.18793  1.18814  1.18744  1.18797    1404\n2022-07-13 05:30:00  1.18796  1.18820  1.18755  1.18774    1175\n\n[193892 rows x 5 columns]",
      "text/html": "<div>\n<style scoped>\n    .dataframe tbody tr th:only-of-type {\n        vertical-align: middle;\n    }\n\n    .dataframe tbody tr th {\n        vertical-align: top;\n    }\n\n    .dataframe thead th {\n        text-align: right;\n    }\n</style>\n<table border=\"1\" class=\"dataframe\">\n  <thead>\n    <tr style=\"text-align: right;\">\n      <th></th>\n      <th>Open</th>\n      <th>High</th>\n      <th>Low</th>\n      <th>Close</th>\n      <th>Volume</th>\n    </tr>\n    <tr>\n      <th>Time</th>\n      <th></th>\n      <th></th>\n      <th></th>\n      <th></th>\n      <th></th>\n    </tr>\n  </thead>\n  <tbody>\n    <tr>\n      <th>2007-01-01 06:00:00</th>\n      <td>1.95805</td>\n      <td>1.95836</td>\n      <td>1.95795</td>\n      <td>1.95817</td>\n      <td>1728</td>\n    </tr>\n    <tr>\n      <th>2007-01-01 06:30:00</th>\n      <td>1.95813</td>\n      <td>1.95835</td>\n      <td>1.95788</td>\n      <td>1.95815</td>\n      <td>1651</td>\n    </tr>\n    <tr>\n      <th>2007-01-01 07:00:00</th>\n      <td>1.95815</td>\n      <td>1.95832</td>\n      <td>1.95807</td>\n      <td>1.95824</td>\n      <td>1352</td>\n    </tr>\n    <tr>\n      <th>2007-01-01 07:30:00</th>\n      <td>1.95818</td>\n      <td>1.95833</td>\n      <td>1.95807</td>\n      <td>1.95822</td>\n      <td>1722</td>\n    </tr>\n    <tr>\n      <th>2007-01-01 08:00:00</th>\n      <td>1.95815</td>\n      <td>1.95871</td>\n      <td>1.95808</td>\n      <td>1.95852</td>\n      <td>1729</td>\n    </tr>\n    <tr>\n      <th>...</th>\n      <td>...</td>\n      <td>...</td>\n      <td>...</td>\n      <td>...</td>\n      <td>...</td>\n    </tr>\n    <tr>\n      <th>2022-07-13 03:30:00</th>\n      <td>1.18882</td>\n      <td>1.18885</td>\n      <td>1.18852</td>\n      <td>1.18863</td>\n      <td>596</td>\n    </tr>\n    <tr>\n      <th>2022-07-13 04:00:00</th>\n      <td>1.18858</td>\n      <td>1.18894</td>\n      <td>1.18796</td>\n      <td>1.18813</td>\n      <td>1522</td>\n    </tr>\n    <tr>\n      <th>2022-07-13 04:30:00</th>\n      <td>1.18811</td>\n      <td>1.18827</td>\n      <td>1.18779</td>\n      <td>1.18794</td>\n      <td>1852</td>\n    </tr>\n    <tr>\n      <th>2022-07-13 05:00:00</th>\n      <td>1.18793</td>\n      <td>1.18814</td>\n      <td>1.18744</td>\n      <td>1.18797</td>\n      <td>1404</td>\n    </tr>\n    <tr>\n      <th>2022-07-13 05:30:00</th>\n      <td>1.18796</td>\n      <td>1.18820</td>\n      <td>1.18755</td>\n      <td>1.18774</td>\n      <td>1175</td>\n    </tr>\n  </tbody>\n</table>\n<p>193892 rows × 5 columns</p>\n</div>"
     },
     "execution_count": 14,
     "metadata": {},
     "output_type": "execute_result"
    }
   ],
   "source": [
    "df = get_data()\n",
    "# Ordena por fecha\n",
    "df.sort_values(by='Time', inplace=True)\n",
    "# TIme as index\n",
    "df.set_index('Time', inplace=True)\n",
    "## Muestra duplicados en el índice\n",
    "#df.index.duplicated().sum()\n",
    "## Muestra cuales son los duplicados\n",
    "#df[df.index.duplicated(keep=False)]\n",
    "# Elimina los duplicados\n",
    "df = df[~df.index.duplicated(keep='first')]\n",
    "df"
   ],
   "metadata": {
    "collapsed": false,
    "pycharm": {
     "name": "#%%\n"
    },
    "ExecuteTime": {
     "end_time": "2023-06-10T20:12:13.495485700Z",
     "start_time": "2023-06-10T20:12:13.121505200Z"
    }
   }
  },
  {
   "cell_type": "code",
   "execution_count": 15,
   "outputs": [],
   "source": [
    "def calculate_ichimoku(df, tenkan_window=20, kijun_window=60, senkou_window=120):\n",
    "    \"\"\"\n",
    "    Calcula las líneas del indicador Ichimoku Kinko Hyo.\n",
    "\n",
    "    Parámetros:\n",
    "    df (pandas.DataFrame): DataFrame con las columnas 'High', 'Low', y 'Close'.\n",
    "    tenkan_window (int): Número de períodos para el cálculo de Tenkan-Sen (Línea de Conversión). Por defecto: 20\n",
    "    kijun_window (int): Número de períodos para el cálculo de Kijun-Sen (Línea Base). Por defecto: 60\n",
    "    senkou_window (int): Número de períodos para el cálculo de Senkou Span B (Segunda Línea Líder). Por defecto: 120\n",
    "\n",
    "    Retorna:\n",
    "    df (pandas.DataFrame): DataFrame original con columnas adicionales para cada línea del indicador Ichimoku.\n",
    "    \"\"\"\n",
    "    # Tenkan-Sen (Línea de Conversión)\n",
    "    high_9 = df['High'].rolling(window=tenkan_window).max()\n",
    "    low_9 = df['Low'].rolling(window=tenkan_window).min()\n",
    "    df['tenkan_sen'] = (high_9 + low_9) / 2\n",
    "\n",
    "    # Kijun-Sen (Línea Base)\n",
    "    high_26 = df['High'].rolling(window=kijun_window).max()\n",
    "    low_26 = df['Low'].rolling(window=kijun_window).min()\n",
    "    df['kijun_sen'] = (high_26 + low_26) / 2\n",
    "\n",
    "    # Senkou Span A (Primera Línea Líder)\n",
    "    df['senkou_span_a'] = ((df['tenkan_sen'] + df['kijun_sen']) / 2).shift(kijun_window)\n",
    "\n",
    "    # Senkou Span B (Segunda Línea Líder)\n",
    "    high_52 = df['High'].rolling(window=senkou_window).max()\n",
    "    low_52 = df['Low'].rolling(window=senkou_window).min()\n",
    "    df['senkou_span_b'] = ((high_52 + low_52) / 2).shift(senkou_window)\n",
    "\n",
    "    # Chikou Span (Línea de Retraso)\n",
    "    df['chikou_span'] = df['Close'].shift(-kijun_window)\n",
    "\n",
    "    ## Paso 1. ##\n",
    "    # Agrega una nueva columna que indica si el precio de cierre está por encima o por debajo de la nube\n",
    "    df['above_cloud'] = (df['Close'] > df[['senkou_span_a', 'senkou_span_b']].max(axis=1)).astype(int)\n",
    "    df['below_cloud'] = (df['Close'] < df[['senkou_span_a', 'senkou_span_b']].min(axis=1)).astype(int)\n",
    "\n",
    "    # Agregamos una columna \"signal\" que resume los resultados.\n",
    "    # Si el precio de cierre está por encima de la nube, el valor es 1, e indica comprar.\n",
    "    # Si el precio de cierre está por debajo de la nube, el valor es -1, e indica vender.\n",
    "    # Si el precio de cierre está dentro de la nube, el valor es 0, e indica no hacer nada.\n",
    "    df['signal'] = df['above_cloud'] - df['below_cloud']\n",
    "\n",
    "    # Eliminamos las columnas temporales 'above_cloud' y 'below_cloud'\n",
    "    df.drop(['above_cloud', 'below_cloud'], axis=1, inplace=True)\n",
    "\n",
    "    ## Paso 2. ##\n",
    "    # Agrega una nueva columna que indica si Tenkan-sen cruza Kijun-sen desde abajo (señal de compra)\n",
    "    df['bullish_cross'] = (df['tenkan_sen'].shift(1) < df['kijun_sen'].shift(1)) & (df['tenkan_sen'] > df['kijun_sen'])\n",
    "\n",
    "    # Agrega una nueva columna que indica si Tenkan-sen cruza Kijun-sen desde arriba (señal de venta)\n",
    "    df['bearish_cross'] = (df['tenkan_sen'].shift(1) > df['kijun_sen'].shift(1)) & (df['tenkan_sen'] < df['kijun_sen'])\n",
    "\n",
    "    # Agregamos una columna \"cross_signal\" que resume los resultados.\n",
    "    # Si 'cross_signal' es 1, podría ser una señal de compra.\n",
    "    # Si 'cross_signal' es -1, podría ser una señal de venta.\n",
    "    df['cross_signal'] = df['bullish_cross'].astype(int) - df['bearish_cross'].astype(int)\n",
    "\n",
    "    # Eliminamos las columnas temporales 'bullish_cross' y 'bearish_cross'\n",
    "    df.drop(['bullish_cross', 'bearish_cross'], axis=1, inplace=True)\n",
    "\n",
    "    ## Paso 3. ##\n",
    "    # Agrega una nueva columna que indica si Chikou Span cruza el precio en dirección ascendente (señal de compra)\n",
    "    df['chikou_cross_up'] = (df['chikou_span'].shift(kijun_window) < df['Close'].shift(kijun_window)) & (df['chikou_span'] > df['Close'].shift(kijun_window))\n",
    "\n",
    "    # Agrega una nueva columna que indica si Chikou Span cruza el precio en dirección descendente (señal de venta)\n",
    "    df['chikou_cross_down'] = (df['chikou_span'].shift(kijun_window) > df['Close'].shift(kijun_window)) & (df['chikou_span'] < df['Close'].shift(kijun_window))\n",
    "\n",
    "    # Agregamos una columna \"chikou_signal\" que resume los resultados.\n",
    "    # Si 'chikou_signal' es 1, podría ser una señal de compra.\n",
    "    # Si 'chikou_signal' es -1, podría ser una señal de venta.\n",
    "    df['chikou_signal'] = df['chikou_cross_up'].astype(int) - df['chikou_cross_down'].astype(int)\n",
    "\n",
    "    # Eliminamos las columnas temporales 'chikou_cross_up' y 'chikou_cross_down'\n",
    "    df.drop(['chikou_cross_up', 'chikou_cross_down'], axis=1, inplace=True)\n",
    "\n",
    "    ## Paso 4. ##\n",
    "    # Añade una nueva columna que indica si Senkou Span A está por encima de Senkou Span B (tendencia alcista)\n",
    "    df['cloud_green'] = (df['senkou_span_a'] > df['senkou_span_b']).astype(int)\n",
    "\n",
    "    # Añade una nueva columna que indica si Senkou Span B está por encima de Senkou Span A (tendencia bajista)\n",
    "    df['cloud_red'] = (df['senkou_span_a'] < df['senkou_span_b']).astype(int)\n",
    "\n",
    "    # Añadimos una columna \"cloud_signal\" que resume los resultados\n",
    "    # Si 'cloud_signal' es 1, podría ser una tendencia alcista.\n",
    "    # Si 'cloud_signal' es -1, podría ser una tendencia bajista.\n",
    "    df['cloud_signal'] = df['cloud_green'] - df['cloud_red']\n",
    "\n",
    "    # Eliminamos las columnas temporales 'cloud_green' y 'cloud_red'\n",
    "    df.drop(['cloud_green', 'cloud_red'], axis=1, inplace=True)\n",
    "\n",
    "    # Añade una columna de resumen que suma todas las señales\n",
    "    # Si 'summary_signal' es 4, podría ser una señal de compra.\n",
    "    # Si 'summary_signal' es -4, podría ser una señal de venta.\n",
    "    df['summary_signal'] = df['signal'] + df['cross_signal'] + df['chikou_signal'] + df['cloud_signal']\n",
    "\n",
    "    return df"
   ],
   "metadata": {
    "collapsed": false,
    "pycharm": {
     "name": "#%%\n"
    },
    "ExecuteTime": {
     "end_time": "2023-06-10T20:12:23.524849900Z",
     "start_time": "2023-06-10T20:12:23.506650400Z"
    }
   }
  },
  {
   "cell_type": "code",
   "execution_count": 22,
   "outputs": [
    {
     "data": {
      "text/plain": "                        Open     High      Low    Close  Volume  tenkan_sen  \\\nTime                                                                          \n2007-01-01 06:00:00  1.95805  1.95836  1.95795  1.95817    1728         NaN   \n2007-01-01 06:30:00  1.95813  1.95835  1.95788  1.95815    1651         NaN   \n2007-01-01 07:00:00  1.95815  1.95832  1.95807  1.95824    1352         NaN   \n2007-01-01 07:30:00  1.95818  1.95833  1.95807  1.95822    1722         NaN   \n2007-01-01 08:00:00  1.95815  1.95871  1.95808  1.95852    1729         NaN   \n...                      ...      ...      ...      ...     ...         ...   \n2022-07-13 03:30:00  1.18882  1.18885  1.18852  1.18863     596    1.187440   \n2022-07-13 04:00:00  1.18858  1.18894  1.18796  1.18813    1522    1.187445   \n2022-07-13 04:30:00  1.18811  1.18827  1.18779  1.18794    1852    1.188710   \n2022-07-13 05:00:00  1.18793  1.18814  1.18744  1.18797    1404    1.188715   \n2022-07-13 05:30:00  1.18796  1.18820  1.18755  1.18774    1175    1.188715   \n\n                     kijun_sen  senkou_span_a  senkou_span_b  chikou_span  \\\nTime                                                                        \n2007-01-01 06:00:00        NaN            NaN            NaN      1.96562   \n2007-01-01 06:30:00        NaN            NaN            NaN      1.96379   \n2007-01-01 07:00:00        NaN            NaN            NaN      1.96843   \n2007-01-01 07:30:00        NaN            NaN            NaN      1.96847   \n2007-01-01 08:00:00        NaN            NaN            NaN      1.97258   \n...                        ...            ...            ...          ...   \n2022-07-13 03:30:00    1.18614       1.194045        1.19655          NaN   \n2022-07-13 04:00:00    1.18614       1.194045        1.19655          NaN   \n2022-07-13 04:30:00    1.18614       1.194045        1.19655          NaN   \n2022-07-13 05:00:00    1.18614       1.194045        1.19655          NaN   \n2022-07-13 05:30:00    1.18614       1.194045        1.19655          NaN   \n\n                     signal  cross_signal  chikou_signal  cloud_signal  \\\nTime                                                                     \n2007-01-01 06:00:00       0             0              0             0   \n2007-01-01 06:30:00       0             0              0             0   \n2007-01-01 07:00:00       0             0              0             0   \n2007-01-01 07:30:00       0             0              0             0   \n2007-01-01 08:00:00       0             0              0             0   \n...                     ...           ...            ...           ...   \n2022-07-13 03:30:00      -1             0              0            -1   \n2022-07-13 04:00:00      -1             0              0            -1   \n2022-07-13 04:30:00      -1             0              0            -1   \n2022-07-13 05:00:00      -1             0              0            -1   \n2022-07-13 05:30:00      -1             0              0            -1   \n\n                     summary_signal  \nTime                                 \n2007-01-01 06:00:00               0  \n2007-01-01 06:30:00               0  \n2007-01-01 07:00:00               0  \n2007-01-01 07:30:00               0  \n2007-01-01 08:00:00               0  \n...                             ...  \n2022-07-13 03:30:00              -2  \n2022-07-13 04:00:00              -2  \n2022-07-13 04:30:00              -2  \n2022-07-13 05:00:00              -2  \n2022-07-13 05:30:00              -2  \n\n[193892 rows x 15 columns]",
      "text/html": "<div>\n<style scoped>\n    .dataframe tbody tr th:only-of-type {\n        vertical-align: middle;\n    }\n\n    .dataframe tbody tr th {\n        vertical-align: top;\n    }\n\n    .dataframe thead th {\n        text-align: right;\n    }\n</style>\n<table border=\"1\" class=\"dataframe\">\n  <thead>\n    <tr style=\"text-align: right;\">\n      <th></th>\n      <th>Open</th>\n      <th>High</th>\n      <th>Low</th>\n      <th>Close</th>\n      <th>Volume</th>\n      <th>tenkan_sen</th>\n      <th>kijun_sen</th>\n      <th>senkou_span_a</th>\n      <th>senkou_span_b</th>\n      <th>chikou_span</th>\n      <th>signal</th>\n      <th>cross_signal</th>\n      <th>chikou_signal</th>\n      <th>cloud_signal</th>\n      <th>summary_signal</th>\n    </tr>\n    <tr>\n      <th>Time</th>\n      <th></th>\n      <th></th>\n      <th></th>\n      <th></th>\n      <th></th>\n      <th></th>\n      <th></th>\n      <th></th>\n      <th></th>\n      <th></th>\n      <th></th>\n      <th></th>\n      <th></th>\n      <th></th>\n      <th></th>\n    </tr>\n  </thead>\n  <tbody>\n    <tr>\n      <th>2007-01-01 06:00:00</th>\n      <td>1.95805</td>\n      <td>1.95836</td>\n      <td>1.95795</td>\n      <td>1.95817</td>\n      <td>1728</td>\n      <td>NaN</td>\n      <td>NaN</td>\n      <td>NaN</td>\n      <td>NaN</td>\n      <td>1.96562</td>\n      <td>0</td>\n      <td>0</td>\n      <td>0</td>\n      <td>0</td>\n      <td>0</td>\n    </tr>\n    <tr>\n      <th>2007-01-01 06:30:00</th>\n      <td>1.95813</td>\n      <td>1.95835</td>\n      <td>1.95788</td>\n      <td>1.95815</td>\n      <td>1651</td>\n      <td>NaN</td>\n      <td>NaN</td>\n      <td>NaN</td>\n      <td>NaN</td>\n      <td>1.96379</td>\n      <td>0</td>\n      <td>0</td>\n      <td>0</td>\n      <td>0</td>\n      <td>0</td>\n    </tr>\n    <tr>\n      <th>2007-01-01 07:00:00</th>\n      <td>1.95815</td>\n      <td>1.95832</td>\n      <td>1.95807</td>\n      <td>1.95824</td>\n      <td>1352</td>\n      <td>NaN</td>\n      <td>NaN</td>\n      <td>NaN</td>\n      <td>NaN</td>\n      <td>1.96843</td>\n      <td>0</td>\n      <td>0</td>\n      <td>0</td>\n      <td>0</td>\n      <td>0</td>\n    </tr>\n    <tr>\n      <th>2007-01-01 07:30:00</th>\n      <td>1.95818</td>\n      <td>1.95833</td>\n      <td>1.95807</td>\n      <td>1.95822</td>\n      <td>1722</td>\n      <td>NaN</td>\n      <td>NaN</td>\n      <td>NaN</td>\n      <td>NaN</td>\n      <td>1.96847</td>\n      <td>0</td>\n      <td>0</td>\n      <td>0</td>\n      <td>0</td>\n      <td>0</td>\n    </tr>\n    <tr>\n      <th>2007-01-01 08:00:00</th>\n      <td>1.95815</td>\n      <td>1.95871</td>\n      <td>1.95808</td>\n      <td>1.95852</td>\n      <td>1729</td>\n      <td>NaN</td>\n      <td>NaN</td>\n      <td>NaN</td>\n      <td>NaN</td>\n      <td>1.97258</td>\n      <td>0</td>\n      <td>0</td>\n      <td>0</td>\n      <td>0</td>\n      <td>0</td>\n    </tr>\n    <tr>\n      <th>...</th>\n      <td>...</td>\n      <td>...</td>\n      <td>...</td>\n      <td>...</td>\n      <td>...</td>\n      <td>...</td>\n      <td>...</td>\n      <td>...</td>\n      <td>...</td>\n      <td>...</td>\n      <td>...</td>\n      <td>...</td>\n      <td>...</td>\n      <td>...</td>\n      <td>...</td>\n    </tr>\n    <tr>\n      <th>2022-07-13 03:30:00</th>\n      <td>1.18882</td>\n      <td>1.18885</td>\n      <td>1.18852</td>\n      <td>1.18863</td>\n      <td>596</td>\n      <td>1.187440</td>\n      <td>1.18614</td>\n      <td>1.194045</td>\n      <td>1.19655</td>\n      <td>NaN</td>\n      <td>-1</td>\n      <td>0</td>\n      <td>0</td>\n      <td>-1</td>\n      <td>-2</td>\n    </tr>\n    <tr>\n      <th>2022-07-13 04:00:00</th>\n      <td>1.18858</td>\n      <td>1.18894</td>\n      <td>1.18796</td>\n      <td>1.18813</td>\n      <td>1522</td>\n      <td>1.187445</td>\n      <td>1.18614</td>\n      <td>1.194045</td>\n      <td>1.19655</td>\n      <td>NaN</td>\n      <td>-1</td>\n      <td>0</td>\n      <td>0</td>\n      <td>-1</td>\n      <td>-2</td>\n    </tr>\n    <tr>\n      <th>2022-07-13 04:30:00</th>\n      <td>1.18811</td>\n      <td>1.18827</td>\n      <td>1.18779</td>\n      <td>1.18794</td>\n      <td>1852</td>\n      <td>1.188710</td>\n      <td>1.18614</td>\n      <td>1.194045</td>\n      <td>1.19655</td>\n      <td>NaN</td>\n      <td>-1</td>\n      <td>0</td>\n      <td>0</td>\n      <td>-1</td>\n      <td>-2</td>\n    </tr>\n    <tr>\n      <th>2022-07-13 05:00:00</th>\n      <td>1.18793</td>\n      <td>1.18814</td>\n      <td>1.18744</td>\n      <td>1.18797</td>\n      <td>1404</td>\n      <td>1.188715</td>\n      <td>1.18614</td>\n      <td>1.194045</td>\n      <td>1.19655</td>\n      <td>NaN</td>\n      <td>-1</td>\n      <td>0</td>\n      <td>0</td>\n      <td>-1</td>\n      <td>-2</td>\n    </tr>\n    <tr>\n      <th>2022-07-13 05:30:00</th>\n      <td>1.18796</td>\n      <td>1.18820</td>\n      <td>1.18755</td>\n      <td>1.18774</td>\n      <td>1175</td>\n      <td>1.188715</td>\n      <td>1.18614</td>\n      <td>1.194045</td>\n      <td>1.19655</td>\n      <td>NaN</td>\n      <td>-1</td>\n      <td>0</td>\n      <td>0</td>\n      <td>-1</td>\n      <td>-2</td>\n    </tr>\n  </tbody>\n</table>\n<p>193892 rows × 15 columns</p>\n</div>"
     },
     "execution_count": 22,
     "metadata": {},
     "output_type": "execute_result"
    }
   ],
   "source": [
    "df_ichi = calculate_ichimoku(df)\n",
    "df_ichi"
   ],
   "metadata": {
    "collapsed": false,
    "pycharm": {
     "name": "#%%\n"
    },
    "ExecuteTime": {
     "end_time": "2023-06-10T20:12:57.152014900Z",
     "start_time": "2023-06-10T20:12:56.835888500Z"
    }
   }
  },
  {
   "cell_type": "code",
   "execution_count": null,
   "outputs": [],
   "source": [
    "# TODO: Graficar las líneas del indicador Ichimoku Kinko Hyo y las señales de trading.\n",
    "# TODO: Agregar los mejores valores para trading, los precios a los que se debería comprar y vender.\n",
    "# TDDO: Agregar un gráfico de barras que muestre la cantidad de señales de compra y venta.\n",
    "# TODO: Agregar un gráfico de barras que muestre la cantidad de señales de compra y venta por año.\n",
    "# TODO: Agregar los resultados de haber realizados esas compras y ventas. (Ganancias y pérdidas)\n",
    "# TODO: Hacer un optimizador de los mejores parametros para el modelo"
   ],
   "metadata": {
    "collapsed": false,
    "pycharm": {
     "name": "#%%\n"
    }
   }
  },
  {
   "cell_type": "code",
   "execution_count": 23,
   "outputs": [],
   "source": [
    "def calculate_orders(df, sl_percent=0.01, tp_percent=0.02, transaction_cost=0.001, slippage=0.001, position_size=10000):\n",
    "    \"\"\"\n",
    "    Calcula los precios de las órdenes de límite, stop loss y take profit, teniendo en cuenta los costos de transacción y el deslizamiento.\n",
    "\n",
    "    Parámetros:\n",
    "    df (pandas.DataFrame): DataFrame que contiene las columnas 'tenkan_sen' y 'kijun_sen'.\n",
    "    sl_percent (float): Porcentaje para calcular el precio de la orden de stop loss.\n",
    "    tp_percent (float): Porcentaje para calcular el precio de la orden de take profit.\n",
    "    transaction_cost (float): Estimación de los costos de transacción como porcentaje del valor de la operación.\n",
    "    slippage (float): Estimación del deslizamiento como porcentaje del precio de la orden.\n",
    "    position_size (int): Tamaño de la posición para cada operación.\n",
    "\n",
    "    Retorna:\n",
    "    df (pandas.DataFrame): DataFrame original con nuevas columnas para los precios de las órdenes.\n",
    "    \"\"\"\n",
    "    # Crea una señal de compra cuando Tenkan-Sen cruza por encima de Kijun-Sen\n",
    "    df['buy_signal'] = (df['tenkan_sen'].shift(1) < df['kijun_sen'].shift(1)) & (df['tenkan_sen'] > df['kijun_sen'])\n",
    "\n",
    "    # Crea una señal de venta cuando Tenkan-Sen cruza por debajo de Kijun-Sen\n",
    "    df['sell_signal'] = (df['tenkan_sen'].shift(1) > df['kijun_sen'].shift(1)) & (df['tenkan_sen'] < df['kijun_sen'])\n",
    "\n",
    "    # Orden de límite de compra al precio de Kijun-Sen más el deslizamiento\n",
    "    df.loc[df['buy_signal'], 'buy_order'] = df['kijun_sen'] * (1 + slippage)\n",
    "\n",
    "    # Orden de límite de venta al precio de Kijun-Sen menos el deslizamiento\n",
    "    df.loc[df['sell_signal'], 'sell_order'] = df['kijun_sen'] * (1 - slippage)\n",
    "\n",
    "    # Orden de stop loss un cierto porcentaje por debajo del precio de compra más los costos de transacción\n",
    "    df['buy_sl'] = df['buy_order'] * (1 - sl_percent - transaction_cost)\n",
    "\n",
    "    # Orden de stop loss un cierto porcentaje por encima del precio de venta más los costos de transacción\n",
    "    df['sell_sl'] = df['sell_order'] * (1 + sl_percent + transaction_cost)\n",
    "\n",
    "    # Orden de take profit un cierto porcentaje por encima del precio de compra menos los costos de transacción\n",
    "    df['buy_tp'] = df['buy_order'] * (1 + tp_percent - transaction_cost)\n",
    "\n",
    "    # Orden de take profit un cierto porcentaje por debajo del precio de venta menos los costos de transacción\n",
    "    df['sell_tp'] = df['sell_order'] * (1 - tp_percent - transaction_cost)\n",
    "\n",
    "    # Tamaño de la posición para cada operación\n",
    "    df['position_size'] = position_size\n",
    "\n",
    "    return df\n",
    "\n"
   ],
   "metadata": {
    "collapsed": false,
    "pycharm": {
     "name": "#%%\n"
    },
    "ExecuteTime": {
     "end_time": "2023-06-10T20:13:01.730250200Z",
     "start_time": "2023-06-10T20:13:01.713817200Z"
    }
   }
  },
  {
   "cell_type": "code",
   "execution_count": 24,
   "outputs": [
    {
     "name": "stdout",
     "output_type": "stream",
     "text": [
      "0\n"
     ]
    }
   ],
   "source": [
    "print(df_ichi.index.duplicated().sum())"
   ],
   "metadata": {
    "collapsed": false,
    "ExecuteTime": {
     "end_time": "2023-06-10T20:13:04.143466900Z",
     "start_time": "2023-06-10T20:13:04.110391600Z"
    }
   }
  },
  {
   "cell_type": "code",
   "execution_count": 33,
   "outputs": [
    {
     "data": {
      "text/plain": "                        Open     High      Low    Close  Volume  tenkan_sen  \\\nTime                                                                          \n2007-01-01 06:00:00  1.95805  1.95836  1.95795  1.95817    1728         NaN   \n2007-01-01 06:30:00  1.95813  1.95835  1.95788  1.95815    1651         NaN   \n2007-01-01 07:00:00  1.95815  1.95832  1.95807  1.95824    1352         NaN   \n2007-01-01 07:30:00  1.95818  1.95833  1.95807  1.95822    1722         NaN   \n2007-01-01 08:00:00  1.95815  1.95871  1.95808  1.95852    1729         NaN   \n...                      ...      ...      ...      ...     ...         ...   \n2022-07-13 03:30:00  1.18882  1.18885  1.18852  1.18863     596    1.187440   \n2022-07-13 04:00:00  1.18858  1.18894  1.18796  1.18813    1522    1.187445   \n2022-07-13 04:30:00  1.18811  1.18827  1.18779  1.18794    1852    1.188710   \n2022-07-13 05:00:00  1.18793  1.18814  1.18744  1.18797    1404    1.188715   \n2022-07-13 05:30:00  1.18796  1.18820  1.18755  1.18774    1175    1.188715   \n\n                     kijun_sen  senkou_span_a  senkou_span_b  chikou_span  \\\nTime                                                                        \n2007-01-01 06:00:00        NaN            NaN            NaN      1.96562   \n2007-01-01 06:30:00        NaN            NaN            NaN      1.96379   \n2007-01-01 07:00:00        NaN            NaN            NaN      1.96843   \n2007-01-01 07:30:00        NaN            NaN            NaN      1.96847   \n2007-01-01 08:00:00        NaN            NaN            NaN      1.97258   \n...                        ...            ...            ...          ...   \n2022-07-13 03:30:00    1.18614       1.194045        1.19655          NaN   \n2022-07-13 04:00:00    1.18614       1.194045        1.19655          NaN   \n2022-07-13 04:30:00    1.18614       1.194045        1.19655          NaN   \n2022-07-13 05:00:00    1.18614       1.194045        1.19655          NaN   \n2022-07-13 05:30:00    1.18614       1.194045        1.19655          NaN   \n\n                     ...  summary_signal  buy_signal  sell_signal  buy_order  \\\nTime                 ...                                                       \n2007-01-01 06:00:00  ...               0       False        False        NaN   \n2007-01-01 06:30:00  ...               0       False        False        NaN   \n2007-01-01 07:00:00  ...               0       False        False        NaN   \n2007-01-01 07:30:00  ...               0       False        False        NaN   \n2007-01-01 08:00:00  ...               0       False        False        NaN   \n...                  ...             ...         ...          ...        ...   \n2022-07-13 03:30:00  ...              -2       False        False        NaN   \n2022-07-13 04:00:00  ...              -2       False        False        NaN   \n2022-07-13 04:30:00  ...              -2       False        False        NaN   \n2022-07-13 05:00:00  ...              -2       False        False        NaN   \n2022-07-13 05:30:00  ...              -2       False        False        NaN   \n\n                     sell_order  buy_sl  sell_sl  buy_tp  sell_tp  \\\nTime                                                                \n2007-01-01 06:00:00         NaN     NaN      NaN     NaN      NaN   \n2007-01-01 06:30:00         NaN     NaN      NaN     NaN      NaN   \n2007-01-01 07:00:00         NaN     NaN      NaN     NaN      NaN   \n2007-01-01 07:30:00         NaN     NaN      NaN     NaN      NaN   \n2007-01-01 08:00:00         NaN     NaN      NaN     NaN      NaN   \n...                         ...     ...      ...     ...      ...   \n2022-07-13 03:30:00         NaN     NaN      NaN     NaN      NaN   \n2022-07-13 04:00:00         NaN     NaN      NaN     NaN      NaN   \n2022-07-13 04:30:00         NaN     NaN      NaN     NaN      NaN   \n2022-07-13 05:00:00         NaN     NaN      NaN     NaN      NaN   \n2022-07-13 05:30:00         NaN     NaN      NaN     NaN      NaN   \n\n                     position_size  \nTime                                \n2007-01-01 06:00:00          10000  \n2007-01-01 06:30:00          10000  \n2007-01-01 07:00:00          10000  \n2007-01-01 07:30:00          10000  \n2007-01-01 08:00:00          10000  \n...                            ...  \n2022-07-13 03:30:00          10000  \n2022-07-13 04:00:00          10000  \n2022-07-13 04:30:00          10000  \n2022-07-13 05:00:00          10000  \n2022-07-13 05:30:00          10000  \n\n[193892 rows x 24 columns]",
      "text/html": "<div>\n<style scoped>\n    .dataframe tbody tr th:only-of-type {\n        vertical-align: middle;\n    }\n\n    .dataframe tbody tr th {\n        vertical-align: top;\n    }\n\n    .dataframe thead th {\n        text-align: right;\n    }\n</style>\n<table border=\"1\" class=\"dataframe\">\n  <thead>\n    <tr style=\"text-align: right;\">\n      <th></th>\n      <th>Open</th>\n      <th>High</th>\n      <th>Low</th>\n      <th>Close</th>\n      <th>Volume</th>\n      <th>tenkan_sen</th>\n      <th>kijun_sen</th>\n      <th>senkou_span_a</th>\n      <th>senkou_span_b</th>\n      <th>chikou_span</th>\n      <th>...</th>\n      <th>summary_signal</th>\n      <th>buy_signal</th>\n      <th>sell_signal</th>\n      <th>buy_order</th>\n      <th>sell_order</th>\n      <th>buy_sl</th>\n      <th>sell_sl</th>\n      <th>buy_tp</th>\n      <th>sell_tp</th>\n      <th>position_size</th>\n    </tr>\n    <tr>\n      <th>Time</th>\n      <th></th>\n      <th></th>\n      <th></th>\n      <th></th>\n      <th></th>\n      <th></th>\n      <th></th>\n      <th></th>\n      <th></th>\n      <th></th>\n      <th></th>\n      <th></th>\n      <th></th>\n      <th></th>\n      <th></th>\n      <th></th>\n      <th></th>\n      <th></th>\n      <th></th>\n      <th></th>\n      <th></th>\n    </tr>\n  </thead>\n  <tbody>\n    <tr>\n      <th>2007-01-01 06:00:00</th>\n      <td>1.95805</td>\n      <td>1.95836</td>\n      <td>1.95795</td>\n      <td>1.95817</td>\n      <td>1728</td>\n      <td>NaN</td>\n      <td>NaN</td>\n      <td>NaN</td>\n      <td>NaN</td>\n      <td>1.96562</td>\n      <td>...</td>\n      <td>0</td>\n      <td>False</td>\n      <td>False</td>\n      <td>NaN</td>\n      <td>NaN</td>\n      <td>NaN</td>\n      <td>NaN</td>\n      <td>NaN</td>\n      <td>NaN</td>\n      <td>10000</td>\n    </tr>\n    <tr>\n      <th>2007-01-01 06:30:00</th>\n      <td>1.95813</td>\n      <td>1.95835</td>\n      <td>1.95788</td>\n      <td>1.95815</td>\n      <td>1651</td>\n      <td>NaN</td>\n      <td>NaN</td>\n      <td>NaN</td>\n      <td>NaN</td>\n      <td>1.96379</td>\n      <td>...</td>\n      <td>0</td>\n      <td>False</td>\n      <td>False</td>\n      <td>NaN</td>\n      <td>NaN</td>\n      <td>NaN</td>\n      <td>NaN</td>\n      <td>NaN</td>\n      <td>NaN</td>\n      <td>10000</td>\n    </tr>\n    <tr>\n      <th>2007-01-01 07:00:00</th>\n      <td>1.95815</td>\n      <td>1.95832</td>\n      <td>1.95807</td>\n      <td>1.95824</td>\n      <td>1352</td>\n      <td>NaN</td>\n      <td>NaN</td>\n      <td>NaN</td>\n      <td>NaN</td>\n      <td>1.96843</td>\n      <td>...</td>\n      <td>0</td>\n      <td>False</td>\n      <td>False</td>\n      <td>NaN</td>\n      <td>NaN</td>\n      <td>NaN</td>\n      <td>NaN</td>\n      <td>NaN</td>\n      <td>NaN</td>\n      <td>10000</td>\n    </tr>\n    <tr>\n      <th>2007-01-01 07:30:00</th>\n      <td>1.95818</td>\n      <td>1.95833</td>\n      <td>1.95807</td>\n      <td>1.95822</td>\n      <td>1722</td>\n      <td>NaN</td>\n      <td>NaN</td>\n      <td>NaN</td>\n      <td>NaN</td>\n      <td>1.96847</td>\n      <td>...</td>\n      <td>0</td>\n      <td>False</td>\n      <td>False</td>\n      <td>NaN</td>\n      <td>NaN</td>\n      <td>NaN</td>\n      <td>NaN</td>\n      <td>NaN</td>\n      <td>NaN</td>\n      <td>10000</td>\n    </tr>\n    <tr>\n      <th>2007-01-01 08:00:00</th>\n      <td>1.95815</td>\n      <td>1.95871</td>\n      <td>1.95808</td>\n      <td>1.95852</td>\n      <td>1729</td>\n      <td>NaN</td>\n      <td>NaN</td>\n      <td>NaN</td>\n      <td>NaN</td>\n      <td>1.97258</td>\n      <td>...</td>\n      <td>0</td>\n      <td>False</td>\n      <td>False</td>\n      <td>NaN</td>\n      <td>NaN</td>\n      <td>NaN</td>\n      <td>NaN</td>\n      <td>NaN</td>\n      <td>NaN</td>\n      <td>10000</td>\n    </tr>\n    <tr>\n      <th>...</th>\n      <td>...</td>\n      <td>...</td>\n      <td>...</td>\n      <td>...</td>\n      <td>...</td>\n      <td>...</td>\n      <td>...</td>\n      <td>...</td>\n      <td>...</td>\n      <td>...</td>\n      <td>...</td>\n      <td>...</td>\n      <td>...</td>\n      <td>...</td>\n      <td>...</td>\n      <td>...</td>\n      <td>...</td>\n      <td>...</td>\n      <td>...</td>\n      <td>...</td>\n      <td>...</td>\n    </tr>\n    <tr>\n      <th>2022-07-13 03:30:00</th>\n      <td>1.18882</td>\n      <td>1.18885</td>\n      <td>1.18852</td>\n      <td>1.18863</td>\n      <td>596</td>\n      <td>1.187440</td>\n      <td>1.18614</td>\n      <td>1.194045</td>\n      <td>1.19655</td>\n      <td>NaN</td>\n      <td>...</td>\n      <td>-2</td>\n      <td>False</td>\n      <td>False</td>\n      <td>NaN</td>\n      <td>NaN</td>\n      <td>NaN</td>\n      <td>NaN</td>\n      <td>NaN</td>\n      <td>NaN</td>\n      <td>10000</td>\n    </tr>\n    <tr>\n      <th>2022-07-13 04:00:00</th>\n      <td>1.18858</td>\n      <td>1.18894</td>\n      <td>1.18796</td>\n      <td>1.18813</td>\n      <td>1522</td>\n      <td>1.187445</td>\n      <td>1.18614</td>\n      <td>1.194045</td>\n      <td>1.19655</td>\n      <td>NaN</td>\n      <td>...</td>\n      <td>-2</td>\n      <td>False</td>\n      <td>False</td>\n      <td>NaN</td>\n      <td>NaN</td>\n      <td>NaN</td>\n      <td>NaN</td>\n      <td>NaN</td>\n      <td>NaN</td>\n      <td>10000</td>\n    </tr>\n    <tr>\n      <th>2022-07-13 04:30:00</th>\n      <td>1.18811</td>\n      <td>1.18827</td>\n      <td>1.18779</td>\n      <td>1.18794</td>\n      <td>1852</td>\n      <td>1.188710</td>\n      <td>1.18614</td>\n      <td>1.194045</td>\n      <td>1.19655</td>\n      <td>NaN</td>\n      <td>...</td>\n      <td>-2</td>\n      <td>False</td>\n      <td>False</td>\n      <td>NaN</td>\n      <td>NaN</td>\n      <td>NaN</td>\n      <td>NaN</td>\n      <td>NaN</td>\n      <td>NaN</td>\n      <td>10000</td>\n    </tr>\n    <tr>\n      <th>2022-07-13 05:00:00</th>\n      <td>1.18793</td>\n      <td>1.18814</td>\n      <td>1.18744</td>\n      <td>1.18797</td>\n      <td>1404</td>\n      <td>1.188715</td>\n      <td>1.18614</td>\n      <td>1.194045</td>\n      <td>1.19655</td>\n      <td>NaN</td>\n      <td>...</td>\n      <td>-2</td>\n      <td>False</td>\n      <td>False</td>\n      <td>NaN</td>\n      <td>NaN</td>\n      <td>NaN</td>\n      <td>NaN</td>\n      <td>NaN</td>\n      <td>NaN</td>\n      <td>10000</td>\n    </tr>\n    <tr>\n      <th>2022-07-13 05:30:00</th>\n      <td>1.18796</td>\n      <td>1.18820</td>\n      <td>1.18755</td>\n      <td>1.18774</td>\n      <td>1175</td>\n      <td>1.188715</td>\n      <td>1.18614</td>\n      <td>1.194045</td>\n      <td>1.19655</td>\n      <td>NaN</td>\n      <td>...</td>\n      <td>-2</td>\n      <td>False</td>\n      <td>False</td>\n      <td>NaN</td>\n      <td>NaN</td>\n      <td>NaN</td>\n      <td>NaN</td>\n      <td>NaN</td>\n      <td>NaN</td>\n      <td>10000</td>\n    </tr>\n  </tbody>\n</table>\n<p>193892 rows × 24 columns</p>\n</div>"
     },
     "execution_count": 33,
     "metadata": {},
     "output_type": "execute_result"
    }
   ],
   "source": [
    "df_orders = calculate_orders(df_ichi)\n",
    "df_orders"
   ],
   "metadata": {
    "collapsed": false,
    "pycharm": {
     "name": "#%%\n"
    },
    "ExecuteTime": {
     "end_time": "2023-06-10T21:25:56.759290600Z",
     "start_time": "2023-06-10T21:25:56.635960900Z"
    }
   }
  },
  {
   "cell_type": "code",
   "execution_count": 42,
   "outputs": [],
   "source": [
    "def calculate_pnl(df, start_date=None, end_date=None, print_log=False):\n",
    "    position = 0  # Número de unidades de la divisa que poseemos actualmente\n",
    "    pnl = 0  # Nuestra ganancia o pérdida hasta ahora\n",
    "\n",
    "    # Si se especifican las fechas de inicio y fin, se filtra el DataFrame\n",
    "    if start_date is not None and end_date is not None:\n",
    "        df = df.loc[start_date:end_date]\n",
    "\n",
    "    for i, row in df.iterrows():\n",
    "        if row['buy_signal']:\n",
    "            if print_log: print(f\"{i}: Buy signal\")\n",
    "            if row['High'] >= row['buy_order']:  # Se ejecuta la orden de límite de compra\n",
    "                position += row['position_size']\n",
    "                if print_log: print(f\"{i}: Buy order executed at {row['buy_order']}, position is now {position}\")\n",
    "                if row['Low'] <= row['buy_sl']:  # Se alcanza el stop loss\n",
    "                    pnl += position * (row['buy_sl'] - row['buy_order'])\n",
    "                    if print_log: print(f\"{i}: Stop loss reached at {row['buy_sl']}, pnl is now {pnl}\")\n",
    "                    position = 0  # Cerramos la posición\n",
    "                elif row['High'] >= row['buy_tp']:  # Se alcanza el take profit\n",
    "                    pnl += position * (row['buy_tp'] - row['buy_order'])\n",
    "                    if print_log: print(f\"{i}: Take profit reached at {row['buy_tp']}, pnl is now {pnl}\")\n",
    "                    position = 0  # Cerramos la posición\n",
    "        elif row['sell_signal']:\n",
    "            if print_log: print(f\"{i}: Sell signal\")\n",
    "            if position > 0:  # Solo vendemos si tenemos posiciones\n",
    "                if row['Low'] <= row['sell_order']:  # Se ejecuta la orden de límite de venta\n",
    "                    if print_log: print(f\"{i}: Sell order executed at {row['sell_order']}, position is now {position}\")\n",
    "                    if row['High'] >= row['sell_sl']:  # Se alcanza el stop loss\n",
    "                        pnl += position * (row['sell_order'] - row['sell_sl'])\n",
    "                        if print_log: print(f\"{i}: Stop loss reached at {row['sell_sl']}, pnl is now {pnl}\")\n",
    "                        position = 0  # Cerramos la posición\n",
    "                    elif row['Low'] <= row['sell_tp']:  # Se alcanza el take profit\n",
    "                        pnl += position * (row['sell_order'] - row['sell_tp'])\n",
    "                        if print_log: print(f\"{i}: Take profit reached at {row['sell_tp']}, pnl is now {pnl}\")\n",
    "                        position = 0  # Cerramos la posición\n",
    "\n",
    "    return pnl\n"
   ],
   "metadata": {
    "collapsed": false,
    "ExecuteTime": {
     "end_time": "2023-06-11T00:37:21.025352700Z",
     "start_time": "2023-06-11T00:37:20.996779200Z"
    }
   }
  },
  {
   "cell_type": "code",
   "execution_count": 45,
   "outputs": [
    {
     "name": "stdout",
     "output_type": "stream",
     "text": [
      "2022-01-03 19:30:00: Sell signal\n",
      "2022-01-04 14:30:00: Buy signal\n",
      "2022-01-04 14:30:00: Buy order executed at 1.34925791, position is now 10000\n",
      "2022-01-06 10:30:00: Sell signal\n",
      "2022-01-06 10:30:00: Sell order executed at 1.354658985, position is now 10000\n",
      "2022-01-07 07:00:00: Buy signal\n",
      "2022-01-07 07:00:00: Buy order executed at 1.3544931399999998, position is now 20000\n",
      "2022-01-11 01:00:00: Sell signal\n",
      "2022-01-11 07:30:00: Buy signal\n",
      "2022-01-11 07:30:00: Buy order executed at 1.358101745, position is now 30000\n",
      "2022-01-14 06:30:00: Sell signal\n",
      "2022-01-14 06:30:00: Sell order executed at 1.3709976300000002, position is now 30000\n",
      "2022-01-14 17:00:00: Buy signal\n",
      "2022-01-14 18:30:00: Sell signal\n",
      "2022-01-14 18:30:00: Sell order executed at 1.371082545, position is now 30000\n",
      "2022-01-19 17:00:00: Buy signal\n",
      "2022-01-19 17:00:00: Buy order executed at 1.362586225, position is now 40000\n",
      "2022-01-20 18:00:00: Sell signal\n",
      "2022-01-20 18:00:00: Sell order executed at 1.36044819, position is now 40000\n",
      "2022-01-20 20:30:00: Buy signal\n",
      "2022-01-20 20:30:00: Buy order executed at 1.3635221599999998, position is now 50000\n",
      "2022-01-28 19:30:00: Buy signal\n",
      "2022-01-28 19:30:00: Buy order executed at 1.3408695299999998, position is now 60000\n",
      "2022-01-31 08:30:00: Sell signal\n",
      "2022-01-31 11:30:00: Buy signal\n",
      "2022-01-31 11:30:00: Buy order executed at 1.34121988, position is now 70000\n"
     ]
    },
    {
     "data": {
      "text/plain": "0"
     },
     "execution_count": 45,
     "metadata": {},
     "output_type": "execute_result"
    }
   ],
   "source": [
    "calculate_pnl(df_orders, start_date='2022-01-01', end_date='2022-02-01', print_log=True)"
   ],
   "metadata": {
    "collapsed": false,
    "ExecuteTime": {
     "end_time": "2023-06-11T00:38:39.610648100Z",
     "start_time": "2023-06-11T00:38:39.549545300Z"
    }
   }
  },
  {
   "cell_type": "code",
   "execution_count": null,
   "outputs": [],
   "source": [
    "# TODO: Gestión del tamaño de la posición: Podrías considerar ajustar el tamaño de tu posición en función de tu saldo disponible o de alguna medida de volatilidad del mercado. O simplemente un porcentaje del saldo disponible.\n",
    "# TODO: Optimización de los parámetros: Los parámetros como sl_percent, tp_percent, transaction_cost, slippage y position_size se pueden optimizar para maximizar el rendimiento o para alcanzar un equilibrio entre el rendimiento y el riesgo que estés dispuesto a asumir."
   ],
   "metadata": {
    "collapsed": false
   }
  },
  {
   "cell_type": "code",
   "execution_count": 26,
   "outputs": [],
   "source": [
    "# Cuenta el nuemro de señales de compra y venta entre una fecha de inicio y una fecha final\n",
    "def count_signals(df, start_date=None, end_date=None):\n",
    "    \"\"\"\n",
    "    Cuenta el número de señales de compra y venta entre una fecha de inicio y una fecha final.\n",
    "\n",
    "    Parámetros:\n",
    "    df (pandas.DataFrame): DataFrame que contiene las columnas 'buy_signal' y 'sell_signal'.\n",
    "    start_date (str): Fecha de inicio del conteo en el formato 'AAAA-MM-DD'. Si no se proporciona, se usa el primer índice del DataFrame.\n",
    "    end_date (str): Fecha final del conteo en el formato 'AAAA-MM-DD'. Si no se proporciona, se usa el último índice del DataFrame.\n",
    "\n",
    "    Retorna:\n",
    "    buy_count (int): Número de señales de compra.\n",
    "    sell_count (int): Número de señales de venta.\n",
    "    \"\"\"\n",
    "    # Si no se proporciona start_date o end_date, se utiliza todo el rango de fechas del DataFrame\n",
    "    if start_date is None:\n",
    "        start_date = df.index.min()\n",
    "    if end_date is None:\n",
    "        end_date = df.index.max()\n",
    "\n",
    "    # Selecciona las filas entre start_date y end_date\n",
    "    df = df.loc[start_date:end_date]\n",
    "\n",
    "    # Cuenta el número de señales de compra y venta\n",
    "    buy_count = df['buy_signal'].sum()\n",
    "    sell_count = df['sell_signal'].sum()\n",
    "\n",
    "    return buy_count, sell_count\n"
   ],
   "metadata": {
    "collapsed": false,
    "pycharm": {
     "name": "#%%\n"
    },
    "ExecuteTime": {
     "end_time": "2023-06-10T21:15:24.745646200Z",
     "start_time": "2023-06-10T21:15:24.693118200Z"
    }
   }
  },
  {
   "cell_type": "code",
   "execution_count": 29,
   "outputs": [
    {
     "name": "stdout",
     "output_type": "stream",
     "text": [
      "Número de señales de compra: 59\n",
      "Número de señales de venta: 58\n"
     ]
    }
   ],
   "source": [
    "# Cuenta el número de señales de compra y venta entre 2020-01-01 y 2020-12-31\n",
    "buy_count, sell_count = count_signals(df_orders, start_date='2022-01-01', end_date='2022-12-31')\n",
    "print(f'Número de señales de compra: {buy_count}')\n",
    "print(f'Número de señales de venta: {sell_count}')"
   ],
   "metadata": {
    "collapsed": false,
    "ExecuteTime": {
     "end_time": "2023-06-10T21:15:43.337339100Z",
     "start_time": "2023-06-10T21:15:43.321149800Z"
    }
   }
  },
  {
   "cell_type": "code",
   "execution_count": null,
   "outputs": [],
   "source": [],
   "metadata": {
    "collapsed": false
   }
  },
  {
   "cell_type": "code",
   "execution_count": null,
   "outputs": [],
   "source": [],
   "metadata": {
    "collapsed": false
   }
  },
  {
   "cell_type": "code",
   "execution_count": null,
   "outputs": [],
   "source": [],
   "metadata": {
    "collapsed": false
   }
  },
  {
   "cell_type": "code",
   "execution_count": null,
   "outputs": [],
   "source": [],
   "metadata": {
    "collapsed": false
   }
  },
  {
   "cell_type": "code",
   "execution_count": 7,
   "outputs": [],
   "source": [
    "import matplotlib.pyplot as plt\n",
    "import matplotlib.lines as mlines\n",
    "\n",
    "def plot_ichimoku(df, start_date=None, end_date=None):\n",
    "    \"\"\"\n",
    "    Grafica las líneas del indicador Ichimoku Kinko Hyo y las señales de trading.\n",
    "\n",
    "    Parámetros:\n",
    "    df (pandas.DataFrame): DataFrame con las columnas de Ichimoku y las señales.\n",
    "    start_date (str): Fecha de inicio del gráfico en el formato 'AAAA-MM-DD'. Si no se proporciona, se usa el primer índice del DataFrame.\n",
    "    end_date (str): Fecha final del gráfico en el formato 'AAAA-MM-DD'. Si no se proporciona, se usa el último índice del DataFrame.\n",
    "    \"\"\"\n",
    "\n",
    "    # Si no se proporciona start_date o end_date, se utiliza todo el rango de fechas del DataFrame\n",
    "    if start_date is None:\n",
    "        start_date = df.index.min()\n",
    "    if end_date is None:\n",
    "        end_date = df.index.max()\n",
    "\n",
    "    # Selecciona el rango de fechas del DataFrame\n",
    "    df = df.loc[start_date:end_date]\n",
    "\n",
    "    # Crea una nueva figura y un conjunto de subtramas\n",
    "    fig, ax = plt.subplots(figsize=(30,15))\n",
    "\n",
    "    # Grafica el precio de cierre\n",
    "    df['Close'].plot(ax=ax, color='black', label='Close')\n",
    "\n",
    "    # Grafica Tenkan-sen\n",
    "    df['tenkan_sen'].plot(ax=ax, color='red', label='Tenkan-sen')\n",
    "\n",
    "    # Grafica Kijun-sen\n",
    "    df['kijun_sen'].plot(ax=ax, color='blue', label='Kijun-sen')\n",
    "\n",
    "    # Rellena la nube Ichimoku\n",
    "    ax.fill_between(df.index, df['senkou_span_a'], df['senkou_span_b'], where=df['senkou_span_a'] > df['senkou_span_b'], color='lightgreen', alpha=0.5)\n",
    "    ax.fill_between(df.index, df['senkou_span_a'], df['senkou_span_b'], where=df['senkou_span_a'] < df['senkou_span_b'], color='lightcoral', alpha=0.5)\n",
    "\n",
    "    # Resalta las señales de compra\n",
    "    buy_signals = df[df['summary_signal'] == 4]\n",
    "    ax.scatter(buy_signals.index, buy_signals['Close'], color='green', marker='^', s=100)\n",
    "\n",
    "    # Resalta las señales de venta\n",
    "    sell_signals = df[df['summary_signal'] == -4]\n",
    "    ax.scatter(sell_signals.index, sell_signals['Close'], color='red', marker='v', s=100)\n",
    "\n",
    "    # Crea dos objetos Line2D (lineas sin segmentos) para usarlos en la leyenda\n",
    "    buy_line = mlines.Line2D([], [], color='green', marker='^', linestyle='None', markersize=10, label='Buy signal')\n",
    "    sell_line = mlines.Line2D([], [], color='red', marker='v', linestyle='None', markersize=10, label='Sell signal')\n",
    "\n",
    "    # Muestra la leyenda\n",
    "    ax.legend(handles=[buy_line, sell_line], title='Signals')\n",
    "\n",
    "    # Muestra el gráfico\n",
    "    plt.show()\n",
    "\n"
   ],
   "metadata": {
    "collapsed": false,
    "pycharm": {
     "name": "#%%\n"
    }
   }
  },
  {
   "cell_type": "code",
   "execution_count": 8,
   "outputs": [
    {
     "data": {
      "text/plain": "<Figure size 2160x1080 with 1 Axes>",
      "image/png": "[encoded data removed]"
     },
     "metadata": {
      "needs_background": "light"
     },
     "output_type": "display_data"
    }
   ],
   "source": [
    "plot_ichimoku(df_ichi, start_date='2019-08-25', end_date='2019-08-30')"
   ],
   "metadata": {
    "collapsed": false,
    "pycharm": {
     "name": "#%%\n"
    }
   }
  },
  {
   "cell_type": "code",
   "execution_count": null,
   "outputs": [],
   "source": [],
   "metadata": {
    "collapsed": false,
    "pycharm": {
     "name": "#%%\n"
    }
   }
  },
  {
   "cell_type": "code",
   "execution_count": null,
   "outputs": [],
   "source": [
    "df_ichi"
   ],
   "metadata": {
    "collapsed": false,
    "pycharm": {
     "name": "#%%\n"
    }
   }
  },
  {
   "cell_type": "code",
   "execution_count": null,
   "outputs": [],
   "source": [
    "# Comprobar si hay algún valor no numérico en las columnas\n",
    "for column in ['Close', 'tenkan_sen', 'kijun_sen', 'senkou_span_a', 'senkou_span_b']:\n",
    "    print(df_ichi[pd.to_numeric(df[column], errors='coerce').isnull()])"
   ],
   "metadata": {
    "collapsed": false,
    "pycharm": {
     "name": "#%%\n"
    }
   }
  },
  {
   "cell_type": "code",
   "execution_count": null,
   "outputs": [],
   "source": [],
   "metadata": {
    "collapsed": false,
    "pycharm": {
     "name": "#%%\n"
    }
   }
  },
  {
   "cell_type": "code",
   "execution_count": null,
   "outputs": [],
   "source": [],
   "metadata": {
    "collapsed": false,
    "pycharm": {
     "name": "#%%\n"
    }
   }
  },
  {
   "cell_type": "code",
   "execution_count": null,
   "outputs": [],
   "source": [],
   "metadata": {
    "collapsed": false,
    "pycharm": {
     "name": "#%%\n"
    }
   }
  },
  {
   "cell_type": "markdown",
   "source": [
    "## Data preparation"
   ],
   "metadata": {
    "collapsed": false,
    "pycharm": {
     "name": "#%% md\n"
    }
   }
  },
  {
   "cell_type": "markdown",
   "source": [
    "## Ichimoku Kinko Hyo system"
   ],
   "metadata": {
    "collapsed": false
   }
  },
  {
   "cell_type": "code",
   "execution_count": 9,
   "outputs": [
    {
     "data": {
      "text/plain": "                      Time     Open     High      Low    Close  Volume\n0      2007-01-01 06:00:00  1.95805  1.95836  1.95795  1.95817    1728\n1      2007-01-01 06:30:00  1.95813  1.95835  1.95788  1.95815    1651\n2      2007-01-01 07:00:00  1.95815  1.95832  1.95807  1.95824    1352\n3      2007-01-01 07:30:00  1.95818  1.95833  1.95807  1.95822    1722\n4      2007-01-01 08:00:00  1.95815  1.95871  1.95808  1.95852    1729\n...                    ...      ...      ...      ...      ...     ...\n193895 2022-07-13 03:30:00  1.18882  1.18885  1.18852  1.18863     596\n193896 2022-07-13 04:00:00  1.18858  1.18894  1.18796  1.18813    1522\n193897 2022-07-13 04:30:00  1.18811  1.18827  1.18779  1.18794    1852\n193898 2022-07-13 05:00:00  1.18793  1.18814  1.18744  1.18797    1404\n193899 2022-07-13 05:30:00  1.18796  1.18820  1.18755  1.18774    1175\n\n[193900 rows x 6 columns]",
      "text/html": "<div>\n<style scoped>\n    .dataframe tbody tr th:only-of-type {\n        vertical-align: middle;\n    }\n\n    .dataframe tbody tr th {\n        vertical-align: top;\n    }\n\n    .dataframe thead th {\n        text-align: right;\n    }\n</style>\n<table border=\"1\" class=\"dataframe\">\n  <thead>\n    <tr style=\"text-align: right;\">\n      <th></th>\n      <th>Time</th>\n      <th>Open</th>\n      <th>High</th>\n      <th>Low</th>\n      <th>Close</th>\n      <th>Volume</th>\n    </tr>\n  </thead>\n  <tbody>\n    <tr>\n      <th>0</th>\n      <td>2007-01-01 06:00:00</td>\n      <td>1.95805</td>\n      <td>1.95836</td>\n      <td>1.95795</td>\n      <td>1.95817</td>\n      <td>1728</td>\n    </tr>\n    <tr>\n      <th>1</th>\n      <td>2007-01-01 06:30:00</td>\n      <td>1.95813</td>\n      <td>1.95835</td>\n      <td>1.95788</td>\n      <td>1.95815</td>\n      <td>1651</td>\n    </tr>\n    <tr>\n      <th>2</th>\n      <td>2007-01-01 07:00:00</td>\n      <td>1.95815</td>\n      <td>1.95832</td>\n      <td>1.95807</td>\n      <td>1.95824</td>\n      <td>1352</td>\n    </tr>\n    <tr>\n      <th>3</th>\n      <td>2007-01-01 07:30:00</td>\n      <td>1.95818</td>\n      <td>1.95833</td>\n      <td>1.95807</td>\n      <td>1.95822</td>\n      <td>1722</td>\n    </tr>\n    <tr>\n      <th>4</th>\n      <td>2007-01-01 08:00:00</td>\n      <td>1.95815</td>\n      <td>1.95871</td>\n      <td>1.95808</td>\n      <td>1.95852</td>\n      <td>1729</td>\n    </tr>\n    <tr>\n      <th>...</th>\n      <td>...</td>\n      <td>...</td>\n      <td>...</td>\n      <td>...</td>\n      <td>...</td>\n      <td>...</td>\n    </tr>\n    <tr>\n      <th>193895</th>\n      <td>2022-07-13 03:30:00</td>\n      <td>1.18882</td>\n      <td>1.18885</td>\n      <td>1.18852</td>\n      <td>1.18863</td>\n      <td>596</td>\n    </tr>\n    <tr>\n      <th>193896</th>\n      <td>2022-07-13 04:00:00</td>\n      <td>1.18858</td>\n      <td>1.18894</td>\n      <td>1.18796</td>\n      <td>1.18813</td>\n      <td>1522</td>\n    </tr>\n    <tr>\n      <th>193897</th>\n      <td>2022-07-13 04:30:00</td>\n      <td>1.18811</td>\n      <td>1.18827</td>\n      <td>1.18779</td>\n      <td>1.18794</td>\n      <td>1852</td>\n    </tr>\n    <tr>\n      <th>193898</th>\n      <td>2022-07-13 05:00:00</td>\n      <td>1.18793</td>\n      <td>1.18814</td>\n      <td>1.18744</td>\n      <td>1.18797</td>\n      <td>1404</td>\n    </tr>\n    <tr>\n      <th>193899</th>\n      <td>2022-07-13 05:30:00</td>\n      <td>1.18796</td>\n      <td>1.18820</td>\n      <td>1.18755</td>\n      <td>1.18774</td>\n      <td>1175</td>\n    </tr>\n  </tbody>\n</table>\n<p>193900 rows × 6 columns</p>\n</div>"
     },
     "execution_count": 9,
     "metadata": {},
     "output_type": "execute_result"
    }
   ],
   "source": [
    "df = get_data()\n",
    "df"
   ],
   "metadata": {
    "collapsed": false,
    "ExecuteTime": {
     "end_time": "2023-06-09T02:53:31.593484300Z",
     "start_time": "2023-06-09T02:53:31.211314700Z"
    }
   }
  },
  {
   "cell_type": "code",
   "execution_count": 25,
   "outputs": [],
   "source": [
    "def calculate_ichimoku(df, tenkan_window=20, kijun_window=60, senkou_window=120):\n",
    "    \"\"\"\n",
    "    Calcula las líneas del indicador Ichimoku Kinko Hyo.\n",
    "\n",
    "    Parámetros:\n",
    "    df (pandas.DataFrame): DataFrame con las columnas 'High', 'Low', y 'Close'.\n",
    "    tenkan_window (int): Número de períodos para el cálculo de Tenkan-Sen (Línea de Conversión). Por defecto: 20\n",
    "    kijun_window (int): Número de períodos para el cálculo de Kijun-Sen (Línea Base). Por defecto: 60\n",
    "    senkou_window (int): Número de períodos para el cálculo de Senkou Span B (Segunda Línea Líder). Por defecto: 120\n",
    "\n",
    "    Retorna:\n",
    "    df (pandas.DataFrame): DataFrame original con columnas adicionales para cada línea del indicador Ichimoku.\n",
    "    \"\"\"\n",
    "    # Tenkan-Sen (Línea de Conversión)\n",
    "    high_9 = df['High'].rolling(window=tenkan_window).max()\n",
    "    low_9 = df['Low'].rolling(window=tenkan_window).min()\n",
    "    df['tenkan_sen'] = (high_9 + low_9) / 2\n",
    "\n",
    "    # Kijun-Sen (Línea Base)\n",
    "    high_26 = df['High'].rolling(window=kijun_window).max()\n",
    "    low_26 = df['Low'].rolling(window=kijun_window).min()\n",
    "    df['kijun_sen'] = (high_26 + low_26) / 2\n",
    "\n",
    "    # Senkou Span A (Primera Línea Líder)\n",
    "    df['senkou_span_a'] = ((df['tenkan_sen'] + df['kijun_sen']) / 2).shift(kijun_window)\n",
    "\n",
    "    # Senkou Span B (Segunda Línea Líder)\n",
    "    high_52 = df['High'].rolling(window=senkou_window).max()\n",
    "    low_52 = df['Low'].rolling(window=senkou_window).min()\n",
    "    df['senkou_span_b'] = ((high_52 + low_52) / 2).shift(senkou_window)\n",
    "\n",
    "    # Chikou Span (Línea de Retraso)\n",
    "    df['chikou_span'] = df['Close'].shift(-kijun_window)\n",
    "\n",
    "    ## Paso 1. ##\n",
    "    # Agrega una nueva columna que indica si el precio de cierre está por encima o por debajo de la nube\n",
    "    df['above_cloud'] = (df['Close'] > df[['senkou_span_a', 'senkou_span_b']].max(axis=1)).astype(int)\n",
    "    df['below_cloud'] = (df['Close'] < df[['senkou_span_a', 'senkou_span_b']].min(axis=1)).astype(int)\n",
    "\n",
    "    # Agregamos una columna \"signal\" que resume los resultados.\n",
    "    # Si el precio de cierre está por encima de la nube, el valor es 1, e indica comprar.\n",
    "    # Si el precio de cierre está por debajo de la nube, el valor es -1, e indica vender.\n",
    "    # Si el precio de cierre está dentro de la nube, el valor es 0, e indica no hacer nada.\n",
    "    df['signal'] = df['above_cloud'] - df['below_cloud']\n",
    "\n",
    "    # Eliminamos las columnas temporales 'above_cloud' y 'below_cloud'\n",
    "    df.drop(['above_cloud', 'below_cloud'], axis=1, inplace=True)\n",
    "\n",
    "    ## Paso 2. ##\n",
    "    # Agrega una nueva columna que indica si Tenkan-sen cruza Kijun-sen desde abajo (señal de compra)\n",
    "    df['bullish_cross'] = (df['tenkan_sen'].shift(1) < df['kijun_sen'].shift(1)) & (df['tenkan_sen'] > df['kijun_sen'])\n",
    "\n",
    "    # Agrega una nueva columna que indica si Tenkan-sen cruza Kijun-sen desde arriba (señal de venta)\n",
    "    df['bearish_cross'] = (df['tenkan_sen'].shift(1) > df['kijun_sen'].shift(1)) & (df['tenkan_sen'] < df['kijun_sen'])\n",
    "\n",
    "    # Agregamos una columna \"cross_signal\" que resume los resultados.\n",
    "    # Si 'cross_signal' es 1, podría ser una señal de compra.\n",
    "    # Si 'cross_signal' es -1, podría ser una señal de venta.\n",
    "    df['cross_signal'] = df['bullish_cross'].astype(int) - df['bearish_cross'].astype(int)\n",
    "\n",
    "    # Eliminamos las columnas temporales 'bullish_cross' y 'bearish_cross'\n",
    "    df.drop(['bullish_cross', 'bearish_cross'], axis=1, inplace=True)\n",
    "\n",
    "    ## Paso 3. ##\n",
    "    # Agrega una nueva columna que indica si Chikou Span cruza el precio en dirección ascendente (señal de compra)\n",
    "    df['chikou_cross_up'] = (df['chikou_span'].shift(kijun_window) < df['Close'].shift(kijun_window)) & (df['chikou_span'] > df['Close'].shift(kijun_window))\n",
    "\n",
    "    # Agrega una nueva columna que indica si Chikou Span cruza el precio en dirección descendente (señal de venta)\n",
    "    df['chikou_cross_down'] = (df['chikou_span'].shift(kijun_window) > df['Close'].shift(kijun_window)) & (df['chikou_span'] < df['Close'].shift(kijun_window))\n",
    "\n",
    "    # Agregamos una columna \"chikou_signal\" que resume los resultados.\n",
    "    # Si 'chikou_signal' es 1, podría ser una señal de compra.\n",
    "    # Si 'chikou_signal' es -1, podría ser una señal de venta.\n",
    "    df['chikou_signal'] = df['chikou_cross_up'].astype(int) - df['chikou_cross_down'].astype(int)\n",
    "\n",
    "    # Eliminamos las columnas temporales 'chikou_cross_up' y 'chikou_cross_down'\n",
    "    df.drop(['chikou_cross_up', 'chikou_cross_down'], axis=1, inplace=True)\n",
    "\n",
    "    ## Paso 4. ##\n",
    "    # Añade una nueva columna que indica si Senkou Span A está por encima de Senkou Span B (tendencia alcista)\n",
    "    df['cloud_green'] = (df['senkou_span_a'] > df['senkou_span_b']).astype(int)\n",
    "\n",
    "    # Añade una nueva columna que indica si Senkou Span B está por encima de Senkou Span A (tendencia bajista)\n",
    "    df['cloud_red'] = (df['senkou_span_a'] < df['senkou_span_b']).astype(int)\n",
    "\n",
    "    # Añadimos una columna \"cloud_signal\" que resume los resultados\n",
    "    # Si 'cloud_signal' es 1, podría ser una tendencia alcista.\n",
    "    # Si 'cloud_signal' es -1, podría ser una tendencia bajista.\n",
    "    df['cloud_signal'] = df['cloud_green'] - df['cloud_red']\n",
    "\n",
    "    # Eliminamos las columnas temporales 'cloud_green' y 'cloud_red'\n",
    "    df.drop(['cloud_green', 'cloud_red'], axis=1, inplace=True)\n",
    "\n",
    "    # Añade una columna de resumen que suma todas las señales\n",
    "    # Si 'summary_signal' es 4, podría ser una señal de compra.\n",
    "    # Si 'summary_signal' es -4, podría ser una señal de venta.\n",
    "    df['summary_signal'] = df['signal'] + df['cross_signal'] + df['chikou_signal'] + df['cloud_signal']\n",
    "\n",
    "    return df"
   ],
   "metadata": {
    "collapsed": false,
    "ExecuteTime": {
     "end_time": "2023-06-09T03:22:00.199501300Z",
     "start_time": "2023-06-09T03:22:00.168199300Z"
    }
   }
  },
  {
   "cell_type": "code",
   "execution_count": 69,
   "outputs": [
    {
     "data": {
      "text/plain": "                        Open     High      Low    Close  Volume  tenkan_sen  \\\nTime                                                                          \n2007-01-01 06:00:00  1.95805  1.95836  1.95795  1.95817    1728         NaN   \n2007-01-01 06:30:00  1.95813  1.95835  1.95788  1.95815    1651         NaN   \n2007-01-01 07:00:00  1.95815  1.95832  1.95807  1.95824    1352         NaN   \n2007-01-01 07:30:00  1.95818  1.95833  1.95807  1.95822    1722         NaN   \n2007-01-01 08:00:00  1.95815  1.95871  1.95808  1.95852    1729         NaN   \n...                      ...      ...      ...      ...     ...         ...   \n2022-07-13 03:30:00  1.18882  1.18885  1.18852  1.18863     596    1.187440   \n2022-07-13 04:00:00  1.18858  1.18894  1.18796  1.18813    1522    1.187445   \n2022-07-13 04:30:00  1.18811  1.18827  1.18779  1.18794    1852    1.188710   \n2022-07-13 05:00:00  1.18793  1.18814  1.18744  1.18797    1404    1.188715   \n2022-07-13 05:30:00  1.18796  1.18820  1.18755  1.18774    1175    1.188715   \n\n                     kijun_sen  senkou_span_a  senkou_span_b  chikou_span  \\\nTime                                                                        \n2007-01-01 06:00:00        NaN            NaN            NaN      1.96562   \n2007-01-01 06:30:00        NaN            NaN            NaN      1.96379   \n2007-01-01 07:00:00        NaN            NaN            NaN      1.96843   \n2007-01-01 07:30:00        NaN            NaN            NaN      1.96847   \n2007-01-01 08:00:00        NaN            NaN            NaN      1.97258   \n...                        ...            ...            ...          ...   \n2022-07-13 03:30:00    1.18614       1.194045        1.19655          NaN   \n2022-07-13 04:00:00    1.18614       1.194045        1.19655          NaN   \n2022-07-13 04:30:00    1.18614       1.194045        1.19655          NaN   \n2022-07-13 05:00:00    1.18614       1.194045        1.19655          NaN   \n2022-07-13 05:30:00    1.18614       1.194045        1.19655          NaN   \n\n                     signal  cross_signal  chikou_signal  cloud_signal  \\\nTime                                                                     \n2007-01-01 06:00:00       0             0              0             0   \n2007-01-01 06:30:00       0             0              0             0   \n2007-01-01 07:00:00       0             0              0             0   \n2007-01-01 07:30:00       0             0              0             0   \n2007-01-01 08:00:00       0             0              0             0   \n...                     ...           ...            ...           ...   \n2022-07-13 03:30:00      -1             0              0            -1   \n2022-07-13 04:00:00      -1             0              0            -1   \n2022-07-13 04:30:00      -1             0              0            -1   \n2022-07-13 05:00:00      -1             0              0            -1   \n2022-07-13 05:30:00      -1             0              0            -1   \n\n                     summary_signal  \nTime                                 \n2007-01-01 06:00:00               0  \n2007-01-01 06:30:00               0  \n2007-01-01 07:00:00               0  \n2007-01-01 07:30:00               0  \n2007-01-01 08:00:00               0  \n...                             ...  \n2022-07-13 03:30:00              -2  \n2022-07-13 04:00:00              -2  \n2022-07-13 04:30:00              -2  \n2022-07-13 05:00:00              -2  \n2022-07-13 05:30:00              -2  \n\n[193900 rows x 15 columns]",
      "text/html": "<div>\n<style scoped>\n    .dataframe tbody tr th:only-of-type {\n        vertical-align: middle;\n    }\n\n    .dataframe tbody tr th {\n        vertical-align: top;\n    }\n\n    .dataframe thead th {\n        text-align: right;\n    }\n</style>\n<table border=\"1\" class=\"dataframe\">\n  <thead>\n    <tr style=\"text-align: right;\">\n      <th></th>\n      <th>Open</th>\n      <th>High</th>\n      <th>Low</th>\n      <th>Close</th>\n      <th>Volume</th>\n      <th>tenkan_sen</th>\n      <th>kijun_sen</th>\n      <th>senkou_span_a</th>\n      <th>senkou_span_b</th>\n      <th>chikou_span</th>\n      <th>signal</th>\n      <th>cross_signal</th>\n      <th>chikou_signal</th>\n      <th>cloud_signal</th>\n      <th>summary_signal</th>\n    </tr>\n    <tr>\n      <th>Time</th>\n      <th></th>\n      <th></th>\n      <th></th>\n      <th></th>\n      <th></th>\n      <th></th>\n      <th></th>\n      <th></th>\n      <th></th>\n      <th></th>\n      <th></th>\n      <th></th>\n      <th></th>\n      <th></th>\n      <th></th>\n    </tr>\n  </thead>\n  <tbody>\n    <tr>\n      <th>2007-01-01 06:00:00</th>\n      <td>1.95805</td>\n      <td>1.95836</td>\n      <td>1.95795</td>\n      <td>1.95817</td>\n      <td>1728</td>\n      <td>NaN</td>\n      <td>NaN</td>\n      <td>NaN</td>\n      <td>NaN</td>\n      <td>1.96562</td>\n      <td>0</td>\n      <td>0</td>\n      <td>0</td>\n      <td>0</td>\n      <td>0</td>\n    </tr>\n    <tr>\n      <th>2007-01-01 06:30:00</th>\n      <td>1.95813</td>\n      <td>1.95835</td>\n      <td>1.95788</td>\n      <td>1.95815</td>\n      <td>1651</td>\n      <td>NaN</td>\n      <td>NaN</td>\n      <td>NaN</td>\n      <td>NaN</td>\n      <td>1.96379</td>\n      <td>0</td>\n      <td>0</td>\n      <td>0</td>\n      <td>0</td>\n      <td>0</td>\n    </tr>\n    <tr>\n      <th>2007-01-01 07:00:00</th>\n      <td>1.95815</td>\n      <td>1.95832</td>\n      <td>1.95807</td>\n      <td>1.95824</td>\n      <td>1352</td>\n      <td>NaN</td>\n      <td>NaN</td>\n      <td>NaN</td>\n      <td>NaN</td>\n      <td>1.96843</td>\n      <td>0</td>\n      <td>0</td>\n      <td>0</td>\n      <td>0</td>\n      <td>0</td>\n    </tr>\n    <tr>\n      <th>2007-01-01 07:30:00</th>\n      <td>1.95818</td>\n      <td>1.95833</td>\n      <td>1.95807</td>\n      <td>1.95822</td>\n      <td>1722</td>\n      <td>NaN</td>\n      <td>NaN</td>\n      <td>NaN</td>\n      <td>NaN</td>\n      <td>1.96847</td>\n      <td>0</td>\n      <td>0</td>\n      <td>0</td>\n      <td>0</td>\n      <td>0</td>\n    </tr>\n    <tr>\n      <th>2007-01-01 08:00:00</th>\n      <td>1.95815</td>\n      <td>1.95871</td>\n      <td>1.95808</td>\n      <td>1.95852</td>\n      <td>1729</td>\n      <td>NaN</td>\n      <td>NaN</td>\n      <td>NaN</td>\n      <td>NaN</td>\n      <td>1.97258</td>\n      <td>0</td>\n      <td>0</td>\n      <td>0</td>\n      <td>0</td>\n      <td>0</td>\n    </tr>\n    <tr>\n      <th>...</th>\n      <td>...</td>\n      <td>...</td>\n      <td>...</td>\n      <td>...</td>\n      <td>...</td>\n      <td>...</td>\n      <td>...</td>\n      <td>...</td>\n      <td>...</td>\n      <td>...</td>\n      <td>...</td>\n      <td>...</td>\n      <td>...</td>\n      <td>...</td>\n      <td>...</td>\n    </tr>\n    <tr>\n      <th>2022-07-13 03:30:00</th>\n      <td>1.18882</td>\n      <td>1.18885</td>\n      <td>1.18852</td>\n      <td>1.18863</td>\n      <td>596</td>\n      <td>1.187440</td>\n      <td>1.18614</td>\n      <td>1.194045</td>\n      <td>1.19655</td>\n      <td>NaN</td>\n      <td>-1</td>\n      <td>0</td>\n      <td>0</td>\n      <td>-1</td>\n      <td>-2</td>\n    </tr>\n    <tr>\n      <th>2022-07-13 04:00:00</th>\n      <td>1.18858</td>\n      <td>1.18894</td>\n      <td>1.18796</td>\n      <td>1.18813</td>\n      <td>1522</td>\n      <td>1.187445</td>\n      <td>1.18614</td>\n      <td>1.194045</td>\n      <td>1.19655</td>\n      <td>NaN</td>\n      <td>-1</td>\n      <td>0</td>\n      <td>0</td>\n      <td>-1</td>\n      <td>-2</td>\n    </tr>\n    <tr>\n      <th>2022-07-13 04:30:00</th>\n      <td>1.18811</td>\n      <td>1.18827</td>\n      <td>1.18779</td>\n      <td>1.18794</td>\n      <td>1852</td>\n      <td>1.188710</td>\n      <td>1.18614</td>\n      <td>1.194045</td>\n      <td>1.19655</td>\n      <td>NaN</td>\n      <td>-1</td>\n      <td>0</td>\n      <td>0</td>\n      <td>-1</td>\n      <td>-2</td>\n    </tr>\n    <tr>\n      <th>2022-07-13 05:00:00</th>\n      <td>1.18793</td>\n      <td>1.18814</td>\n      <td>1.18744</td>\n      <td>1.18797</td>\n      <td>1404</td>\n      <td>1.188715</td>\n      <td>1.18614</td>\n      <td>1.194045</td>\n      <td>1.19655</td>\n      <td>NaN</td>\n      <td>-1</td>\n      <td>0</td>\n      <td>0</td>\n      <td>-1</td>\n      <td>-2</td>\n    </tr>\n    <tr>\n      <th>2022-07-13 05:30:00</th>\n      <td>1.18796</td>\n      <td>1.18820</td>\n      <td>1.18755</td>\n      <td>1.18774</td>\n      <td>1175</td>\n      <td>1.188715</td>\n      <td>1.18614</td>\n      <td>1.194045</td>\n      <td>1.19655</td>\n      <td>NaN</td>\n      <td>-1</td>\n      <td>0</td>\n      <td>0</td>\n      <td>-1</td>\n      <td>-2</td>\n    </tr>\n  </tbody>\n</table>\n<p>193900 rows × 15 columns</p>\n</div>"
     },
     "execution_count": 69,
     "metadata": {},
     "output_type": "execute_result"
    }
   ],
   "source": [
    "df_ichi = calculate_ichimoku(df)\n",
    "df_ichi"
   ],
   "metadata": {
    "collapsed": false,
    "ExecuteTime": {
     "end_time": "2023-06-09T03:49:42.946449500Z",
     "start_time": "2023-06-09T03:49:42.742627300Z"
    }
   }
  },
  {
   "cell_type": "code",
   "execution_count": 64,
   "outputs": [],
   "source": [
    "import matplotlib.pyplot as plt\n",
    "import matplotlib.lines as mlines\n",
    "\n",
    "def plot_ichimoku(df, start_date=None, end_date=None):\n",
    "    \"\"\"\n",
    "    Grafica las líneas del indicador Ichimoku Kinko Hyo y las señales de trading.\n",
    "\n",
    "    Parámetros:\n",
    "    df (pandas.DataFrame): DataFrame con las columnas de Ichimoku y las señales.\n",
    "    start_date (str): Fecha de inicio del gráfico en el formato 'AAAA-MM-DD'. Si no se proporciona, se usa el primer índice del DataFrame.\n",
    "    end_date (str): Fecha final del gráfico en el formato 'AAAA-MM-DD'. Si no se proporciona, se usa el último índice del DataFrame.\n",
    "    \"\"\"\n",
    "\n",
    "    # Si no se proporciona start_date o end_date, se utiliza todo el rango de fechas del DataFrame\n",
    "    if start_date is None:\n",
    "        start_date = df.index.min()\n",
    "    if end_date is None:\n",
    "        end_date = df.index.max()\n",
    "\n",
    "    # Selecciona el rango de fechas del DataFrame\n",
    "    df = df.loc[start_date:end_date]\n",
    "\n",
    "    # Crea una nueva figura y un conjunto de subtramas\n",
    "    fig, ax = plt.subplots(figsize=(30,15))\n",
    "\n",
    "    # Grafica el precio de cierre\n",
    "    df['Close'].plot(ax=ax, color='black', label='Close')\n",
    "\n",
    "    # Grafica Tenkan-sen\n",
    "    df['tenkan_sen'].plot(ax=ax, color='red', label='Tenkan-sen')\n",
    "\n",
    "    # Grafica Kijun-sen\n",
    "    df['kijun_sen'].plot(ax=ax, color='blue', label='Kijun-sen')\n",
    "\n",
    "    # Rellena la nube Ichimoku\n",
    "    ax.fill_between(df.index, df['senkou_span_a'], df['senkou_span_b'], where=df['senkou_span_a'] > df['senkou_span_b'], color='lightgreen', alpha=0.5)\n",
    "    ax.fill_between(df.index, df['senkou_span_a'], df['senkou_span_b'], where=df['senkou_span_a'] < df['senkou_span_b'], color='lightcoral', alpha=0.5)\n",
    "\n",
    "    # Resalta las señales de compra\n",
    "    buy_signals = df[df['summary_signal'] == 4]\n",
    "    ax.scatter(buy_signals.index, buy_signals['Close'], color='green', marker='^', s=100)\n",
    "\n",
    "    # Resalta las señales de venta\n",
    "    sell_signals = df[df['summary_signal'] == -4]\n",
    "    ax.scatter(sell_signals.index, sell_signals['Close'], color='red', marker='v', s=100)\n",
    "\n",
    "    # Crea dos objetos Line2D (lineas sin segmentos) para usarlos en la leyenda\n",
    "    buy_line = mlines.Line2D([], [], color='green', marker='^', linestyle='None', markersize=10, label='Buy signal')\n",
    "    sell_line = mlines.Line2D([], [], color='red', marker='v', linestyle='None', markersize=10, label='Sell signal')\n",
    "\n",
    "    # Muestra la leyenda\n",
    "    ax.legend(handles=[buy_line, sell_line], title='Signals')\n",
    "\n",
    "    # Muestra el gráfico\n",
    "    plt.show()\n",
    "\n"
   ],
   "metadata": {
    "collapsed": false,
    "ExecuteTime": {
     "end_time": "2023-06-09T03:44:15.408259Z",
     "start_time": "2023-06-09T03:44:15.345602Z"
    }
   }
  },
  {
   "cell_type": "code",
   "execution_count": 65,
   "outputs": [
    {
     "name": "stderr",
     "output_type": "stream",
     "text": [
      "C:\\Users\\alvar\\AppData\\Local\\Temp\\ipykernel_14212\\861693201.py:21: FutureWarning: Value based partial slicing on non-monotonic DatetimeIndexes with non-existing keys is deprecated and will raise a KeyError in a future Version.\n",
      "  df = df.loc[start_date:end_date]\n"
     ]
    },
    {
     "ename": "TypeError",
     "evalue": "The DTypes <class 'numpy.dtype[float64]'> and <class 'numpy.dtype[datetime64]'> do not have a common DType. For example they cannot be stored in a single array unless the dtype is `object`.",
     "output_type": "error",
     "traceback": [
      "\u001B[1;31m---------------------------------------------------------------------------\u001B[0m",
      "\u001B[1;31mTypeError\u001B[0m                                 Traceback (most recent call last)",
      "Input \u001B[1;32mIn [65]\u001B[0m, in \u001B[0;36m<cell line: 1>\u001B[1;34m()\u001B[0m\n\u001B[1;32m----> 1\u001B[0m \u001B[43mplot_ichimoku\u001B[49m\u001B[43m(\u001B[49m\u001B[43mdf_ichi\u001B[49m\u001B[43m,\u001B[49m\u001B[43m \u001B[49m\u001B[43mstart_date\u001B[49m\u001B[38;5;241;43m=\u001B[39;49m\u001B[38;5;124;43m'\u001B[39;49m\u001B[38;5;124;43m2019-08-25\u001B[39;49m\u001B[38;5;124;43m'\u001B[39;49m\u001B[43m,\u001B[49m\u001B[43m \u001B[49m\u001B[43mend_date\u001B[49m\u001B[38;5;241;43m=\u001B[39;49m\u001B[38;5;124;43m'\u001B[39;49m\u001B[38;5;124;43m2019-08-30\u001B[39;49m\u001B[38;5;124;43m'\u001B[39;49m\u001B[43m)\u001B[49m\n",
      "Input \u001B[1;32mIn [64]\u001B[0m, in \u001B[0;36mplot_ichimoku\u001B[1;34m(df, start_date, end_date)\u001B[0m\n\u001B[0;32m     43\u001B[0m \u001B[38;5;66;03m# Resalta las señales de venta\u001B[39;00m\n\u001B[0;32m     44\u001B[0m sell_signals \u001B[38;5;241m=\u001B[39m df[df[\u001B[38;5;124m'\u001B[39m\u001B[38;5;124msummary_signal\u001B[39m\u001B[38;5;124m'\u001B[39m] \u001B[38;5;241m==\u001B[39m \u001B[38;5;241m-\u001B[39m\u001B[38;5;241m4\u001B[39m]\n\u001B[1;32m---> 45\u001B[0m \u001B[43max\u001B[49m\u001B[38;5;241;43m.\u001B[39;49m\u001B[43mscatter\u001B[49m\u001B[43m(\u001B[49m\u001B[43msell_signals\u001B[49m\u001B[38;5;241;43m.\u001B[39;49m\u001B[43mindex\u001B[49m\u001B[43m,\u001B[49m\u001B[43m \u001B[49m\u001B[43msell_signals\u001B[49m\u001B[43m[\u001B[49m\u001B[38;5;124;43m'\u001B[39;49m\u001B[38;5;124;43mClose\u001B[39;49m\u001B[38;5;124;43m'\u001B[39;49m\u001B[43m]\u001B[49m\u001B[43m,\u001B[49m\u001B[43m \u001B[49m\u001B[43mcolor\u001B[49m\u001B[38;5;241;43m=\u001B[39;49m\u001B[38;5;124;43m'\u001B[39;49m\u001B[38;5;124;43mred\u001B[39;49m\u001B[38;5;124;43m'\u001B[39;49m\u001B[43m,\u001B[49m\u001B[43m \u001B[49m\u001B[43mmarker\u001B[49m\u001B[38;5;241;43m=\u001B[39;49m\u001B[38;5;124;43m'\u001B[39;49m\u001B[38;5;124;43mv\u001B[39;49m\u001B[38;5;124;43m'\u001B[39;49m\u001B[43m,\u001B[49m\u001B[43m \u001B[49m\u001B[43ms\u001B[49m\u001B[38;5;241;43m=\u001B[39;49m\u001B[38;5;241;43m100\u001B[39;49m\u001B[43m)\u001B[49m\n\u001B[0;32m     47\u001B[0m \u001B[38;5;66;03m# Crea dos objetos Line2D (lineas sin segmentos) para usarlos en la leyenda\u001B[39;00m\n\u001B[0;32m     48\u001B[0m buy_line \u001B[38;5;241m=\u001B[39m mlines\u001B[38;5;241m.\u001B[39mLine2D([], [], color\u001B[38;5;241m=\u001B[39m\u001B[38;5;124m'\u001B[39m\u001B[38;5;124mgreen\u001B[39m\u001B[38;5;124m'\u001B[39m, marker\u001B[38;5;241m=\u001B[39m\u001B[38;5;124m'\u001B[39m\u001B[38;5;124m^\u001B[39m\u001B[38;5;124m'\u001B[39m, linestyle\u001B[38;5;241m=\u001B[39m\u001B[38;5;124m'\u001B[39m\u001B[38;5;124mNone\u001B[39m\u001B[38;5;124m'\u001B[39m, markersize\u001B[38;5;241m=\u001B[39m\u001B[38;5;241m10\u001B[39m, label\u001B[38;5;241m=\u001B[39m\u001B[38;5;124m'\u001B[39m\u001B[38;5;124mBuy signal\u001B[39m\u001B[38;5;124m'\u001B[39m)\n",
      "File \u001B[1;32m~\\anaconda3\\envs\\sk_tf_gpu_39\\lib\\site-packages\\matplotlib\\__init__.py:1412\u001B[0m, in \u001B[0;36m_preprocess_data.<locals>.inner\u001B[1;34m(ax, data, *args, **kwargs)\u001B[0m\n\u001B[0;32m   1409\u001B[0m \u001B[38;5;129m@functools\u001B[39m\u001B[38;5;241m.\u001B[39mwraps(func)\n\u001B[0;32m   1410\u001B[0m \u001B[38;5;28;01mdef\u001B[39;00m \u001B[38;5;21minner\u001B[39m(ax, \u001B[38;5;241m*\u001B[39margs, data\u001B[38;5;241m=\u001B[39m\u001B[38;5;28;01mNone\u001B[39;00m, \u001B[38;5;241m*\u001B[39m\u001B[38;5;241m*\u001B[39mkwargs):\n\u001B[0;32m   1411\u001B[0m     \u001B[38;5;28;01mif\u001B[39;00m data \u001B[38;5;129;01mis\u001B[39;00m \u001B[38;5;28;01mNone\u001B[39;00m:\n\u001B[1;32m-> 1412\u001B[0m         \u001B[38;5;28;01mreturn\u001B[39;00m func(ax, \u001B[38;5;241m*\u001B[39m\u001B[38;5;28mmap\u001B[39m(sanitize_sequence, args), \u001B[38;5;241m*\u001B[39m\u001B[38;5;241m*\u001B[39mkwargs)\n\u001B[0;32m   1414\u001B[0m     bound \u001B[38;5;241m=\u001B[39m new_sig\u001B[38;5;241m.\u001B[39mbind(ax, \u001B[38;5;241m*\u001B[39margs, \u001B[38;5;241m*\u001B[39m\u001B[38;5;241m*\u001B[39mkwargs)\n\u001B[0;32m   1415\u001B[0m     auto_label \u001B[38;5;241m=\u001B[39m (bound\u001B[38;5;241m.\u001B[39marguments\u001B[38;5;241m.\u001B[39mget(label_namer)\n\u001B[0;32m   1416\u001B[0m                   \u001B[38;5;129;01mor\u001B[39;00m bound\u001B[38;5;241m.\u001B[39mkwargs\u001B[38;5;241m.\u001B[39mget(label_namer))\n",
      "File \u001B[1;32m~\\anaconda3\\envs\\sk_tf_gpu_39\\lib\\site-packages\\matplotlib\\axes\\_axes.py:4449\u001B[0m, in \u001B[0;36mAxes.scatter\u001B[1;34m(self, x, y, s, c, marker, cmap, norm, vmin, vmax, alpha, linewidths, edgecolors, plotnonfinite, **kwargs)\u001B[0m\n\u001B[0;32m   4444\u001B[0m     \u001B[38;5;28;01melif\u001B[39;00m np\u001B[38;5;241m.\u001B[39miterable(linewidths):\n\u001B[0;32m   4445\u001B[0m         linewidths \u001B[38;5;241m=\u001B[39m [\n\u001B[0;32m   4446\u001B[0m             lw \u001B[38;5;28;01mif\u001B[39;00m lw \u001B[38;5;129;01mis\u001B[39;00m \u001B[38;5;129;01mnot\u001B[39;00m \u001B[38;5;28;01mNone\u001B[39;00m \u001B[38;5;28;01melse\u001B[39;00m rcParams[\u001B[38;5;124m'\u001B[39m\u001B[38;5;124mlines.linewidth\u001B[39m\u001B[38;5;124m'\u001B[39m]\n\u001B[0;32m   4447\u001B[0m             \u001B[38;5;28;01mfor\u001B[39;00m lw \u001B[38;5;129;01min\u001B[39;00m linewidths]\n\u001B[1;32m-> 4449\u001B[0m offsets \u001B[38;5;241m=\u001B[39m \u001B[43mnp\u001B[49m\u001B[38;5;241;43m.\u001B[39;49m\u001B[43mma\u001B[49m\u001B[38;5;241;43m.\u001B[39;49m\u001B[43mcolumn_stack\u001B[49m\u001B[43m(\u001B[49m\u001B[43m[\u001B[49m\u001B[43mx\u001B[49m\u001B[43m,\u001B[49m\u001B[43m \u001B[49m\u001B[43my\u001B[49m\u001B[43m]\u001B[49m\u001B[43m)\u001B[49m\n\u001B[0;32m   4451\u001B[0m collection \u001B[38;5;241m=\u001B[39m mcoll\u001B[38;5;241m.\u001B[39mPathCollection(\n\u001B[0;32m   4452\u001B[0m         (path,), scales,\n\u001B[0;32m   4453\u001B[0m         facecolors\u001B[38;5;241m=\u001B[39mcolors,\n\u001B[1;32m   (...)\u001B[0m\n\u001B[0;32m   4458\u001B[0m         alpha\u001B[38;5;241m=\u001B[39malpha\n\u001B[0;32m   4459\u001B[0m         )\n\u001B[0;32m   4460\u001B[0m collection\u001B[38;5;241m.\u001B[39mset_transform(mtransforms\u001B[38;5;241m.\u001B[39mIdentityTransform())\n",
      "File \u001B[1;32m~\\anaconda3\\envs\\sk_tf_gpu_39\\lib\\site-packages\\numpy\\ma\\extras.py:290\u001B[0m, in \u001B[0;36m_fromnxfunction_seq.__call__\u001B[1;34m(self, x, *args, **params)\u001B[0m\n\u001B[0;32m    288\u001B[0m \u001B[38;5;28;01mdef\u001B[39;00m \u001B[38;5;21m__call__\u001B[39m(\u001B[38;5;28mself\u001B[39m, x, \u001B[38;5;241m*\u001B[39margs, \u001B[38;5;241m*\u001B[39m\u001B[38;5;241m*\u001B[39mparams):\n\u001B[0;32m    289\u001B[0m     func \u001B[38;5;241m=\u001B[39m \u001B[38;5;28mgetattr\u001B[39m(np, \u001B[38;5;28mself\u001B[39m\u001B[38;5;241m.\u001B[39m\u001B[38;5;18m__name__\u001B[39m)\n\u001B[1;32m--> 290\u001B[0m     _d \u001B[38;5;241m=\u001B[39m func(\u001B[38;5;28mtuple\u001B[39m([np\u001B[38;5;241m.\u001B[39masarray(a) \u001B[38;5;28;01mfor\u001B[39;00m a \u001B[38;5;129;01min\u001B[39;00m x]), \u001B[38;5;241m*\u001B[39margs, \u001B[38;5;241m*\u001B[39m\u001B[38;5;241m*\u001B[39mparams)\n\u001B[0;32m    291\u001B[0m     _m \u001B[38;5;241m=\u001B[39m func(\u001B[38;5;28mtuple\u001B[39m([getmaskarray(a) \u001B[38;5;28;01mfor\u001B[39;00m a \u001B[38;5;129;01min\u001B[39;00m x]), \u001B[38;5;241m*\u001B[39margs, \u001B[38;5;241m*\u001B[39m\u001B[38;5;241m*\u001B[39mparams)\n\u001B[0;32m    292\u001B[0m     \u001B[38;5;28;01mreturn\u001B[39;00m masked_array(_d, mask\u001B[38;5;241m=\u001B[39m_m)\n",
      "File \u001B[1;32m<__array_function__ internals>:180\u001B[0m, in \u001B[0;36mcolumn_stack\u001B[1;34m(*args, **kwargs)\u001B[0m\n",
      "File \u001B[1;32m~\\anaconda3\\envs\\sk_tf_gpu_39\\lib\\site-packages\\numpy\\lib\\shape_base.py:656\u001B[0m, in \u001B[0;36mcolumn_stack\u001B[1;34m(tup)\u001B[0m\n\u001B[0;32m    654\u001B[0m         arr \u001B[38;5;241m=\u001B[39m array(arr, copy\u001B[38;5;241m=\u001B[39m\u001B[38;5;28;01mFalse\u001B[39;00m, subok\u001B[38;5;241m=\u001B[39m\u001B[38;5;28;01mTrue\u001B[39;00m, ndmin\u001B[38;5;241m=\u001B[39m\u001B[38;5;241m2\u001B[39m)\u001B[38;5;241m.\u001B[39mT\n\u001B[0;32m    655\u001B[0m     arrays\u001B[38;5;241m.\u001B[39mappend(arr)\n\u001B[1;32m--> 656\u001B[0m \u001B[38;5;28;01mreturn\u001B[39;00m \u001B[43m_nx\u001B[49m\u001B[38;5;241;43m.\u001B[39;49m\u001B[43mconcatenate\u001B[49m\u001B[43m(\u001B[49m\u001B[43marrays\u001B[49m\u001B[43m,\u001B[49m\u001B[43m \u001B[49m\u001B[38;5;241;43m1\u001B[39;49m\u001B[43m)\u001B[49m\n",
      "File \u001B[1;32m<__array_function__ internals>:180\u001B[0m, in \u001B[0;36mconcatenate\u001B[1;34m(*args, **kwargs)\u001B[0m\n",
      "\u001B[1;31mTypeError\u001B[0m: The DTypes <class 'numpy.dtype[float64]'> and <class 'numpy.dtype[datetime64]'> do not have a common DType. For example they cannot be stored in a single array unless the dtype is `object`."
     ]
    },
    {
     "data": {
      "text/plain": "<Figure size 2160x1080 with 1 Axes>",
      "image/png": "[encoded data removed]"
     },
     "metadata": {
      "needs_background": "light"
     },
     "output_type": "display_data"
    }
   ],
   "source": [
    "plot_ichimoku(df_ichi, start_date='2019-08-25', end_date='2019-08-30')"
   ],
   "metadata": {
    "collapsed": false,
    "ExecuteTime": {
     "end_time": "2023-06-09T03:44:17.639914500Z",
     "start_time": "2023-06-09T03:44:17.282493900Z"
    }
   }
  },
  {
   "cell_type": "code",
   "execution_count": null,
   "outputs": [],
   "source": [],
   "metadata": {
    "collapsed": false
   }
  },
  {
   "cell_type": "code",
   "execution_count": 48,
   "outputs": [
    {
     "data": {
      "text/plain": "                        Open     High      Low    Close  Volume  tenkan_sen  \\\nTime                                                                          \n2007-01-01 06:00:00  1.95805  1.95836  1.95795  1.95817    1728         NaN   \n2007-01-01 06:30:00  1.95813  1.95835  1.95788  1.95815    1651         NaN   \n2007-01-01 07:00:00  1.95815  1.95832  1.95807  1.95824    1352         NaN   \n2007-01-01 07:30:00  1.95818  1.95833  1.95807  1.95822    1722         NaN   \n2007-01-01 08:00:00  1.95815  1.95871  1.95808  1.95852    1729         NaN   \n...                      ...      ...      ...      ...     ...         ...   \n2022-07-13 03:30:00  1.18882  1.18885  1.18852  1.18863     596    1.187440   \n2022-07-13 04:00:00  1.18858  1.18894  1.18796  1.18813    1522    1.187445   \n2022-07-13 04:30:00  1.18811  1.18827  1.18779  1.18794    1852    1.188710   \n2022-07-13 05:00:00  1.18793  1.18814  1.18744  1.18797    1404    1.188715   \n2022-07-13 05:30:00  1.18796  1.18820  1.18755  1.18774    1175    1.188715   \n\n                     kijun_sen  senkou_span_a  senkou_span_b  chikou_span  \\\nTime                                                                        \n2007-01-01 06:00:00        NaN            NaN            NaN      1.96562   \n2007-01-01 06:30:00        NaN            NaN            NaN      1.96379   \n2007-01-01 07:00:00        NaN            NaN            NaN      1.96843   \n2007-01-01 07:30:00        NaN            NaN            NaN      1.96847   \n2007-01-01 08:00:00        NaN            NaN            NaN      1.97258   \n...                        ...            ...            ...          ...   \n2022-07-13 03:30:00    1.18614       1.194045        1.19655          NaN   \n2022-07-13 04:00:00    1.18614       1.194045        1.19655          NaN   \n2022-07-13 04:30:00    1.18614       1.194045        1.19655          NaN   \n2022-07-13 05:00:00    1.18614       1.194045        1.19655          NaN   \n2022-07-13 05:30:00    1.18614       1.194045        1.19655          NaN   \n\n                     signal  cross_signal  chikou_signal  cloud_signal  \\\nTime                                                                     \n2007-01-01 06:00:00       0             0              0             0   \n2007-01-01 06:30:00       0             0              0             0   \n2007-01-01 07:00:00       0             0              0             0   \n2007-01-01 07:30:00       0             0              0             0   \n2007-01-01 08:00:00       0             0              0             0   \n...                     ...           ...            ...           ...   \n2022-07-13 03:30:00      -1             0              0            -1   \n2022-07-13 04:00:00      -1             0              0            -1   \n2022-07-13 04:30:00      -1             0              0            -1   \n2022-07-13 05:00:00      -1             0              0            -1   \n2022-07-13 05:30:00      -1             0              0            -1   \n\n                     summary_signal  \nTime                                 \n2007-01-01 06:00:00               0  \n2007-01-01 06:30:00               0  \n2007-01-01 07:00:00               0  \n2007-01-01 07:30:00               0  \n2007-01-01 08:00:00               0  \n...                             ...  \n2022-07-13 03:30:00              -2  \n2022-07-13 04:00:00              -2  \n2022-07-13 04:30:00              -2  \n2022-07-13 05:00:00              -2  \n2022-07-13 05:30:00              -2  \n\n[193900 rows x 15 columns]",
      "text/html": "<div>\n<style scoped>\n    .dataframe tbody tr th:only-of-type {\n        vertical-align: middle;\n    }\n\n    .dataframe tbody tr th {\n        vertical-align: top;\n    }\n\n    .dataframe thead th {\n        text-align: right;\n    }\n</style>\n<table border=\"1\" class=\"dataframe\">\n  <thead>\n    <tr style=\"text-align: right;\">\n      <th></th>\n      <th>Open</th>\n      <th>High</th>\n      <th>Low</th>\n      <th>Close</th>\n      <th>Volume</th>\n      <th>tenkan_sen</th>\n      <th>kijun_sen</th>\n      <th>senkou_span_a</th>\n      <th>senkou_span_b</th>\n      <th>chikou_span</th>\n      <th>signal</th>\n      <th>cross_signal</th>\n      <th>chikou_signal</th>\n      <th>cloud_signal</th>\n      <th>summary_signal</th>\n    </tr>\n    <tr>\n      <th>Time</th>\n      <th></th>\n      <th></th>\n      <th></th>\n      <th></th>\n      <th></th>\n      <th></th>\n      <th></th>\n      <th></th>\n      <th></th>\n      <th></th>\n      <th></th>\n      <th></th>\n      <th></th>\n      <th></th>\n      <th></th>\n    </tr>\n  </thead>\n  <tbody>\n    <tr>\n      <th>2007-01-01 06:00:00</th>\n      <td>1.95805</td>\n      <td>1.95836</td>\n      <td>1.95795</td>\n      <td>1.95817</td>\n      <td>1728</td>\n      <td>NaN</td>\n      <td>NaN</td>\n      <td>NaN</td>\n      <td>NaN</td>\n      <td>1.96562</td>\n      <td>0</td>\n      <td>0</td>\n      <td>0</td>\n      <td>0</td>\n      <td>0</td>\n    </tr>\n    <tr>\n      <th>2007-01-01 06:30:00</th>\n      <td>1.95813</td>\n      <td>1.95835</td>\n      <td>1.95788</td>\n      <td>1.95815</td>\n      <td>1651</td>\n      <td>NaN</td>\n      <td>NaN</td>\n      <td>NaN</td>\n      <td>NaN</td>\n      <td>1.96379</td>\n      <td>0</td>\n      <td>0</td>\n      <td>0</td>\n      <td>0</td>\n      <td>0</td>\n    </tr>\n    <tr>\n      <th>2007-01-01 07:00:00</th>\n      <td>1.95815</td>\n      <td>1.95832</td>\n      <td>1.95807</td>\n      <td>1.95824</td>\n      <td>1352</td>\n      <td>NaN</td>\n      <td>NaN</td>\n      <td>NaN</td>\n      <td>NaN</td>\n      <td>1.96843</td>\n      <td>0</td>\n      <td>0</td>\n      <td>0</td>\n      <td>0</td>\n      <td>0</td>\n    </tr>\n    <tr>\n      <th>2007-01-01 07:30:00</th>\n      <td>1.95818</td>\n      <td>1.95833</td>\n      <td>1.95807</td>\n      <td>1.95822</td>\n      <td>1722</td>\n      <td>NaN</td>\n      <td>NaN</td>\n      <td>NaN</td>\n      <td>NaN</td>\n      <td>1.96847</td>\n      <td>0</td>\n      <td>0</td>\n      <td>0</td>\n      <td>0</td>\n      <td>0</td>\n    </tr>\n    <tr>\n      <th>2007-01-01 08:00:00</th>\n      <td>1.95815</td>\n      <td>1.95871</td>\n      <td>1.95808</td>\n      <td>1.95852</td>\n      <td>1729</td>\n      <td>NaN</td>\n      <td>NaN</td>\n      <td>NaN</td>\n      <td>NaN</td>\n      <td>1.97258</td>\n      <td>0</td>\n      <td>0</td>\n      <td>0</td>\n      <td>0</td>\n      <td>0</td>\n    </tr>\n    <tr>\n      <th>...</th>\n      <td>...</td>\n      <td>...</td>\n      <td>...</td>\n      <td>...</td>\n      <td>...</td>\n      <td>...</td>\n      <td>...</td>\n      <td>...</td>\n      <td>...</td>\n      <td>...</td>\n      <td>...</td>\n      <td>...</td>\n      <td>...</td>\n      <td>...</td>\n      <td>...</td>\n    </tr>\n    <tr>\n      <th>2022-07-13 03:30:00</th>\n      <td>1.18882</td>\n      <td>1.18885</td>\n      <td>1.18852</td>\n      <td>1.18863</td>\n      <td>596</td>\n      <td>1.187440</td>\n      <td>1.18614</td>\n      <td>1.194045</td>\n      <td>1.19655</td>\n      <td>NaN</td>\n      <td>-1</td>\n      <td>0</td>\n      <td>0</td>\n      <td>-1</td>\n      <td>-2</td>\n    </tr>\n    <tr>\n      <th>2022-07-13 04:00:00</th>\n      <td>1.18858</td>\n      <td>1.18894</td>\n      <td>1.18796</td>\n      <td>1.18813</td>\n      <td>1522</td>\n      <td>1.187445</td>\n      <td>1.18614</td>\n      <td>1.194045</td>\n      <td>1.19655</td>\n      <td>NaN</td>\n      <td>-1</td>\n      <td>0</td>\n      <td>0</td>\n      <td>-1</td>\n      <td>-2</td>\n    </tr>\n    <tr>\n      <th>2022-07-13 04:30:00</th>\n      <td>1.18811</td>\n      <td>1.18827</td>\n      <td>1.18779</td>\n      <td>1.18794</td>\n      <td>1852</td>\n      <td>1.188710</td>\n      <td>1.18614</td>\n      <td>1.194045</td>\n      <td>1.19655</td>\n      <td>NaN</td>\n      <td>-1</td>\n      <td>0</td>\n      <td>0</td>\n      <td>-1</td>\n      <td>-2</td>\n    </tr>\n    <tr>\n      <th>2022-07-13 05:00:00</th>\n      <td>1.18793</td>\n      <td>1.18814</td>\n      <td>1.18744</td>\n      <td>1.18797</td>\n      <td>1404</td>\n      <td>1.188715</td>\n      <td>1.18614</td>\n      <td>1.194045</td>\n      <td>1.19655</td>\n      <td>NaN</td>\n      <td>-1</td>\n      <td>0</td>\n      <td>0</td>\n      <td>-1</td>\n      <td>-2</td>\n    </tr>\n    <tr>\n      <th>2022-07-13 05:30:00</th>\n      <td>1.18796</td>\n      <td>1.18820</td>\n      <td>1.18755</td>\n      <td>1.18774</td>\n      <td>1175</td>\n      <td>1.188715</td>\n      <td>1.18614</td>\n      <td>1.194045</td>\n      <td>1.19655</td>\n      <td>NaN</td>\n      <td>-1</td>\n      <td>0</td>\n      <td>0</td>\n      <td>-1</td>\n      <td>-2</td>\n    </tr>\n  </tbody>\n</table>\n<p>193900 rows × 15 columns</p>\n</div>"
     },
     "execution_count": 48,
     "metadata": {},
     "output_type": "execute_result"
    }
   ],
   "source": [
    "df_ichi"
   ],
   "metadata": {
    "collapsed": false,
    "ExecuteTime": {
     "end_time": "2023-06-09T03:34:54.795474700Z",
     "start_time": "2023-06-09T03:34:54.746066900Z"
    }
   }
  },
  {
   "cell_type": "code",
   "execution_count": 67,
   "outputs": [
    {
     "name": "stdout",
     "output_type": "stream",
     "text": [
      "Empty DataFrame\n",
      "Columns: [Open, High, Low, Close, Volume, tenkan_sen, kijun_sen, senkou_span_a, senkou_span_b, chikou_span, signal, cross_signal, chikou_signal, cloud_signal, summary_signal]\n",
      "Index: []\n",
      "                        Open     High      Low    Close  Volume  tenkan_sen  \\\n",
      "Time                                                                          \n",
      "2007-01-01 06:00:00  1.95805  1.95836  1.95795  1.95817    1728         NaN   \n",
      "2007-01-01 06:30:00  1.95813  1.95835  1.95788  1.95815    1651         NaN   \n",
      "2007-01-01 07:00:00  1.95815  1.95832  1.95807  1.95824    1352         NaN   \n",
      "2007-01-01 07:30:00  1.95818  1.95833  1.95807  1.95822    1722         NaN   \n",
      "2007-01-01 08:00:00  1.95815  1.95871  1.95808  1.95852    1729         NaN   \n",
      "2007-01-01 08:30:00  1.95845  1.95895  1.95826  1.95877    1524         NaN   \n",
      "2007-01-01 09:00:00  1.95883  1.95895  1.95871  1.95882    1565         NaN   \n",
      "2007-01-01 09:30:00  1.95882  1.95895  1.95850  1.95883    1704         NaN   \n",
      "2007-01-01 10:00:00  1.95883  1.95895  1.95827  1.95840    1643         NaN   \n",
      "2007-01-01 10:30:00  1.95834  1.95853  1.95817  1.95823    1358         NaN   \n",
      "2007-01-01 11:00:00  1.95838  1.95859  1.95826  1.95830    1493         NaN   \n",
      "2007-01-01 11:30:00  1.95838  1.95853  1.95827  1.95850    1547         NaN   \n",
      "2007-01-01 12:00:00  1.95846  1.95855  1.95811  1.95832    1579         NaN   \n",
      "2007-01-01 12:30:00  1.95832  1.95845  1.95819  1.95828    1596         NaN   \n",
      "2007-01-01 13:00:00  1.95828  1.95843  1.95805  1.95838    1506         NaN   \n",
      "2007-01-01 13:30:00  1.95835  1.95844  1.95807  1.95837    1727         NaN   \n",
      "2007-01-01 14:00:00  1.95828  1.95844  1.95810  1.95815    1813         NaN   \n",
      "2007-01-01 14:30:00  1.95818  1.95835  1.95804  1.95822    1456         NaN   \n",
      "2007-01-01 15:00:00  1.95830  1.95833  1.95810  1.95817    1463         NaN   \n",
      "\n",
      "                     kijun_sen  senkou_span_a  senkou_span_b  chikou_span  \\\n",
      "Time                                                                        \n",
      "2007-01-01 06:00:00        NaN            NaN            NaN      1.96562   \n",
      "2007-01-01 06:30:00        NaN            NaN            NaN      1.96379   \n",
      "2007-01-01 07:00:00        NaN            NaN            NaN      1.96843   \n",
      "2007-01-01 07:30:00        NaN            NaN            NaN      1.96847   \n",
      "2007-01-01 08:00:00        NaN            NaN            NaN      1.97258   \n",
      "2007-01-01 08:30:00        NaN            NaN            NaN      1.97267   \n",
      "2007-01-01 09:00:00        NaN            NaN            NaN      1.97111   \n",
      "2007-01-01 09:30:00        NaN            NaN            NaN      1.97155   \n",
      "2007-01-01 10:00:00        NaN            NaN            NaN      1.97323   \n",
      "2007-01-01 10:30:00        NaN            NaN            NaN      1.97122   \n",
      "2007-01-01 11:00:00        NaN            NaN            NaN      1.96991   \n",
      "2007-01-01 11:30:00        NaN            NaN            NaN      1.96967   \n",
      "2007-01-01 12:00:00        NaN            NaN            NaN      1.97056   \n",
      "2007-01-01 12:30:00        NaN            NaN            NaN      1.97131   \n",
      "2007-01-01 13:00:00        NaN            NaN            NaN      1.97098   \n",
      "2007-01-01 13:30:00        NaN            NaN            NaN      1.97340   \n",
      "2007-01-01 14:00:00        NaN            NaN            NaN      1.97308   \n",
      "2007-01-01 14:30:00        NaN            NaN            NaN      1.97215   \n",
      "2007-01-01 15:00:00        NaN            NaN            NaN      1.97178   \n",
      "\n",
      "                     signal  cross_signal  chikou_signal  cloud_signal  \\\n",
      "Time                                                                     \n",
      "2007-01-01 06:00:00       0             0              0             0   \n",
      "2007-01-01 06:30:00       0             0              0             0   \n",
      "2007-01-01 07:00:00       0             0              0             0   \n",
      "2007-01-01 07:30:00       0             0              0             0   \n",
      "2007-01-01 08:00:00       0             0              0             0   \n",
      "2007-01-01 08:30:00       0             0              0             0   \n",
      "2007-01-01 09:00:00       0             0              0             0   \n",
      "2007-01-01 09:30:00       0             0              0             0   \n",
      "2007-01-01 10:00:00       0             0              0             0   \n",
      "2007-01-01 10:30:00       0             0              0             0   \n",
      "2007-01-01 11:00:00       0             0              0             0   \n",
      "2007-01-01 11:30:00       0             0              0             0   \n",
      "2007-01-01 12:00:00       0             0              0             0   \n",
      "2007-01-01 12:30:00       0             0              0             0   \n",
      "2007-01-01 13:00:00       0             0              0             0   \n",
      "2007-01-01 13:30:00       0             0              0             0   \n",
      "2007-01-01 14:00:00       0             0              0             0   \n",
      "2007-01-01 14:30:00       0             0              0             0   \n",
      "2007-01-01 15:00:00       0             0              0             0   \n",
      "\n",
      "                     summary_signal  \n",
      "Time                                 \n",
      "2007-01-01 06:00:00               0  \n",
      "2007-01-01 06:30:00               0  \n",
      "2007-01-01 07:00:00               0  \n",
      "2007-01-01 07:30:00               0  \n",
      "2007-01-01 08:00:00               0  \n",
      "2007-01-01 08:30:00               0  \n",
      "2007-01-01 09:00:00               0  \n",
      "2007-01-01 09:30:00               0  \n",
      "2007-01-01 10:00:00               0  \n",
      "2007-01-01 10:30:00               0  \n",
      "2007-01-01 11:00:00               0  \n",
      "2007-01-01 11:30:00               0  \n",
      "2007-01-01 12:00:00               0  \n",
      "2007-01-01 12:30:00               0  \n",
      "2007-01-01 13:00:00               0  \n",
      "2007-01-01 13:30:00               0  \n",
      "2007-01-01 14:00:00               0  \n",
      "2007-01-01 14:30:00               0  \n",
      "2007-01-01 15:00:00               0  \n",
      "                        Open     High      Low    Close  Volume  tenkan_sen  \\\n",
      "Time                                                                          \n",
      "2007-01-01 06:00:00  1.95805  1.95836  1.95795  1.95817    1728         NaN   \n",
      "2007-01-01 06:30:00  1.95813  1.95835  1.95788  1.95815    1651         NaN   \n",
      "2007-01-01 07:00:00  1.95815  1.95832  1.95807  1.95824    1352         NaN   \n",
      "2007-01-01 07:30:00  1.95818  1.95833  1.95807  1.95822    1722         NaN   \n",
      "2007-01-01 08:00:00  1.95815  1.95871  1.95808  1.95852    1729         NaN   \n",
      "2007-01-01 08:30:00  1.95845  1.95895  1.95826  1.95877    1524         NaN   \n",
      "2007-01-01 09:00:00  1.95883  1.95895  1.95871  1.95882    1565         NaN   \n",
      "2007-01-01 09:30:00  1.95882  1.95895  1.95850  1.95883    1704         NaN   \n",
      "2007-01-01 10:00:00  1.95883  1.95895  1.95827  1.95840    1643         NaN   \n",
      "2007-01-01 10:30:00  1.95834  1.95853  1.95817  1.95823    1358         NaN   \n",
      "2007-01-01 11:00:00  1.95838  1.95859  1.95826  1.95830    1493         NaN   \n",
      "2007-01-01 11:30:00  1.95838  1.95853  1.95827  1.95850    1547         NaN   \n",
      "2007-01-01 12:00:00  1.95846  1.95855  1.95811  1.95832    1579         NaN   \n",
      "2007-01-01 12:30:00  1.95832  1.95845  1.95819  1.95828    1596         NaN   \n",
      "2007-01-01 13:00:00  1.95828  1.95843  1.95805  1.95838    1506         NaN   \n",
      "2007-01-01 13:30:00  1.95835  1.95844  1.95807  1.95837    1727         NaN   \n",
      "2007-01-01 14:00:00  1.95828  1.95844  1.95810  1.95815    1813         NaN   \n",
      "2007-01-01 14:30:00  1.95818  1.95835  1.95804  1.95822    1456         NaN   \n",
      "2007-01-01 15:00:00  1.95830  1.95833  1.95810  1.95817    1463         NaN   \n",
      "2007-01-01 15:30:00  1.95812  1.95833  1.95805  1.95817    2284    1.958415   \n",
      "2007-01-01 16:00:00  1.95817  1.95835  1.95805  1.95821    1899    1.958415   \n",
      "2007-01-01 16:30:00  1.95808  1.95836  1.95798  1.95817    1916    1.958465   \n",
      "2007-01-01 17:00:00  1.95818  1.95837  1.95806  1.95818    1833    1.958465   \n",
      "2007-01-01 17:30:00  1.95818  1.95837  1.95805  1.95817    1580    1.958465   \n",
      "2007-01-01 18:00:00  1.95822  1.95841  1.95803  1.95822    1683    1.958465   \n",
      "2007-01-01 18:30:00  1.95828  1.95846  1.95814  1.95821    1657    1.958465   \n",
      "2007-01-01 19:00:00  1.95823  1.95845  1.95817  1.95835    1921    1.958465   \n",
      "2007-01-01 19:30:00  1.95835  1.95845  1.95817  1.95822    2025    1.958465   \n",
      "2007-01-01 20:00:00  1.95830  1.95844  1.95816  1.95828    1562    1.958285   \n",
      "2007-01-01 20:30:00  1.95817  1.95845  1.95802  1.95844    1607    1.958285   \n",
      "2007-01-01 21:00:00  1.95836  1.95847  1.95817  1.95835    1828    1.958265   \n",
      "2007-01-01 21:30:00  1.95825  1.95842  1.95818  1.95820    1466    1.958265   \n",
      "2007-01-01 22:00:00  1.95825  1.95849  1.95808  1.95825   21554    1.958235   \n",
      "2007-01-01 22:30:00  1.95825  1.95837  1.95806  1.95817   10133    1.958235   \n",
      "2007-01-01 23:00:00  1.95820  1.95876  1.95805  1.95851    9352    1.958370   \n",
      "2007-01-01 23:30:00  1.95854  1.95926  1.95806  1.95856    8114    1.958620   \n",
      "2007-01-02 00:00:00  1.95853  1.95892  1.95772  1.95819    6574    1.958490   \n",
      "2007-01-02 00:30:00  1.95819  1.95834  1.95766  1.95777    9020    1.958460   \n",
      "2007-01-02 01:00:00  1.95782  1.95834  1.95780  1.95828    5007    1.958460   \n",
      "2007-01-02 01:30:00  1.95825  1.95836  1.95806  1.95823    3637    1.958460   \n",
      "2007-01-02 02:00:00  1.95823  1.95848  1.95807  1.95807    3359    1.958460   \n",
      "2007-01-02 02:30:00  1.95810  1.95838  1.95801  1.95823    2221    1.958460   \n",
      "2007-01-02 03:00:00  1.95815  1.95847  1.95765  1.95773    1780    1.958455   \n",
      "2007-01-02 03:30:00  1.95773  1.95915  1.95773  1.95889    2023    1.958455   \n",
      "2007-01-02 04:00:00  1.95887  1.96165  1.95849  1.96128    2376    1.959650   \n",
      "2007-01-02 04:30:00  1.96102  1.96177  1.96046  1.96162    2319    1.959710   \n",
      "2007-01-02 05:00:00  1.96161  1.96417  1.96116  1.96341    2779    1.960910   \n",
      "2007-01-02 05:30:00  1.96323  1.96400  1.96284  1.96332    2514    1.960910   \n",
      "2007-01-02 06:00:00  1.96330  1.96508  1.96271  1.96490    1967    1.961365   \n",
      "2007-01-02 06:30:00  1.96492  1.96516  1.96453  1.96499    2117    1.961405   \n",
      "2007-01-02 07:00:00  1.96489  1.96510  1.96431  1.96457    2143    1.961405   \n",
      "2007-01-02 07:30:00  1.96445  1.96477  1.96381  1.96448    2557    1.961405   \n",
      "2007-01-02 08:00:00  1.96428  1.96535  1.96415  1.96514    1910    1.961500   \n",
      "2007-01-02 08:30:00  1.96504  1.96535  1.96438  1.96509    1953    1.961500   \n",
      "2007-01-02 09:00:00  1.96527  1.96602  1.96500  1.96528    2090    1.961835   \n",
      "2007-01-02 09:30:00  1.96553  1.96577  1.96480  1.96522    2156    1.961835   \n",
      "2007-01-02 10:00:00  1.96535  1.96566  1.96473  1.96552    2315    1.961835   \n",
      "2007-01-02 10:30:00  1.96546  1.96580  1.96500  1.96517    2225    1.961835   \n",
      "2007-01-02 11:00:00  1.96534  1.96577  1.96498  1.96549    2193    1.961835   \n",
      "\n",
      "                     kijun_sen  senkou_span_a  senkou_span_b  chikou_span  \\\n",
      "Time                                                                        \n",
      "2007-01-01 06:00:00        NaN            NaN            NaN      1.96562   \n",
      "2007-01-01 06:30:00        NaN            NaN            NaN      1.96379   \n",
      "2007-01-01 07:00:00        NaN            NaN            NaN      1.96843   \n",
      "2007-01-01 07:30:00        NaN            NaN            NaN      1.96847   \n",
      "2007-01-01 08:00:00        NaN            NaN            NaN      1.97258   \n",
      "2007-01-01 08:30:00        NaN            NaN            NaN      1.97267   \n",
      "2007-01-01 09:00:00        NaN            NaN            NaN      1.97111   \n",
      "2007-01-01 09:30:00        NaN            NaN            NaN      1.97155   \n",
      "2007-01-01 10:00:00        NaN            NaN            NaN      1.97323   \n",
      "2007-01-01 10:30:00        NaN            NaN            NaN      1.97122   \n",
      "2007-01-01 11:00:00        NaN            NaN            NaN      1.96991   \n",
      "2007-01-01 11:30:00        NaN            NaN            NaN      1.96967   \n",
      "2007-01-01 12:00:00        NaN            NaN            NaN      1.97056   \n",
      "2007-01-01 12:30:00        NaN            NaN            NaN      1.97131   \n",
      "2007-01-01 13:00:00        NaN            NaN            NaN      1.97098   \n",
      "2007-01-01 13:30:00        NaN            NaN            NaN      1.97340   \n",
      "2007-01-01 14:00:00        NaN            NaN            NaN      1.97308   \n",
      "2007-01-01 14:30:00        NaN            NaN            NaN      1.97215   \n",
      "2007-01-01 15:00:00        NaN            NaN            NaN      1.97178   \n",
      "2007-01-01 15:30:00        NaN            NaN            NaN      1.97243   \n",
      "2007-01-01 16:00:00        NaN            NaN            NaN      1.97352   \n",
      "2007-01-01 16:30:00        NaN            NaN            NaN      1.97346   \n",
      "2007-01-01 17:00:00        NaN            NaN            NaN      1.97348   \n",
      "2007-01-01 17:30:00        NaN            NaN            NaN      1.97362   \n",
      "2007-01-01 18:00:00        NaN            NaN            NaN      1.97344   \n",
      "2007-01-01 18:30:00        NaN            NaN            NaN      1.97310   \n",
      "2007-01-01 19:00:00        NaN            NaN            NaN      1.97278   \n",
      "2007-01-01 19:30:00        NaN            NaN            NaN      1.97273   \n",
      "2007-01-01 20:00:00        NaN            NaN            NaN      1.97261   \n",
      "2007-01-01 20:30:00        NaN            NaN            NaN      1.97280   \n",
      "2007-01-01 21:00:00        NaN            NaN            NaN      1.97360   \n",
      "2007-01-01 21:30:00        NaN            NaN            NaN      1.97355   \n",
      "2007-01-01 22:00:00        NaN            NaN            NaN      1.97331   \n",
      "2007-01-01 22:30:00        NaN            NaN            NaN      1.97310   \n",
      "2007-01-01 23:00:00        NaN            NaN            NaN      1.97298   \n",
      "2007-01-01 23:30:00        NaN            NaN            NaN      1.97295   \n",
      "2007-01-02 00:00:00        NaN            NaN            NaN      1.97346   \n",
      "2007-01-02 00:30:00        NaN            NaN            NaN      1.97388   \n",
      "2007-01-02 01:00:00        NaN            NaN            NaN      1.97417   \n",
      "2007-01-02 01:30:00        NaN            NaN            NaN      1.97445   \n",
      "2007-01-02 02:00:00        NaN            NaN            NaN      1.97457   \n",
      "2007-01-02 02:30:00        NaN            NaN            NaN      1.97450   \n",
      "2007-01-02 03:00:00        NaN            NaN            NaN      1.97453   \n",
      "2007-01-02 03:30:00        NaN            NaN            NaN      1.97479   \n",
      "2007-01-02 04:00:00        NaN            NaN            NaN      1.97320   \n",
      "2007-01-02 04:30:00        NaN            NaN            NaN      1.97400   \n",
      "2007-01-02 05:00:00        NaN            NaN            NaN      1.97253   \n",
      "2007-01-02 05:30:00        NaN            NaN            NaN      1.97207   \n",
      "2007-01-02 06:00:00        NaN            NaN            NaN      1.97383   \n",
      "2007-01-02 06:30:00        NaN            NaN            NaN      1.97262   \n",
      "2007-01-02 07:00:00        NaN            NaN            NaN      1.97147   \n",
      "2007-01-02 07:30:00        NaN            NaN            NaN      1.97173   \n",
      "2007-01-02 08:00:00        NaN            NaN            NaN      1.97167   \n",
      "2007-01-02 08:30:00        NaN            NaN            NaN      1.97137   \n",
      "2007-01-02 09:00:00        NaN            NaN            NaN      1.97076   \n",
      "2007-01-02 09:30:00        NaN            NaN            NaN      1.97013   \n",
      "2007-01-02 10:00:00        NaN            NaN            NaN      1.96294   \n",
      "2007-01-02 10:30:00        NaN            NaN            NaN      1.96270   \n",
      "2007-01-02 11:00:00        NaN            NaN            NaN      1.96374   \n",
      "\n",
      "                     signal  cross_signal  chikou_signal  cloud_signal  \\\n",
      "Time                                                                     \n",
      "2007-01-01 06:00:00       0             0              0             0   \n",
      "2007-01-01 06:30:00       0             0              0             0   \n",
      "2007-01-01 07:00:00       0             0              0             0   \n",
      "2007-01-01 07:30:00       0             0              0             0   \n",
      "2007-01-01 08:00:00       0             0              0             0   \n",
      "2007-01-01 08:30:00       0             0              0             0   \n",
      "2007-01-01 09:00:00       0             0              0             0   \n",
      "2007-01-01 09:30:00       0             0              0             0   \n",
      "2007-01-01 10:00:00       0             0              0             0   \n",
      "2007-01-01 10:30:00       0             0              0             0   \n",
      "2007-01-01 11:00:00       0             0              0             0   \n",
      "2007-01-01 11:30:00       0             0              0             0   \n",
      "2007-01-01 12:00:00       0             0              0             0   \n",
      "2007-01-01 12:30:00       0             0              0             0   \n",
      "2007-01-01 13:00:00       0             0              0             0   \n",
      "2007-01-01 13:30:00       0             0              0             0   \n",
      "2007-01-01 14:00:00       0             0              0             0   \n",
      "2007-01-01 14:30:00       0             0              0             0   \n",
      "2007-01-01 15:00:00       0             0              0             0   \n",
      "2007-01-01 15:30:00       0             0              0             0   \n",
      "2007-01-01 16:00:00       0             0              0             0   \n",
      "2007-01-01 16:30:00       0             0              0             0   \n",
      "2007-01-01 17:00:00       0             0              0             0   \n",
      "2007-01-01 17:30:00       0             0              0             0   \n",
      "2007-01-01 18:00:00       0             0              0             0   \n",
      "2007-01-01 18:30:00       0             0              0             0   \n",
      "2007-01-01 19:00:00       0             0              0             0   \n",
      "2007-01-01 19:30:00       0             0              0             0   \n",
      "2007-01-01 20:00:00       0             0              0             0   \n",
      "2007-01-01 20:30:00       0             0              0             0   \n",
      "2007-01-01 21:00:00       0             0              0             0   \n",
      "2007-01-01 21:30:00       0             0              0             0   \n",
      "2007-01-01 22:00:00       0             0              0             0   \n",
      "2007-01-01 22:30:00       0             0              0             0   \n",
      "2007-01-01 23:00:00       0             0              0             0   \n",
      "2007-01-01 23:30:00       0             0              0             0   \n",
      "2007-01-02 00:00:00       0             0              0             0   \n",
      "2007-01-02 00:30:00       0             0              0             0   \n",
      "2007-01-02 01:00:00       0             0              0             0   \n",
      "2007-01-02 01:30:00       0             0              0             0   \n",
      "2007-01-02 02:00:00       0             0              0             0   \n",
      "2007-01-02 02:30:00       0             0              0             0   \n",
      "2007-01-02 03:00:00       0             0              0             0   \n",
      "2007-01-02 03:30:00       0             0              0             0   \n",
      "2007-01-02 04:00:00       0             0              0             0   \n",
      "2007-01-02 04:30:00       0             0              0             0   \n",
      "2007-01-02 05:00:00       0             0              0             0   \n",
      "2007-01-02 05:30:00       0             0              0             0   \n",
      "2007-01-02 06:00:00       0             0              0             0   \n",
      "2007-01-02 06:30:00       0             0              0             0   \n",
      "2007-01-02 07:00:00       0             0              0             0   \n",
      "2007-01-02 07:30:00       0             0              0             0   \n",
      "2007-01-02 08:00:00       0             0              0             0   \n",
      "2007-01-02 08:30:00       0             0              0             0   \n",
      "2007-01-02 09:00:00       0             0              0             0   \n",
      "2007-01-02 09:30:00       0             0              0             0   \n",
      "2007-01-02 10:00:00       0             0              0             0   \n",
      "2007-01-02 10:30:00       0             0              0             0   \n",
      "2007-01-02 11:00:00       0             0              0             0   \n",
      "\n",
      "                     summary_signal  \n",
      "Time                                 \n",
      "2007-01-01 06:00:00               0  \n",
      "2007-01-01 06:30:00               0  \n",
      "2007-01-01 07:00:00               0  \n",
      "2007-01-01 07:30:00               0  \n",
      "2007-01-01 08:00:00               0  \n",
      "2007-01-01 08:30:00               0  \n",
      "2007-01-01 09:00:00               0  \n",
      "2007-01-01 09:30:00               0  \n",
      "2007-01-01 10:00:00               0  \n",
      "2007-01-01 10:30:00               0  \n",
      "2007-01-01 11:00:00               0  \n",
      "2007-01-01 11:30:00               0  \n",
      "2007-01-01 12:00:00               0  \n",
      "2007-01-01 12:30:00               0  \n",
      "2007-01-01 13:00:00               0  \n",
      "2007-01-01 13:30:00               0  \n",
      "2007-01-01 14:00:00               0  \n",
      "2007-01-01 14:30:00               0  \n",
      "2007-01-01 15:00:00               0  \n",
      "2007-01-01 15:30:00               0  \n",
      "2007-01-01 16:00:00               0  \n",
      "2007-01-01 16:30:00               0  \n",
      "2007-01-01 17:00:00               0  \n",
      "2007-01-01 17:30:00               0  \n",
      "2007-01-01 18:00:00               0  \n",
      "2007-01-01 18:30:00               0  \n",
      "2007-01-01 19:00:00               0  \n",
      "2007-01-01 19:30:00               0  \n",
      "2007-01-01 20:00:00               0  \n",
      "2007-01-01 20:30:00               0  \n",
      "2007-01-01 21:00:00               0  \n",
      "2007-01-01 21:30:00               0  \n",
      "2007-01-01 22:00:00               0  \n",
      "2007-01-01 22:30:00               0  \n",
      "2007-01-01 23:00:00               0  \n",
      "2007-01-01 23:30:00               0  \n",
      "2007-01-02 00:00:00               0  \n",
      "2007-01-02 00:30:00               0  \n",
      "2007-01-02 01:00:00               0  \n",
      "2007-01-02 01:30:00               0  \n",
      "2007-01-02 02:00:00               0  \n",
      "2007-01-02 02:30:00               0  \n",
      "2007-01-02 03:00:00               0  \n",
      "2007-01-02 03:30:00               0  \n",
      "2007-01-02 04:00:00               0  \n",
      "2007-01-02 04:30:00               0  \n",
      "2007-01-02 05:00:00               0  \n",
      "2007-01-02 05:30:00               0  \n",
      "2007-01-02 06:00:00               0  \n",
      "2007-01-02 06:30:00               0  \n",
      "2007-01-02 07:00:00               0  \n",
      "2007-01-02 07:30:00               0  \n",
      "2007-01-02 08:00:00               0  \n",
      "2007-01-02 08:30:00               0  \n",
      "2007-01-02 09:00:00               0  \n",
      "2007-01-02 09:30:00               0  \n",
      "2007-01-02 10:00:00               0  \n",
      "2007-01-02 10:30:00               0  \n",
      "2007-01-02 11:00:00               0  \n",
      "                        Open     High      Low    Close  Volume  tenkan_sen  \\\n",
      "Time                                                                          \n",
      "2007-01-01 06:00:00  1.95805  1.95836  1.95795  1.95817    1728         NaN   \n",
      "2007-01-01 06:30:00  1.95813  1.95835  1.95788  1.95815    1651         NaN   \n",
      "2007-01-01 07:00:00  1.95815  1.95832  1.95807  1.95824    1352         NaN   \n",
      "2007-01-01 07:30:00  1.95818  1.95833  1.95807  1.95822    1722         NaN   \n",
      "2007-01-01 08:00:00  1.95815  1.95871  1.95808  1.95852    1729         NaN   \n",
      "...                      ...      ...      ...      ...     ...         ...   \n",
      "2007-01-03 15:00:00  1.97125  1.97178  1.97031  1.97076    1908    1.972605   \n",
      "2007-01-03 15:30:00  1.97076  1.97095  1.96969  1.97013    2202    1.972295   \n",
      "2007-01-03 16:00:00  1.97012  1.97021  1.96181  1.96294    1867    1.968355   \n",
      "2007-01-03 16:30:00  1.96286  1.96439  1.96221  1.96270    2106    1.968355   \n",
      "2007-01-03 17:00:00  1.96267  1.96399  1.96264  1.96374    1939    1.968355   \n",
      "\n",
      "                     kijun_sen  senkou_span_a  senkou_span_b  chikou_span  \\\n",
      "Time                                                                        \n",
      "2007-01-01 06:00:00        NaN            NaN            NaN      1.96562   \n",
      "2007-01-01 06:30:00        NaN            NaN            NaN      1.96379   \n",
      "2007-01-01 07:00:00        NaN            NaN            NaN      1.96843   \n",
      "2007-01-01 07:30:00        NaN            NaN            NaN      1.96847   \n",
      "2007-01-01 08:00:00        NaN            NaN            NaN      1.97258   \n",
      "...                        ...            ...            ...          ...   \n",
      "2007-01-03 15:00:00    1.96765            NaN            NaN      1.94479   \n",
      "2007-01-03 15:30:00    1.96765            NaN            NaN      1.94436   \n",
      "2007-01-03 16:00:00    1.96765            NaN            NaN      1.94407   \n",
      "2007-01-03 16:30:00    1.96765            NaN            NaN      1.94396   \n",
      "2007-01-03 17:00:00    1.96765            NaN            NaN      1.94365   \n",
      "\n",
      "                     signal  cross_signal  chikou_signal  cloud_signal  \\\n",
      "Time                                                                     \n",
      "2007-01-01 06:00:00       0             0              0             0   \n",
      "2007-01-01 06:30:00       0             0              0             0   \n",
      "2007-01-01 07:00:00       0             0              0             0   \n",
      "2007-01-01 07:30:00       0             0              0             0   \n",
      "2007-01-01 08:00:00       0             0              0             0   \n",
      "...                     ...           ...            ...           ...   \n",
      "2007-01-03 15:00:00       0             0             -1             0   \n",
      "2007-01-03 15:30:00       0             0             -1             0   \n",
      "2007-01-03 16:00:00       0             0              0             0   \n",
      "2007-01-03 16:30:00       0             0              0             0   \n",
      "2007-01-03 17:00:00       0             0              0             0   \n",
      "\n",
      "                     summary_signal  \n",
      "Time                                 \n",
      "2007-01-01 06:00:00               0  \n",
      "2007-01-01 06:30:00               0  \n",
      "2007-01-01 07:00:00               0  \n",
      "2007-01-01 07:30:00               0  \n",
      "2007-01-01 08:00:00               0  \n",
      "...                             ...  \n",
      "2007-01-03 15:00:00              -1  \n",
      "2007-01-03 15:30:00              -1  \n",
      "2007-01-03 16:00:00               0  \n",
      "2007-01-03 16:30:00               0  \n",
      "2007-01-03 17:00:00               0  \n",
      "\n",
      "[119 rows x 15 columns]\n",
      "                        Open     High      Low    Close  Volume  tenkan_sen  \\\n",
      "Time                                                                          \n",
      "2007-01-01 06:00:00  1.95805  1.95836  1.95795  1.95817    1728         NaN   \n",
      "2007-01-01 06:30:00  1.95813  1.95835  1.95788  1.95815    1651         NaN   \n",
      "2007-01-01 07:00:00  1.95815  1.95832  1.95807  1.95824    1352         NaN   \n",
      "2007-01-01 07:30:00  1.95818  1.95833  1.95807  1.95822    1722         NaN   \n",
      "2007-01-01 08:00:00  1.95815  1.95871  1.95808  1.95852    1729         NaN   \n",
      "...                      ...      ...      ...      ...     ...         ...   \n",
      "2007-01-06 03:00:00  1.92967  1.93019  1.92941  1.92975    1819    1.933345   \n",
      "2007-01-06 03:30:00  1.92978  1.92990  1.92880  1.92900    1693    1.933200   \n",
      "2007-01-08 04:00:00  1.93033  1.93057  1.92935  1.93018    1512    1.933200   \n",
      "2007-01-08 04:30:00  1.93014  1.93051  1.92984  1.93000    1644    1.933155   \n",
      "2007-01-08 05:00:00  1.92995  1.93020  1.92980  1.92981    1610    1.931550   \n",
      "\n",
      "                     kijun_sen  senkou_span_a  senkou_span_b  chikou_span  \\\n",
      "Time                                                                        \n",
      "2007-01-01 06:00:00        NaN            NaN            NaN      1.96562   \n",
      "2007-01-01 06:30:00        NaN            NaN            NaN      1.96379   \n",
      "2007-01-01 07:00:00        NaN            NaN            NaN      1.96843   \n",
      "2007-01-01 07:30:00        NaN            NaN            NaN      1.96847   \n",
      "2007-01-01 08:00:00        NaN            NaN            NaN      1.97258   \n",
      "...                        ...            ...            ...          ...   \n",
      "2007-01-06 03:00:00   1.935985       1.950697            NaN      1.94259   \n",
      "2007-01-06 03:30:00   1.935805       1.950482            NaN      1.94296   \n",
      "2007-01-08 04:00:00   1.935805       1.949027            NaN      1.94247   \n",
      "2007-01-08 04:30:00   1.935805       1.948927            NaN      1.94238   \n",
      "2007-01-08 05:00:00   1.935805       1.948867            NaN      1.94262   \n",
      "\n",
      "                     signal  cross_signal  chikou_signal  cloud_signal  \\\n",
      "Time                                                                     \n",
      "2007-01-01 06:00:00       0             0              0             0   \n",
      "2007-01-01 06:30:00       0             0              0             0   \n",
      "2007-01-01 07:00:00       0             0              0             0   \n",
      "2007-01-01 07:30:00       0             0              0             0   \n",
      "2007-01-01 08:00:00       0             0              0             0   \n",
      "...                     ...           ...            ...           ...   \n",
      "2007-01-06 03:00:00      -1             0              0             0   \n",
      "2007-01-06 03:30:00      -1             0              0             0   \n",
      "2007-01-08 04:00:00      -1             0              0             0   \n",
      "2007-01-08 04:30:00      -1             0              0             0   \n",
      "2007-01-08 05:00:00      -1             0              0             0   \n",
      "\n",
      "                     summary_signal  \n",
      "Time                                 \n",
      "2007-01-01 06:00:00               0  \n",
      "2007-01-01 06:30:00               0  \n",
      "2007-01-01 07:00:00               0  \n",
      "2007-01-01 07:30:00               0  \n",
      "2007-01-01 08:00:00               0  \n",
      "...                             ...  \n",
      "2007-01-06 03:00:00              -1  \n",
      "2007-01-06 03:30:00              -1  \n",
      "2007-01-08 04:00:00              -1  \n",
      "2007-01-08 04:30:00              -1  \n",
      "2007-01-08 05:00:00              -1  \n",
      "\n",
      "[239 rows x 15 columns]\n"
     ]
    }
   ],
   "source": [
    "# Comprobar si hay algún valor no numérico en las columnas\n",
    "for column in ['Close', 'tenkan_sen', 'kijun_sen', 'senkou_span_a', 'senkou_span_b']:\n",
    "    print(df_ichi[pd.to_numeric(df[column], errors='coerce').isnull()])"
   ],
   "metadata": {
    "collapsed": false,
    "ExecuteTime": {
     "end_time": "2023-06-09T03:46:51.339551200Z",
     "start_time": "2023-06-09T03:46:51.260944300Z"
    }
   }
  },
  {
   "cell_type": "code",
   "execution_count": null,
   "outputs": [],
   "source": [],
   "metadata": {
    "collapsed": false
   }
  },
  {
   "cell_type": "code",
   "execution_count": null,
   "outputs": [],
   "source": [],
   "metadata": {
    "collapsed": false
   }
  },
  {
   "cell_type": "code",
   "execution_count": null,
   "outputs": [],
   "source": [],
   "metadata": {
    "collapsed": false
   }
  },
  {
   "cell_type": "markdown",
   "metadata": {
    "collapsed": false,
    "pycharm": {
     "name": "#%% md\n"
    }
   },
   "source": [
    "## Data preparation"
   ]
  },
  {
   "cell_type": "code",
   "execution_count": 3,
   "metadata": {
    "collapsed": false,
    "pycharm": {
     "name": "#%%\n"
    },
    "ExecuteTime": {
     "end_time": "2023-06-09T02:40:16.921875100Z",
     "start_time": "2023-06-09T02:40:16.284730800Z"
    }
   },
   "outputs": [
    {
     "data": {
      "text/plain": "                      Time   Close  Volume\n0      2007-01-01 06:00:00  1.9582    1728\n1      2007-01-01 06:30:00  1.9582    1651\n2      2007-01-01 07:00:00  1.9582    1352\n3      2007-01-01 07:30:00  1.9582    1722\n4      2007-01-01 08:00:00  1.9585    1729\n...                    ...     ...     ...\n193895 2022-07-13 03:30:00  1.1886     596\n193896 2022-07-13 04:00:00  1.1881    1522\n193897 2022-07-13 04:30:00  1.1879    1852\n193898 2022-07-13 05:00:00  1.1880    1404\n193899 2022-07-13 05:30:00  1.1877    1175\n\n[193900 rows x 3 columns]",
      "text/html": "<div>\n<style scoped>\n    .dataframe tbody tr th:only-of-type {\n        vertical-align: middle;\n    }\n\n    .dataframe tbody tr th {\n        vertical-align: top;\n    }\n\n    .dataframe thead th {\n        text-align: right;\n    }\n</style>\n<table border=\"1\" class=\"dataframe\">\n  <thead>\n    <tr style=\"text-align: right;\">\n      <th></th>\n      <th>Time</th>\n      <th>Close</th>\n      <th>Volume</th>\n    </tr>\n  </thead>\n  <tbody>\n    <tr>\n      <th>0</th>\n      <td>2007-01-01 06:00:00</td>\n      <td>1.9582</td>\n      <td>1728</td>\n    </tr>\n    <tr>\n      <th>1</th>\n      <td>2007-01-01 06:30:00</td>\n      <td>1.9582</td>\n      <td>1651</td>\n    </tr>\n    <tr>\n      <th>2</th>\n      <td>2007-01-01 07:00:00</td>\n      <td>1.9582</td>\n      <td>1352</td>\n    </tr>\n    <tr>\n      <th>3</th>\n      <td>2007-01-01 07:30:00</td>\n      <td>1.9582</td>\n      <td>1722</td>\n    </tr>\n    <tr>\n      <th>4</th>\n      <td>2007-01-01 08:00:00</td>\n      <td>1.9585</td>\n      <td>1729</td>\n    </tr>\n    <tr>\n      <th>...</th>\n      <td>...</td>\n      <td>...</td>\n      <td>...</td>\n    </tr>\n    <tr>\n      <th>193895</th>\n      <td>2022-07-13 03:30:00</td>\n      <td>1.1886</td>\n      <td>596</td>\n    </tr>\n    <tr>\n      <th>193896</th>\n      <td>2022-07-13 04:00:00</td>\n      <td>1.1881</td>\n      <td>1522</td>\n    </tr>\n    <tr>\n      <th>193897</th>\n      <td>2022-07-13 04:30:00</td>\n      <td>1.1879</td>\n      <td>1852</td>\n    </tr>\n    <tr>\n      <th>193898</th>\n      <td>2022-07-13 05:00:00</td>\n      <td>1.1880</td>\n      <td>1404</td>\n    </tr>\n    <tr>\n      <th>193899</th>\n      <td>2022-07-13 05:30:00</td>\n      <td>1.1877</td>\n      <td>1175</td>\n    </tr>\n  </tbody>\n</table>\n<p>193900 rows × 3 columns</p>\n</div>"
     },
     "execution_count": 3,
     "metadata": {},
     "output_type": "execute_result"
    }
   ],
   "source": [
    "gbpusd = pd.read_csv(f'~\\Documents\\Artik_47\\Artik-47\\data\\GBPUSD_M30.csv', sep='\\t', parse_dates=['Time'])\n",
    "\n",
    "#Just for close values as objetive\n",
    "gbpusd = gbpusd[['Time', 'Close', 'Volume']]\n",
    "gbpusd['Close'] = gbpusd['Close'].round(decimals=4)\n",
    "gbpusd"
   ]
  },
  {
   "cell_type": "code",
   "execution_count": 4,
   "metadata": {
    "collapsed": false,
    "pycharm": {
     "name": "#%%\n"
    }
   },
   "outputs": [
    {
     "data": {
      "text/plain": "               Close         Volume\ncount  193900.000000  193900.000000\nmean        1.513250    5233.197968\nstd         0.215370   11369.920694\nmin         1.142900       1.000000\n25%         1.322375    1562.000000\n50%         1.517800    2935.000000\n75%         1.613200    5508.000000\nmax         2.114300  556867.000000",
      "text/html": "<div>\n<style scoped>\n    .dataframe tbody tr th:only-of-type {\n        vertical-align: middle;\n    }\n\n    .dataframe tbody tr th {\n        vertical-align: top;\n    }\n\n    .dataframe thead th {\n        text-align: right;\n    }\n</style>\n<table border=\"1\" class=\"dataframe\">\n  <thead>\n    <tr style=\"text-align: right;\">\n      <th></th>\n      <th>Close</th>\n      <th>Volume</th>\n    </tr>\n  </thead>\n  <tbody>\n    <tr>\n      <th>count</th>\n      <td>193900.000000</td>\n      <td>193900.000000</td>\n    </tr>\n    <tr>\n      <th>mean</th>\n      <td>1.513250</td>\n      <td>5233.197968</td>\n    </tr>\n    <tr>\n      <th>std</th>\n      <td>0.215370</td>\n      <td>11369.920694</td>\n    </tr>\n    <tr>\n      <th>min</th>\n      <td>1.142900</td>\n      <td>1.000000</td>\n    </tr>\n    <tr>\n      <th>25%</th>\n      <td>1.322375</td>\n      <td>1562.000000</td>\n    </tr>\n    <tr>\n      <th>50%</th>\n      <td>1.517800</td>\n      <td>2935.000000</td>\n    </tr>\n    <tr>\n      <th>75%</th>\n      <td>1.613200</td>\n      <td>5508.000000</td>\n    </tr>\n    <tr>\n      <th>max</th>\n      <td>2.114300</td>\n      <td>556867.000000</td>\n    </tr>\n  </tbody>\n</table>\n</div>"
     },
     "execution_count": 4,
     "metadata": {},
     "output_type": "execute_result"
    }
   ],
   "source": [
    "gbpusd.describe()"
   ]
  },
  {
   "cell_type": "code",
   "execution_count": 5,
   "metadata": {
    "collapsed": false,
    "pycharm": {
     "name": "#%%\n"
    }
   },
   "outputs": [],
   "source": [
    "def shift_col(df, col_name, n):\n",
    "    \"\"\"\n",
    "    Shift column in df, n times\n",
    "    :param df: dataframe\n",
    "    :param col_name: str\n",
    "    :param n: int\n",
    "    :return: dateframe, list columns with shift\n",
    "    \"\"\"\n",
    "    list_shift = []\n",
    "    for i in range(1,n):\n",
    "        new_name_col = col_name + '_' + str(i)\n",
    "        df[new_name_col] = df[col_name].shift(i)\n",
    "        list_shift.append(new_name_col)\n",
    "\n",
    "    return df, list_shift"
   ]
  },
  {
   "cell_type": "code",
   "execution_count": 6,
   "metadata": {
    "collapsed": false,
    "pycharm": {
     "name": "#%%\n"
    }
   },
   "outputs": [
    {
     "data": {
      "text/plain": "                    ds   Close  Close_1  Close_2  Close_3  Close_4  Close_5  \\\n36 2007-01-02 00:00:00  1.9582   1.9586   1.9585   1.9582   1.9582   1.9582   \n37 2007-01-02 00:30:00  1.9578   1.9582   1.9586   1.9585   1.9582   1.9582   \n38 2007-01-02 01:00:00  1.9583   1.9578   1.9582   1.9586   1.9585   1.9582   \n39 2007-01-02 01:30:00  1.9582   1.9583   1.9578   1.9582   1.9586   1.9585   \n40 2007-01-02 02:00:00  1.9581   1.9582   1.9583   1.9578   1.9582   1.9586   \n\n    Close_6  Close_7  Close_8  ...  Volume_27  Volume_28  Volume_29  \\\n36   1.9584   1.9584   1.9583  ...     1358.0     1643.0     1704.0   \n37   1.9582   1.9584   1.9584  ...     1493.0     1358.0     1643.0   \n38   1.9582   1.9582   1.9584  ...     1547.0     1493.0     1358.0   \n39   1.9582   1.9582   1.9582  ...     1579.0     1547.0     1493.0   \n40   1.9585   1.9582   1.9582  ...     1596.0     1579.0     1547.0   \n\n    Volume_30  Volume_31  Volume_32  Volume_33  Volume_34  Volume_35  \\\n36     1565.0     1524.0     1729.0     1722.0     1352.0     1651.0   \n37     1704.0     1565.0     1524.0     1729.0     1722.0     1352.0   \n38     1643.0     1704.0     1565.0     1524.0     1729.0     1722.0   \n39     1358.0     1643.0     1704.0     1565.0     1524.0     1729.0   \n40     1493.0     1358.0     1643.0     1704.0     1565.0     1524.0   \n\n    Volume_36  \n36     1728.0  \n37     1651.0  \n38     1352.0  \n39     1722.0  \n40     1729.0  \n\n[5 rows x 75 columns]",
      "text/html": "<div>\n<style scoped>\n    .dataframe tbody tr th:only-of-type {\n        vertical-align: middle;\n    }\n\n    .dataframe tbody tr th {\n        vertical-align: top;\n    }\n\n    .dataframe thead th {\n        text-align: right;\n    }\n</style>\n<table border=\"1\" class=\"dataframe\">\n  <thead>\n    <tr style=\"text-align: right;\">\n      <th></th>\n      <th>ds</th>\n      <th>Close</th>\n      <th>Close_1</th>\n      <th>Close_2</th>\n      <th>Close_3</th>\n      <th>Close_4</th>\n      <th>Close_5</th>\n      <th>Close_6</th>\n      <th>Close_7</th>\n      <th>Close_8</th>\n      <th>...</th>\n      <th>Volume_27</th>\n      <th>Volume_28</th>\n      <th>Volume_29</th>\n      <th>Volume_30</th>\n      <th>Volume_31</th>\n      <th>Volume_32</th>\n      <th>Volume_33</th>\n      <th>Volume_34</th>\n      <th>Volume_35</th>\n      <th>Volume_36</th>\n    </tr>\n  </thead>\n  <tbody>\n    <tr>\n      <th>36</th>\n      <td>2007-01-02 00:00:00</td>\n      <td>1.9582</td>\n      <td>1.9586</td>\n      <td>1.9585</td>\n      <td>1.9582</td>\n      <td>1.9582</td>\n      <td>1.9582</td>\n      <td>1.9584</td>\n      <td>1.9584</td>\n      <td>1.9583</td>\n      <td>...</td>\n      <td>1358.0</td>\n      <td>1643.0</td>\n      <td>1704.0</td>\n      <td>1565.0</td>\n      <td>1524.0</td>\n      <td>1729.0</td>\n      <td>1722.0</td>\n      <td>1352.0</td>\n      <td>1651.0</td>\n      <td>1728.0</td>\n    </tr>\n    <tr>\n      <th>37</th>\n      <td>2007-01-02 00:30:00</td>\n      <td>1.9578</td>\n      <td>1.9582</td>\n      <td>1.9586</td>\n      <td>1.9585</td>\n      <td>1.9582</td>\n      <td>1.9582</td>\n      <td>1.9582</td>\n      <td>1.9584</td>\n      <td>1.9584</td>\n      <td>...</td>\n      <td>1493.0</td>\n      <td>1358.0</td>\n      <td>1643.0</td>\n      <td>1704.0</td>\n      <td>1565.0</td>\n      <td>1524.0</td>\n      <td>1729.0</td>\n      <td>1722.0</td>\n      <td>1352.0</td>\n      <td>1651.0</td>\n    </tr>\n    <tr>\n      <th>38</th>\n      <td>2007-01-02 01:00:00</td>\n      <td>1.9583</td>\n      <td>1.9578</td>\n      <td>1.9582</td>\n      <td>1.9586</td>\n      <td>1.9585</td>\n      <td>1.9582</td>\n      <td>1.9582</td>\n      <td>1.9582</td>\n      <td>1.9584</td>\n      <td>...</td>\n      <td>1547.0</td>\n      <td>1493.0</td>\n      <td>1358.0</td>\n      <td>1643.0</td>\n      <td>1704.0</td>\n      <td>1565.0</td>\n      <td>1524.0</td>\n      <td>1729.0</td>\n      <td>1722.0</td>\n      <td>1352.0</td>\n    </tr>\n    <tr>\n      <th>39</th>\n      <td>2007-01-02 01:30:00</td>\n      <td>1.9582</td>\n      <td>1.9583</td>\n      <td>1.9578</td>\n      <td>1.9582</td>\n      <td>1.9586</td>\n      <td>1.9585</td>\n      <td>1.9582</td>\n      <td>1.9582</td>\n      <td>1.9582</td>\n      <td>...</td>\n      <td>1579.0</td>\n      <td>1547.0</td>\n      <td>1493.0</td>\n      <td>1358.0</td>\n      <td>1643.0</td>\n      <td>1704.0</td>\n      <td>1565.0</td>\n      <td>1524.0</td>\n      <td>1729.0</td>\n      <td>1722.0</td>\n    </tr>\n    <tr>\n      <th>40</th>\n      <td>2007-01-02 02:00:00</td>\n      <td>1.9581</td>\n      <td>1.9582</td>\n      <td>1.9583</td>\n      <td>1.9578</td>\n      <td>1.9582</td>\n      <td>1.9586</td>\n      <td>1.9585</td>\n      <td>1.9582</td>\n      <td>1.9582</td>\n      <td>...</td>\n      <td>1596.0</td>\n      <td>1579.0</td>\n      <td>1547.0</td>\n      <td>1493.0</td>\n      <td>1358.0</td>\n      <td>1643.0</td>\n      <td>1704.0</td>\n      <td>1565.0</td>\n      <td>1524.0</td>\n      <td>1729.0</td>\n    </tr>\n  </tbody>\n</table>\n<p>5 rows × 75 columns</p>\n</div>"
     },
     "execution_count": 6,
     "metadata": {},
     "output_type": "execute_result"
    }
   ],
   "source": [
    "df = gbpusd.copy()\n",
    "df = df.rename(columns={'Time':'ds'})\n",
    "\n",
    "#Shift last x values\n",
    "last_x = 37\n",
    "\n",
    "df, list_shift = shift_col(df, 'Close', last_x)\n",
    "\n",
    "#Variance of shift values\n",
    "df['var_last_val'] = df[list_shift].var(axis=1)\n",
    "\n",
    "#Shift volume because is impossible to have on time\n",
    "df, _ = shift_col(df, 'Volume', last_x)\n",
    "df = df.drop(columns=['Volume'])\n",
    "\n",
    "df = df.dropna()\n",
    "df.head()#.iloc[:,2:].values"
   ]
  },
  {
   "cell_type": "markdown",
   "source": [
    "## Try with FF"
   ],
   "metadata": {
    "collapsed": false,
    "pycharm": {
     "name": "#%% md\n"
    }
   }
  },
  {
   "cell_type": "code",
   "execution_count": 9,
   "outputs": [
    {
     "data": {
      "text/plain": "Index(['ds', 'Close', 'Close_1', 'Close_2', 'Close_3', 'Close_4', 'Close_5',\n       'Close_6', 'Close_7', 'Close_8', 'Close_9', 'Close_10', 'Close_11',\n       'Close_12', 'Close_13', 'Close_14', 'Close_15', 'Close_16', 'Close_17',\n       'Close_18', 'Close_19', 'Close_20', 'Close_21', 'Close_22', 'Close_23',\n       'Close_24', 'Close_25', 'Close_26', 'Close_27', 'Close_28', 'Close_29',\n       'Close_30', 'Close_31', 'Close_32', 'Close_33', 'Close_34', 'Close_35',\n       'Close_36', 'var_last_val', 'Volume_1', 'Volume_2', 'Volume_3',\n       'Volume_4', 'Volume_5', 'Volume_6', 'Volume_7', 'Volume_8', 'Volume_9',\n       'Volume_10', 'Volume_11', 'Volume_12', 'Volume_13', 'Volume_14',\n       'Volume_15', 'Volume_16', 'Volume_17', 'Volume_18', 'Volume_19',\n       'Volume_20', 'Volume_21', 'Volume_22', 'Volume_23', 'Volume_24',\n       'Volume_25', 'Volume_26', 'Volume_27', 'Volume_28', 'Volume_29',\n       'Volume_30', 'Volume_31', 'Volume_32', 'Volume_33', 'Volume_34',\n       'Volume_35', 'Volume_36'],\n      dtype='object')"
     },
     "execution_count": 9,
     "metadata": {},
     "output_type": "execute_result"
    }
   ],
   "source": [
    "df.columns\n"
   ],
   "metadata": {
    "collapsed": false,
    "pycharm": {
     "name": "#%%\n"
    }
   }
  },
  {
   "cell_type": "code",
   "execution_count": 21,
   "outputs": [
    {
     "name": "stdout",
     "output_type": "stream",
     "text": [
      "[-6.76091807e-14+0.00000000e+00j  1.25558179e-13+8.19409140e-14j\n",
      " -2.24386278e-13+1.82076576e-13j -1.19835206e-13-2.27388883e-13j\n",
      " -5.36394684e-14+2.64117086e-14j  1.38746205e-14-1.42893095e-13j\n",
      "  8.42557232e-14-6.77236045e-14j  3.20283641e-16+1.04844812e-13j\n",
      "  4.71996809e-14-1.49285511e-14j -1.57905710e-14+1.07063607e-13j\n",
      " -2.74158235e-13-5.00000000e+02j  1.22464112e-14-7.32403374e-14j\n",
      "  3.28469482e-14-6.36495001e-14j  1.25633974e-14+3.38400144e-14j\n",
      " -2.37346877e-14+3.60951824e-14j -6.74951785e-14-6.02595948e-15j\n",
      "  9.23847812e-15-5.02367676e-15j -1.56363276e-13+1.44452859e-13j\n",
      " -2.39490874e-13-1.72985846e-13j  9.23488888e-14-1.21500681e-13j\n",
      " -1.07841866e-14-2.80861543e-14j -4.59713610e-14-3.37497850e-14j\n",
      " -1.91616110e-14-9.06214474e-14j -2.44594868e-14-1.00733863e-13j\n",
      " -7.15081007e-14+2.92828776e-14j  7.89476523e-14-1.53034660e-13j\n",
      "  8.32294143e-14-1.16982520e-13j  2.24497840e-14+7.66413004e-14j\n",
      "  2.74955379e-14-6.58877994e-14j  2.04917583e-14-4.59598397e-14j\n",
      "  4.26714844e-14-1.77635684e-14j  2.56198232e-14+2.40553705e-14j\n",
      "  6.10949567e-14-2.06136969e-14j  4.27677971e-14+4.77928198e-14j\n",
      " -3.09067584e-14+4.63631825e-14j -2.33321986e-14-1.89327435e-14j\n",
      "  3.23815531e-14-7.41141139e-15j  1.05902020e-15+1.51405330e-14j\n",
      " -5.25157241e-14+4.90725801e-14j  1.55290753e-14+1.49464171e-14j\n",
      "  1.03648948e-14-9.19004918e-15j -7.47779783e-14+2.47590372e-14j\n",
      " -1.50953984e-14-7.63629325e-14j -2.37749685e-14-2.37892645e-14j\n",
      " -1.66544246e-14+3.31038325e-14j -1.68423776e-14-1.00326463e-14j\n",
      " -1.22726727e-14-4.28000293e-14j -2.18617231e-14-1.54755592e-14j\n",
      " -3.34992564e-14-1.82505518e-14j  2.38076244e-14-6.20269656e-14j\n",
      "  3.07621978e-14-1.45550737e-14j -1.43711878e-14-1.75646320e-14j\n",
      " -1.84583642e-14-1.04883264e-14j  4.52996380e-14-1.74866479e-14j\n",
      "  1.63569812e-14-4.14227425e-14j  5.42256507e-16-2.98618773e-14j\n",
      "  4.45663372e-14+8.05866912e-15j  2.26135265e-14+2.24767155e-14j\n",
      " -3.28173514e-14+3.03951484e-14j  1.53524273e-14-1.83289757e-14j\n",
      "  2.24641054e-14-1.08395469e-14j  1.86629493e-14+1.56306399e-14j\n",
      " -2.02341827e-14+2.76127613e-14j  1.53838343e-14-9.80587967e-15j\n",
      " -3.27721567e-14+3.14540830e-14j -3.42629228e-14-8.10455830e-15j\n",
      " -2.04201303e-14-1.39273124e-14j  3.01485907e-15+8.58491448e-15j\n",
      " -2.02511521e-14+1.99430756e-15j -2.21219605e-14-1.42934776e-14j\n",
      "  5.81535207e-15-1.05007837e-14j -1.84450637e-14-3.32635209e-14j\n",
      " -4.31174177e-14-1.36146271e-14j  4.27983608e-14-1.42662345e-14j\n",
      "  1.28512381e-14-9.57341094e-15j -1.66179037e-14-1.99854818e-14j\n",
      " -4.16041897e-15-8.52382394e-15j  9.46091163e-15-6.14978792e-15j\n",
      " -1.47510584e-15-1.73984737e-14j  7.21295635e-15-2.49453791e-14j\n",
      "  4.01179236e-14+2.77529709e-16j -1.81064092e-15+1.39004720e-14j\n",
      " -1.01908026e-14+3.19361788e-14j -2.76127853e-14-3.04120885e-14j\n",
      "  2.00214280e-14-1.97805127e-14j  1.38760600e-14-1.32116492e-14j\n",
      " -1.89094366e-14+1.20179346e-14j  1.94378330e-14+1.76128144e-14j\n",
      " -9.75510498e-15+1.11643302e-14j -2.74958094e-14-1.85798698e-14j\n",
      " -1.01994396e-14-7.25078678e-16j -1.64520430e-14-1.28100497e-16j\n",
      " -1.49115056e-14+1.49218463e-14j -1.86508719e-14-1.38566389e-14j\n",
      " -1.14860900e-14+1.33245366e-14j -4.24135519e-14-1.67612523e-14j\n",
      "  9.66265501e-15-1.73336115e-14j -4.32591485e-15-3.30090397e-14j\n",
      " -9.98981123e-15+6.62539906e-15j -2.49570563e-14-2.80281624e-14j\n",
      "  1.98353612e-14-1.17029969e-15j -3.14280759e-14-1.49597058e-14j\n",
      " -4.20396051e-15-1.66921412e-14j -6.97235295e-14-1.57356632e-14j\n",
      "  7.82801701e-14-1.58403903e-14j -1.13679237e-13-5.09688877e-14j\n",
      " -9.50005331e-15-6.78514775e-14j  1.59183108e-13-4.89035821e-14j\n",
      " -2.27814689e-14+1.84705247e-14j  4.93949896e-14-2.03913494e-15j\n",
      " -5.20206760e-15+2.65548841e-14j  2.17077992e-14+5.88429106e-16j\n",
      " -2.21564679e-14+1.02517915e-14j  9.87749878e-15-2.05473694e-14j\n",
      " -1.01068120e-14+1.29253842e-14j -4.32861401e-15+1.17204127e-14j\n",
      "  1.60182567e-14+5.40962636e-15j -5.20780542e-15-2.11948738e-14j\n",
      " -1.82237439e-14+2.26018218e-14j -2.63220610e-14-2.50497095e-14j\n",
      "  1.04961200e-14-8.52382484e-15j -1.69544312e-14-9.26922862e-15j\n",
      " -9.63482165e-15-3.40635528e-15j -4.19711961e-14-1.43759784e-14j\n",
      "  4.89146587e-14+4.29347226e-15j -1.18087481e-13-5.08351912e-14j\n",
      " -4.32816254e-15-8.39300179e-14j  1.71112166e-13-6.63537367e-14j\n",
      " -2.19311505e-14+4.09323649e-14j  2.74605841e-14+1.34246606e-14j\n",
      "  1.57081971e-14-2.41771010e-15j  2.37754468e-14-2.58244007e-14j\n",
      "  1.00557216e-16+5.93521544e-15j  2.70674986e-14-7.55734914e-15j\n",
      " -1.21391495e-15+1.52563733e-14j  1.05527441e-14+1.80261101e-14j\n",
      " -3.28671848e-15+3.78391431e-15j  1.15531122e-14-1.32485457e-14j\n",
      " -3.96344533e-15+1.57243891e-14j -1.89951708e-15-1.34824737e-14j\n",
      " -7.02533923e-15-2.27219540e-15j -4.01383228e-16+3.67666897e-15j\n",
      " -9.88819965e-15+1.39943517e-14j -3.43889410e-15-3.16968039e-14j\n",
      "  9.93088053e-15+3.96911687e-15j  1.03977877e-14-5.58636547e-16j\n",
      " -8.14613343e-15-4.81659186e-15j  1.70154731e-14-2.53385093e-14j\n",
      " -7.84256496e-15+1.75693573e-14j -2.77485173e-14+1.27412925e-14j\n",
      "  5.95706303e-15-2.60390728e-14j  1.70472987e-14-1.37427277e-14j\n",
      "  8.05048911e-15+7.56954166e-15j -6.93415384e-16-1.08444753e-14j\n",
      "  2.43325732e-15+1.00131417e-14j -2.83041088e-15-5.15063610e-15j\n",
      "  8.97439760e-15-5.35617784e-15j  1.66430916e-14-7.89660674e-15j\n",
      "  1.29052325e-14+1.58316930e-14j  1.37119997e-15+3.67648972e-16j\n",
      " -6.49436996e-15-8.18500705e-15j  1.00226361e-14+1.09953053e-14j\n",
      " -2.63551949e-15-6.50588835e-16j -7.50732037e-15+6.40822046e-15j\n",
      "  9.83292878e-15+3.73553032e-15j -3.20568150e-15+9.28267136e-15j\n",
      " -2.33338163e-14-4.35850665e-15j -3.09252319e-16-2.28129141e-14j\n",
      " -6.32077793e-15-7.08320115e-15j -1.53232187e-14+1.21620894e-14j\n",
      " -2.06417896e-14-1.28050916e-14j  1.83978566e-14-1.35029793e-14j\n",
      "  1.13796166e-15+5.41966040e-15j -1.49766176e-14-8.44065742e-15j\n",
      "  8.42278975e-15-1.31550427e-14j  5.08843977e-15-1.36750910e-15j\n",
      "  9.06472850e-16-1.94091743e-14j  2.21979764e-14+8.10661078e-15j\n",
      "  1.46138395e-14+7.22609711e-15j -9.14993792e-15-2.55021426e-15j\n",
      "  2.14132037e-15-1.02041043e-14j  9.43526096e-15+3.32585694e-15j\n",
      " -3.03000400e-15+6.50656928e-15j -1.48788830e-14+7.78547951e-15j\n",
      "  1.55505512e-14-8.01095228e-15j  1.26362445e-15+5.16844589e-16j\n",
      " -5.64025435e-15+2.85382765e-15j -2.71032429e-15-2.15751827e-15j\n",
      "  1.46321942e-14-1.07512862e-15j -2.23104491e-14+1.09732794e-14j\n",
      " -8.86511887e-15+0.00000000e+00j -5.90838066e-16-1.17819427e-14j\n",
      "  2.53352976e-15+1.01964626e-14j -2.38148441e-14+5.76590363e-16j\n",
      " -1.95709731e-15-6.26877690e-15j  1.03036853e-14-9.69160153e-15j\n",
      " -1.86933996e-14-9.59001446e-15j -4.45879218e-15-4.59542314e-16j\n",
      "  1.04043116e-14+5.57300549e-15j -4.75693825e-14-6.11795144e-15j\n",
      "  4.27430144e-15-6.36220249e-14j  2.88666111e-14-1.11486666e-15j\n",
      "  8.92285907e-15-4.04704798e-15j  3.31507804e-15-8.89531009e-15j\n",
      "  1.56485688e-14-1.50458782e-14j  1.35824434e-14+3.91808423e-15j\n",
      " -3.66538653e-15+2.48778567e-14j  5.24158782e-15-4.96910745e-15j\n",
      "  3.06626415e-15-7.17069939e-15j -3.47765628e-15+1.21829389e-14j\n",
      " -1.32248886e-14+1.07214849e-15j -2.73587644e-15-7.95459051e-15j\n",
      "  2.30690258e-15+9.57024769e-15j -2.05934807e-14+5.38148702e-15j\n",
      " -1.88259003e-14-1.31241758e-14j  4.16619528e-15-1.06083625e-14j\n",
      " -1.25144379e-14+9.12956453e-15j -2.43979362e-14+1.34779742e-14j\n",
      "  6.51457302e-15+4.40826435e-15j -3.58581899e-14-2.09026532e-14j\n",
      " -4.39747509e-14-7.38535529e-14j  1.19798605e-15+2.69097280e-14j\n",
      "  8.42210029e-15-8.64453771e-14j  5.30936778e-14+2.37002820e-14j\n",
      "  3.38199948e-14-2.37482712e-14j  8.07928285e-15-2.21701623e-14j\n",
      " -9.06527427e-15+1.81539634e-14j  8.21845252e-15-7.56495896e-15j\n",
      "  1.60853430e-14-1.21605694e-14j  2.02065538e-14+7.87025391e-15j\n",
      " -4.84869091e-15+1.45569628e-14j  1.12688991e-14-1.26679227e-14j\n",
      "  1.16539976e-14-2.31464495e-15j  6.68777126e-15+5.83887924e-15j\n",
      " -3.83161027e-15-6.48834228e-15j  5.42995764e-15+3.86953262e-15j\n",
      "  2.62188609e-16+1.65482153e-14j -1.24246436e-14+1.74063110e-14j\n",
      "  6.04416952e-15+2.00483886e-15j  3.66617455e-15-1.90752845e-14j\n",
      " -3.31213949e-14-4.50567837e-15j -2.81210659e-14+2.12198604e-14j\n",
      "  2.21784246e-15-8.24917256e-14j  5.11011041e-14+2.68314398e-14j\n",
      "  3.50438633e-14-1.84237971e-15j -1.25809254e-14-3.12661698e-14j\n",
      " -8.99477651e-15+4.38674258e-15j  5.01459642e-16+1.37634751e-15j\n",
      "  1.69422569e-14-1.52444666e-14j  1.73290859e-14+5.42119622e-15j\n",
      " -1.36996849e-15+1.28477310e-14j  1.19122619e-15-9.61808021e-15j\n",
      "  2.13976677e-14-5.44174905e-15j  7.40527839e-15+3.53085904e-15j\n",
      " -1.66071676e-15-1.10220658e-15j  7.81942041e-15-1.53144242e-15j\n",
      "  1.14300644e-14-1.26252185e-15j -5.62404716e-16+2.97980243e-15j\n",
      " -1.85722100e-15-3.64196782e-15j  7.71490846e-15+7.33872692e-15j\n",
      "  1.32216674e-14+1.52768362e-14j -4.89190202e-16-1.29169705e-15j\n",
      " -1.12858518e-14-1.37716704e-14j  6.69786989e-15+4.40436392e-15j\n",
      "  6.16602359e-15+1.74917637e-14j -2.55213138e-14-5.14569251e-15j\n",
      " -4.47823634e-15+4.02568522e-15j  7.14044675e-15-4.49276604e-15j\n",
      " -1.12033964e-14-1.24307245e-14j  1.59244781e-14+3.47797907e-15j\n",
      "  1.95282952e-14-1.29603645e-14j -1.91676654e-14-9.99129763e-15j\n",
      "  1.16679441e-14-1.89069120e-14j  1.92350689e-15+3.29714751e-16j\n",
      " -1.14817906e-14-5.84782459e-15j  8.62415073e-15-1.34276933e-14j\n",
      "  1.63365535e-14-9.24566799e-15j -4.12653709e-15+7.11627780e-15j\n",
      " -1.54189446e-15+6.13893714e-15j  9.10634378e-15-6.08762140e-16j\n",
      "  9.97898126e-15+6.06197335e-15j -1.14877689e-15+1.48578425e-15j\n",
      "  8.73235427e-17-1.49918906e-15j  3.58903666e-15+5.98220362e-15j\n",
      "  2.17003855e-15+6.71985357e-15j -1.36128878e-14-7.41076530e-15j\n",
      " -6.63070366e-15+4.31105776e-15j  1.43609173e-14-5.84000624e-15j\n",
      "  1.85446109e-15+1.04552241e-14j  4.45049040e-15-2.87856844e-15j\n",
      "  1.15721644e-14+5.68386249e-15j -2.03239131e-14+2.95708705e-16j\n",
      "  1.14697659e-14-1.67012603e-14j  2.05705663e-14-9.29216357e-15j\n",
      " -1.30266769e-14+2.85441657e-14j -5.14639088e-15-1.58904323e-14j\n",
      " -3.75153951e-15+8.67128936e-16j -5.28779004e-15+6.40349672e-15j\n",
      "  1.18412136e-15+3.42855095e-15j  9.32966575e-15-2.36904343e-14j\n",
      "  2.20936875e-15+2.47432134e-15j  1.94040870e-15-4.99224691e-15j\n",
      "  9.27571904e-15-2.32678828e-15j  9.01196427e-15-7.35196932e-15j\n",
      " -1.81775685e-16-7.18533954e-16j -4.15213200e-17-1.97267495e-15j\n",
      "  2.11707554e-15+1.84401878e-15j -6.28353208e-16+4.07526750e-15j\n",
      " -1.03418829e-15+1.40618749e-14j -8.58659118e-15+2.55016314e-15j\n",
      " -2.56078038e-14-2.22160778e-14j -2.12059984e-14+3.06163653e-15j\n",
      "  1.19096409e-14+1.29186483e-14j  2.79804871e-16-9.45274614e-15j\n",
      " -1.33234235e-14+4.07702108e-14j -7.96024379e-14-2.26002602e-14j\n",
      " -9.25323672e-15-9.05552183e-14j  5.48850054e-14+5.76625206e-15j\n",
      "  2.87825846e-16+4.93052065e-15j  1.34985585e-14-1.76762127e-14j\n",
      "  2.80283912e-16+3.18740065e-15j  1.00518527e-14+2.22228253e-15j\n",
      " -6.26788392e-15-3.54742277e-15j  8.92934048e-15-8.68751527e-15j\n",
      "  7.53056921e-15+5.98624981e-15j -2.79598462e-15-4.79335363e-15j\n",
      " -5.39626394e-16+1.11520831e-15j -4.26166102e-15-6.15240806e-15j\n",
      " -9.26186298e-16+3.98727840e-15j -1.02370750e-15-5.73498115e-15j\n",
      " -5.36292877e-15-1.09305699e-14j -1.81399363e-14+9.19783332e-16j\n",
      "  1.64881743e-14+1.68460886e-14j -2.49663599e-14-5.92619057e-15j\n",
      " -3.33946798e-15+6.18398178e-15j -8.04004526e-14-6.61692784e-15j\n",
      "  2.18123308e-14-8.48388632e-14j  2.11454200e-14-7.16280137e-15j\n",
      " -4.50364544e-15-1.90442366e-14j  5.70493439e-14-3.06748091e-14j\n",
      " -1.34531685e-14+1.14268669e-14j  3.30297262e-14+3.39183663e-15j\n",
      " -1.91943683e-15-2.71024430e-15j  9.07552387e-15-1.23165423e-14j\n",
      "  6.41684820e-15+4.54801109e-15j  6.09809493e-15-8.85120527e-15j\n",
      "  8.90371217e-15-2.99288732e-15j  1.30304868e-14-1.63431198e-14j\n",
      "  7.42887882e-15+2.62358480e-15j  8.27130673e-15-7.76328123e-15j\n",
      "  1.40615549e-15+1.24528129e-14j  3.82818266e-15-1.08344380e-15j\n",
      "  1.34104262e-14-5.67090941e-16j -1.94162454e-17-8.84351905e-15j\n",
      "  6.45456766e-16+9.54443593e-15j -5.16770945e-15-3.38745639e-15j\n",
      "  1.78230355e-14+3.94821807e-15j -3.05270071e-14-7.14053278e-15j\n",
      "  3.25415370e-15-1.63002517e-14j  5.73611734e-14-3.01021865e-14j\n",
      " -3.39532335e-15+2.77821444e-14j  6.95133597e-15+7.74341363e-15j\n",
      " -1.06408323e-14-1.85430956e-15j -3.72752721e-15-5.59591092e-15j\n",
      "  3.85238632e-15-4.80019375e-16j  1.34465997e-14+3.19028543e-15j\n",
      "  2.45404137e-15+2.33684386e-15j  1.13214109e-15-1.18477462e-14j\n",
      " -7.55861220e-15+6.39947663e-15j -5.85801445e-16-2.95168657e-15j\n",
      "  6.14625184e-15-1.58655685e-14j  5.37284708e-15-9.03592391e-15j\n",
      "  4.85522916e-15-3.13352901e-15j  4.42161845e-15-7.65721615e-15j\n",
      " -8.60982318e-16+7.89172697e-16j  9.07038246e-15-1.15956102e-14j\n",
      "  7.00514751e-16-3.85697127e-15j  9.96471517e-15+7.65212188e-15j\n",
      "  2.69551231e-16+9.91630473e-15j  8.18702894e-15-2.48998179e-15j\n",
      "  9.37137957e-15+2.19448846e-14j -1.39713550e-14+1.22038377e-14j\n",
      " -9.59054643e-15-1.50300574e-14j -5.55015281e-16+1.05456366e-15j\n",
      "  1.31040566e-14+1.25516346e-14j  3.22775043e-15+6.93621080e-15j\n",
      "  2.14460549e-16+1.11925408e-14j -1.29606527e-14-1.82851825e-14j\n",
      " -6.61183826e-15-8.97232019e-15j  3.00698068e-15+3.52951374e-16j\n",
      " -3.42667806e-16-2.84217094e-14j -3.06688202e-15-1.09189477e-15j\n",
      " -2.85808381e-15+7.22401109e-16j  5.39032188e-15+4.53353449e-16j\n",
      "  2.52805379e-15+5.38574813e-15j  2.98521375e-15-5.52485832e-15j\n",
      " -1.12373588e-15-5.27982599e-15j  5.53549223e-15+4.29006954e-15j\n",
      " -9.79829914e-15+7.55155019e-16j -1.91851213e-15-4.46213159e-15j\n",
      "  5.39144181e-15-4.95648530e-15j  8.56096353e-15+2.65603652e-15j\n",
      " -1.07886216e-14-1.46194695e-14j  1.13070625e-14-1.41796485e-15j\n",
      "  1.31804142e-14+1.51487779e-14j -5.55180201e-15+8.12340864e-15j\n",
      "  6.51829609e-15-2.94625083e-15j  5.10342703e-16-1.23455369e-14j\n",
      " -7.49750578e-15-7.98804834e-15j  2.80582550e-14+1.73612297e-14j\n",
      " -3.29475198e-15+2.02053924e-15j -2.74242391e-14+1.24841446e-14j\n",
      "  3.24936124e-15+6.73645985e-15j -5.43100507e-15-6.31736831e-16j\n",
      " -1.82178989e-15+8.06523950e-15j -1.87450034e-14-4.41843438e-15j\n",
      " -2.10821647e-15-5.29999527e-15j -8.74641162e-15-8.13946536e-15j\n",
      " -3.05437709e-15-1.56967028e-15j -1.65385540e-14-8.96574262e-15j\n",
      "  1.39160215e-14+3.06082214e-16j -9.54571656e-15-5.26456352e-15j\n",
      " -1.77770862e-14+5.20813677e-15j -1.14298708e-14-6.50182526e-15j\n",
      "  1.18678201e-14+7.10468504e-16j -2.93812567e-14+3.15133462e-15j\n",
      " -5.92920445e-15-2.56613114e-15j -1.63098861e-14-1.14539156e-14j\n",
      " -7.33249140e-15+1.14238276e-14j -3.10320455e-14+6.35167691e-15j\n",
      " -4.35767314e-15+2.71184261e-14j -2.01262579e-13+2.94878080e-15j\n",
      "  1.48342502e-14-2.67420820e-13j  1.66161725e-13-7.75459069e-15j\n",
      " -5.10191081e-15+6.22828726e-15j  4.26189456e-14-5.25105260e-15j\n",
      "  2.92343177e-15+1.90625198e-15j  3.35304065e-14-6.78240503e-15j\n",
      " -2.85660551e-15+1.01061276e-14j  1.68218570e-15-7.83708971e-15j\n",
      " -2.86672538e-15+6.76416813e-15j  3.39437355e-15-9.21960954e-15j\n",
      " -1.44988403e-14+9.00447578e-15j -1.22531156e-15-1.89051899e-14j\n",
      "  3.80599768e-15+6.27206633e-15j -7.20648495e-15-5.01395846e-15j\n",
      " -1.60279928e-15+9.40410789e-15j -9.77475900e-15-2.36861568e-14j\n",
      "  1.30022383e-14+9.56593153e-15j -4.63536110e-14-8.80067433e-15j\n",
      " -1.63334950e-14+3.50650773e-15j -1.69145752e-13-5.06401751e-15j\n",
      "  2.45934947e-15-2.71273700e-13j  1.80380006e-13+4.11371475e-15j\n",
      "  5.38081333e-15-5.42205661e-14j  8.40028953e-14+3.87049992e-15j\n",
      "  1.44716502e-14+2.15378116e-14j  5.95095017e-14-3.76999391e-15j\n",
      "  8.04611702e-15+2.01312389e-14j  2.79722056e-14-1.93178781e-14j\n",
      "  1.38940072e-15-4.01001796e-15j  2.93485475e-14-7.66112274e-15j\n",
      "  5.47196075e-15+1.38598309e-14j  1.78727638e-14-1.32276346e-14j\n",
      "  4.85254980e-15+9.26447752e-15j  2.56509005e-14+4.59407048e-15j\n",
      "  7.77807034e-15+1.08007032e-14j  2.14309543e-14-2.21258806e-14j\n",
      "  1.18826452e-14+1.12415942e-14j  1.10148512e-14-3.43394858e-15j\n",
      " -2.02087829e-14-1.42785927e-14j  1.12892263e-14-1.20054799e-14j\n",
      "  1.08800140e-14+1.18331775e-14j  7.61705168e-15+9.80974799e-16j\n",
      "  9.69100944e-15-5.45464077e-14j  3.26818257e-14+1.84704677e-15j\n",
      "  2.65183165e-14+3.38769378e-14j  6.65093632e-15-8.23822338e-15j\n",
      "  2.77562996e-14+2.98222584e-15j  9.27231205e-15-9.41060265e-15j\n",
      "  1.40865422e-14-1.80601819e-15j  1.88580950e-14+2.28059535e-15j\n",
      "  3.07457894e-15+1.63135576e-14j -2.69329001e-15-1.79011155e-15j\n",
      "  1.35752528e-14+1.84114771e-16j  7.31988271e-15+7.40807351e-15j\n",
      "  1.00774944e-14+1.17311661e-14j -7.64667894e-15-1.06700592e-14j\n",
      "  1.95082030e-14+1.32444831e-15j  1.02840464e-15-1.47513373e-15j\n",
      "  1.85837898e-14-7.65174333e-16j  1.02040773e-14-1.10805156e-14j\n",
      "  2.85782432e-14+5.00777071e-15j -4.22519754e-15-2.79877102e-15j\n",
      "  1.09347987e-14+3.06390528e-15j  1.51598882e-14-5.80730481e-15j\n",
      "  2.46347026e-14+1.56223040e-14j -1.30363780e-14-6.75140214e-15j\n",
      "  1.04758153e-14-9.09410159e-15j  1.09821676e-14+2.41486558e-16j\n",
      "  1.19938101e-14+1.18329136e-30j  1.09821676e-14-2.41486558e-16j\n",
      "  1.02250574e-14+1.61386077e-14j -1.30363780e-14+6.75140214e-15j\n",
      "  2.46347026e-14-1.56223040e-14j  1.51598882e-14+5.80730481e-15j\n",
      "  1.66305849e-14-1.10818683e-15j -4.22519754e-15+2.79877102e-15j\n",
      "  2.85782432e-14-5.00777071e-15j  1.02040773e-14+1.10805156e-14j\n",
      "  1.15774521e-15+1.60402094e-14j  1.02840464e-15+1.47513373e-15j\n",
      "  1.95082030e-14-1.32444831e-15j -7.64667894e-15+1.06700592e-14j\n",
      "  1.25771482e-14-1.01622119e-14j  7.31988271e-15-7.40807351e-15j\n",
      "  1.35752528e-14-1.84114771e-16j -2.69329001e-15+1.79011155e-15j\n",
      "  8.52785754e-15-1.55612081e-14j  1.88580950e-14-2.28059535e-15j\n",
      "  1.40865422e-14+1.80601819e-15j  9.27231205e-15+9.41060265e-15j\n",
      "  2.73801486e-14-4.01415536e-15j  6.65093632e-15+8.23822338e-15j\n",
      "  2.65183165e-14-3.38769378e-14j  3.26818257e-14-1.84704677e-15j\n",
      "  8.27431430e-15+4.77587405e-14j  7.61705168e-15-9.80974799e-16j\n",
      "  1.08800140e-14-1.18331775e-14j  1.12892263e-14+1.20054799e-14j\n",
      " -1.09401471e-14+1.49698291e-14j  1.10148512e-14+3.43394858e-15j\n",
      "  1.18826452e-14-1.12415942e-14j  2.14309543e-14+2.21258806e-14j\n",
      "  9.45422932e-15-8.26629272e-15j  2.56509005e-14-4.59407048e-15j\n",
      "  4.85254980e-15-9.26447752e-15j  1.78727638e-14+1.32276346e-14j\n",
      "  2.55637157e-15-1.43406399e-14j  2.93485475e-14+7.66112274e-15j\n",
      "  1.38940072e-15+4.01001796e-15j  2.79722056e-14+1.93178781e-14j\n",
      "  1.48807919e-14-1.09858628e-14j  5.95095017e-14+3.76999391e-15j\n",
      "  1.44716502e-14-2.15378116e-14j  8.40028953e-14-3.87049992e-15j\n",
      "  2.21454513e-15+4.66774897e-14j  1.80380006e-13-4.11371475e-15j\n",
      "  2.45934947e-15+2.71273700e-13j -1.69145752e-13+5.06401751e-15j\n",
      "  1.83611193e-15-1.48107994e-14j -4.63536110e-14+8.80067433e-15j\n",
      "  1.30022383e-14-9.56593153e-15j -9.77475900e-15+2.36861568e-14j\n",
      " -8.90830024e-15-9.21207371e-15j -7.20648495e-15+5.01395846e-15j\n",
      "  3.80599768e-15-6.27206633e-15j -1.22531156e-15+1.89051899e-14j\n",
      " -1.45049259e-14-1.19590252e-14j  3.39437355e-15+9.21960954e-15j\n",
      " -2.86672538e-15-6.76416813e-15j  1.68218570e-15+7.83708971e-15j\n",
      " -2.70889117e-15-8.25590489e-15j  3.35304065e-14+6.78240503e-15j\n",
      "  2.92343177e-15-1.90625198e-15j  4.26189456e-14+5.25105260e-15j\n",
      " -1.04932812e-15-4.60631832e-15j  1.66161725e-13+7.75459069e-15j\n",
      "  1.48342502e-14+2.67420820e-13j -2.01262579e-13-2.94878080e-15j\n",
      " -6.22320727e-15-1.64762979e-14j -3.10320455e-14-6.35167691e-15j\n",
      " -7.33249140e-15-1.14238276e-14j -1.63098861e-14+1.14539156e-14j\n",
      " -7.51522611e-15-5.31310791e-15j -2.93812567e-14-3.15133462e-15j\n",
      "  1.18678201e-14-7.10468504e-16j -1.14298708e-14+6.50182526e-15j\n",
      " -8.29125167e-15-2.62454527e-15j -9.54571656e-15+5.26456352e-15j\n",
      "  1.39160215e-14-3.06082214e-16j -1.65385540e-14+8.96574262e-15j\n",
      " -9.23397345e-15-3.03502615e-15j -8.74641162e-15+8.13946536e-15j\n",
      " -2.10821647e-15+5.29999527e-15j -1.87450034e-14+4.41843438e-15j\n",
      " -1.72317386e-15-1.79908122e-15j -5.43100507e-15+6.31736831e-16j\n",
      "  3.24936124e-15-6.73645985e-15j -2.74242391e-14-1.24841446e-14j\n",
      " -2.12961668e-14-4.26325641e-14j  2.80582550e-14-1.73612297e-14j\n",
      " -7.49750578e-15+7.98804834e-15j  5.10342703e-16+1.23455369e-14j\n",
      "  9.79093553e-15-5.53567602e-16j -5.55180201e-15-8.12340864e-15j\n",
      "  1.31804142e-14-1.51487779e-14j  1.13070625e-14+1.41796485e-15j\n",
      " -9.53943931e-15+1.64509344e-14j  8.56096353e-15-2.65603652e-15j\n",
      "  5.39144181e-15+4.95648530e-15j -1.91851213e-15+4.46213159e-15j\n",
      " -8.70038888e-15+5.38198270e-16j  5.53549223e-15-4.29006954e-15j\n",
      " -1.12373588e-15+5.27982599e-15j  2.98521375e-15+5.52485832e-15j\n",
      "  2.20404280e-15-8.01953846e-16j  5.39032188e-15-4.53353449e-16j\n",
      " -2.85808381e-15-7.22401109e-16j -3.06688202e-15+1.09189477e-15j\n",
      " -3.29475198e-15-1.62313940e-14j  3.00698068e-15-3.52951374e-16j\n",
      " -6.61183826e-15+8.97232019e-15j -1.29606527e-14+1.82851825e-14j\n",
      " -2.32489703e-15-1.79700696e-14j  3.22775043e-15-6.93621080e-15j\n",
      "  1.31040566e-14-1.25516346e-14j -5.55015281e-16-1.05456366e-15j\n",
      " -8.31721275e-15+1.61964767e-14j -1.39713550e-14-1.22038377e-14j\n",
      "  9.37137957e-15-2.19448846e-14j  8.18702894e-15+2.48998179e-15j\n",
      "  8.42199700e-15-3.37743014e-15j  9.96471517e-15-7.65212188e-15j\n",
      "  7.00514751e-16+3.85697127e-15j  9.07038246e-15+1.15956102e-14j\n",
      " -3.54343048e-15-3.96321637e-15j  4.42161845e-15+7.65721615e-15j\n",
      "  4.85522916e-15+3.13352901e-15j  5.37284708e-15+9.03592391e-15j\n",
      "  2.39998985e-15+2.92066588e-14j -5.85801445e-16+2.95168657e-15j\n",
      " -7.55861220e-15-6.39947663e-15j  1.13214109e-15+1.18477462e-14j\n",
      "  4.60666799e-15-4.29254425e-15j  1.34465997e-14-3.19028543e-15j\n",
      "  3.85238632e-15+4.80019375e-16j -3.72752721e-15+5.59591092e-15j\n",
      " -1.31861746e-14+2.09355667e-15j  6.95133597e-15-7.74341363e-15j\n",
      " -3.39532335e-15-2.77821444e-14j  5.73611734e-14+3.01021865e-14j\n",
      " -3.82419736e-17+1.09133837e-14j -3.05270071e-14+7.14053278e-15j\n",
      "  1.78230355e-14-3.94821807e-15j -5.16770945e-15+3.38745639e-15j\n",
      " -3.89013660e-16-1.14678421e-14j -1.94162454e-17+8.84351905e-15j\n",
      "  1.34104262e-14+5.67090941e-16j  3.82818266e-15+1.08344380e-15j\n",
      "  7.67036796e-15-1.47265029e-14j  8.27130673e-15+7.76328123e-15j\n",
      "  7.42887882e-15-2.62358480e-15j  1.30304868e-14+1.63431198e-14j\n",
      "  9.12963466e-15+2.70357785e-15j  6.09809493e-15+8.85120527e-15j\n",
      "  6.41684820e-15-4.54801109e-15j  9.07552387e-15+1.23165423e-14j\n",
      " -6.57176668e-15+2.77922797e-16j  3.30297262e-14-3.39183663e-15j\n",
      " -1.34531685e-14-1.14268669e-14j  5.70493439e-14+3.06748091e-14j\n",
      " -3.57130516e-15+1.83190064e-14j  2.11454200e-14+7.16280137e-15j\n",
      "  2.18123308e-14+8.48388632e-14j -8.04004526e-14+6.61692784e-15j\n",
      "  3.59033305e-15-1.08707352e-14j -2.49663599e-14+5.92619057e-15j\n",
      "  1.64881743e-14-1.68460886e-14j -1.81399363e-14-9.19783332e-16j\n",
      "  1.51576523e-14-1.37753820e-14j -1.02370750e-15+5.73498115e-15j\n",
      " -9.26186298e-16-3.98727840e-15j -4.26166102e-15+6.15240806e-15j\n",
      "  1.12279654e-15+7.09452667e-15j -2.79598462e-15+4.79335363e-15j\n",
      "  7.53056921e-15-5.98624981e-15j  8.92934048e-15+8.68751527e-15j\n",
      " -4.92667753e-15+3.72205228e-15j  1.00518527e-14-2.22228253e-15j\n",
      "  2.80283912e-16-3.18740065e-15j  1.34985585e-14+1.76762127e-14j\n",
      " -3.30342399e-15+6.41031338e-16j  5.48850054e-14-5.76625206e-15j\n",
      " -9.25323672e-15+9.05552183e-14j -7.96024379e-14+2.26002602e-14j\n",
      " -1.61609526e-14-3.74120797e-14j  2.79804871e-16+9.45274614e-15j\n",
      "  1.19096409e-14-1.29186483e-14j -2.12059984e-14-3.06163653e-15j\n",
      " -1.36702915e-14+1.45019507e-15j -8.58659118e-15-2.55016314e-15j\n",
      " -1.03418829e-15-1.40618749e-14j -6.28353208e-16-4.07526750e-15j\n",
      "  5.19814736e-15-6.17669656e-15j -4.15213200e-17+1.97267495e-15j\n",
      " -1.81775685e-16+7.18533954e-16j  9.01196427e-15+7.35196932e-15j\n",
      " -2.74745386e-15+5.31629769e-16j  1.94040870e-15+4.99224691e-15j\n",
      "  2.20936875e-15-2.47432134e-15j  9.32966575e-15+2.36904343e-14j\n",
      "  3.36352274e-15+5.69205971e-15j -5.28779004e-15-6.40349672e-15j\n",
      " -3.75153951e-15-8.67128936e-16j -5.14639088e-15+1.58904323e-14j\n",
      " -1.07150109e-14-2.99633301e-14j  2.05705663e-14+9.29216357e-15j\n",
      "  1.14697659e-14+1.67012603e-14j -2.03239131e-14-2.95708705e-16j\n",
      "  6.41917814e-15-6.55690695e-15j  4.45049040e-15+2.87856844e-15j\n",
      "  1.85446109e-15-1.04552241e-14j  1.43609173e-14+5.84000624e-15j\n",
      " -1.01327363e-14-3.20922015e-15j -1.36128878e-14+7.41076530e-15j\n",
      "  2.17003855e-15-6.71985357e-15j  3.58903666e-15-5.98220362e-15j\n",
      " -2.81658071e-15+4.10410499e-15j -1.14877689e-15-1.48578425e-15j\n",
      "  9.97898126e-15-6.06197335e-15j  9.10634378e-15+6.08762140e-16j\n",
      " -7.43290005e-16-6.81530480e-15j -4.12653709e-15-7.11627780e-15j\n",
      "  1.63365535e-14+9.24566799e-15j  8.62415073e-15+1.34276933e-14j\n",
      " -2.84399737e-15+9.70981948e-16j  1.92350689e-15-3.29714751e-16j\n",
      "  1.16679441e-14+1.89069120e-14j -1.91676654e-14+9.99129763e-15j\n",
      " -1.39682792e-14+9.75417683e-15j  1.59244781e-14-3.47797907e-15j\n",
      " -1.12033964e-14+1.24307245e-14j  7.14044675e-15+4.49276604e-15j\n",
      " -4.50202950e-15-2.38573345e-15j -2.55213138e-14+5.14569251e-15j\n",
      "  6.16602359e-15-1.74917637e-14j  6.69786989e-15-4.40436392e-15j\n",
      " -5.51738871e-16+4.05935940e-15j -4.89190202e-16+1.29169705e-15j\n",
      "  1.32216674e-14-1.52768362e-14j  7.71490846e-15-7.33872692e-15j\n",
      " -8.46485222e-15+6.48137783e-15j -5.62404716e-16-2.97980243e-15j\n",
      "  1.14300644e-14+1.26252185e-15j  7.81942041e-15+1.53144242e-15j\n",
      " -6.56431775e-15+4.63343690e-15j  7.40527839e-15-3.53085904e-15j\n",
      "  2.13976677e-14+5.44174905e-15j  1.19122619e-15+9.61808021e-15j\n",
      "  6.66867069e-15-1.45803563e-14j  1.73290859e-14-5.42119622e-15j\n",
      "  1.69422569e-14+1.52444666e-14j  5.01459642e-16-1.37634751e-15j\n",
      " -9.21165886e-15-1.31306892e-14j -1.25809254e-14+3.12661698e-14j\n",
      "  3.50438633e-14+1.84237971e-15j  5.11011041e-14-2.68314398e-14j\n",
      "  3.03954452e-15+8.62760121e-14j -2.81210659e-14-2.12198604e-14j\n",
      " -3.31213949e-14+4.50567837e-15j  3.66617455e-15+1.90752845e-14j\n",
      "  3.52679125e-15+4.93792180e-16j -1.24246436e-14-1.74063110e-14j\n",
      "  2.62188609e-16-1.65482153e-14j  5.42995764e-15-3.86953262e-15j\n",
      " -8.09223797e-15+1.88717358e-15j  6.68777126e-15-5.83887924e-15j\n",
      "  1.16539976e-14+2.31464495e-15j  1.12688991e-14+1.26679227e-14j\n",
      " -3.50214541e-15+5.69037210e-15j  2.02065538e-14-7.87025391e-15j\n",
      "  1.60853430e-14+1.21605694e-14j  8.21845252e-15+7.56495896e-15j\n",
      " -1.19346182e-14-2.29282603e-14j  8.07928285e-15+2.21701623e-14j\n",
      "  3.38199948e-14+2.37482712e-14j  5.30936778e-14-2.37002820e-14j\n",
      "  8.16831821e-15+9.76871421e-14j  1.19798605e-15-2.69097280e-14j\n",
      " -4.39747509e-14+7.38535529e-14j -3.58581899e-14+2.09026532e-14j\n",
      "  1.06296977e-14+3.32137160e-16j -2.43979362e-14-1.34779742e-14j\n",
      " -1.25144379e-14-9.12956453e-15j  4.16619528e-15+1.06083625e-14j\n",
      " -2.43527904e-14+6.33321790e-15j -2.05934807e-14-5.38148702e-15j\n",
      "  2.30690258e-15-9.57024769e-15j -2.73587644e-15+7.95459051e-15j\n",
      " -1.14368694e-14-1.42108547e-14j -3.47765628e-15-1.21829389e-14j\n",
      "  3.06626415e-15+7.17069939e-15j  5.24158782e-15+4.96910745e-15j\n",
      " -8.94467183e-15-2.66412115e-14j  1.35824434e-14-3.91808423e-15j\n",
      "  1.56485688e-14+1.50458782e-14j  3.31507804e-15+8.89531009e-15j\n",
      "  1.01896633e-14+5.34954987e-15j  2.88666111e-14+1.11486666e-15j\n",
      "  4.27430144e-15+6.36220249e-14j -4.75693825e-14+6.11795144e-15j\n",
      "  1.23016906e-14-4.07614128e-15j -4.45879218e-15+4.59542314e-16j\n",
      " -1.86933996e-14+9.59001446e-15j  1.03036853e-14+9.69160153e-15j\n",
      " -1.44236434e-14+6.62592355e-15j -2.38148441e-14-5.76590363e-16j\n",
      "  2.53352976e-15-1.01964626e-14j -5.90838066e-16+1.17819427e-14j\n",
      " -1.32248886e-14-1.07214849e-15j -2.23104491e-14-1.09732794e-14j\n",
      "  1.46321942e-14+1.07512862e-15j -2.71032429e-15+2.15751827e-15j\n",
      " -6.46105423e-15-4.41772496e-15j  1.26362445e-15-5.16844589e-16j\n",
      "  1.55505512e-14+8.01095228e-15j -1.48788830e-14-7.78547951e-15j\n",
      "  5.65659133e-16-1.80928462e-14j  9.43526096e-15-3.32585694e-15j\n",
      "  2.14132037e-15+1.02041043e-14j -9.14993792e-15+2.55021426e-15j\n",
      "  1.50572382e-14-1.05242932e-14j  2.21979764e-14-8.10661078e-15j\n",
      "  9.06472850e-16+1.94091743e-14j  5.08843977e-15+1.36750910e-15j\n",
      "  4.30395985e-15+1.70761888e-14j -1.49766176e-14+8.44065742e-15j\n",
      "  1.13796166e-15-5.41966040e-15j  1.83978566e-14+1.35029793e-14j\n",
      " -9.02515632e-15+1.79357943e-14j -1.53232187e-14-1.21620894e-14j\n",
      " -6.32077793e-15+7.08320115e-15j -3.09252319e-16+2.28129141e-14j\n",
      " -2.36851714e-14+8.02219019e-15j -3.20568150e-15-9.28267136e-15j\n",
      "  9.83292878e-15-3.73553032e-15j -7.50732037e-15-6.40822046e-15j\n",
      " -2.47092441e-15-8.09593765e-15j  1.00226361e-14-1.09953053e-14j\n",
      " -6.49436996e-15+8.18500705e-15j  1.37119997e-15-3.67648972e-16j\n",
      "  1.36899065e-14-2.25097170e-14j  1.66430916e-14+7.89660674e-15j\n",
      "  8.97439760e-15+5.35617784e-15j -2.83041088e-15+5.15063610e-15j\n",
      "  8.31112674e-15-1.47345471e-14j -6.93415384e-16+1.08444753e-14j\n",
      "  8.05048911e-15-7.56954166e-15j  1.70472987e-14+1.37427277e-14j\n",
      "  2.88960024e-14+3.60391195e-14j -2.77485173e-14-1.27412925e-14j\n",
      " -7.84256496e-15-1.75693573e-14j  1.70154731e-14+2.53385093e-14j\n",
      " -7.52482067e-15+2.17998487e-15j  1.03977877e-14+5.58636547e-16j\n",
      "  9.93088053e-15-3.96911687e-15j -3.43889410e-15+3.16968039e-14j\n",
      " -1.22329062e-14-5.72969356e-15j -4.01383228e-16-3.67666897e-15j\n",
      " -7.02533923e-15+2.27219540e-15j -1.89951708e-15+1.34824737e-14j\n",
      " -2.20120923e-15-1.60409095e-14j  1.15531122e-14+1.32485457e-14j\n",
      " -3.28671848e-15-3.78391431e-15j  1.05527441e-14-1.80261101e-14j\n",
      " -3.32421745e-15-2.41331005e-14j  2.70674986e-14+7.55734914e-15j\n",
      "  1.00557216e-16-5.93521544e-15j  2.37754468e-14+2.58244007e-14j\n",
      "  2.54122100e-14+1.59879861e-14j  2.74605841e-14-1.34246606e-14j\n",
      " -2.19311505e-14-4.09323649e-14j  1.71112166e-13+6.63537367e-14j\n",
      " -8.64269319e-15+8.07497328e-14j -1.18087481e-13+5.08351912e-14j\n",
      "  4.89146587e-14-4.29347226e-15j -4.19711961e-14+1.43759784e-14j\n",
      " -8.37561064e-15-9.22292062e-16j -1.69544312e-14+9.26922862e-15j\n",
      "  1.04961200e-14+8.52382484e-15j -2.63220610e-14+2.50497095e-14j\n",
      " -1.59627143e-14-1.45244658e-14j -5.20780542e-15+2.11948738e-14j\n",
      "  1.60182567e-14-5.40962636e-15j -4.32861401e-15-1.17204127e-14j\n",
      " -7.94925557e-15-6.88062926e-15j  9.87749878e-15+2.05473694e-14j\n",
      " -2.21564679e-14-1.02517915e-14j  2.17077992e-14-5.88429106e-16j\n",
      "  1.20605462e-14-1.47070894e-14j  4.93949896e-14+2.03913494e-15j\n",
      " -2.27814689e-14-1.84705247e-14j  1.59183108e-13+4.89035821e-14j\n",
      " -1.46450660e-14+6.46778981e-14j -1.13679237e-13+5.09688877e-14j\n",
      "  7.82801701e-14+1.58403903e-14j -6.97235295e-14+1.57356632e-14j\n",
      " -4.88338863e-15+5.96329434e-15j -3.14280759e-14+1.49597058e-14j\n",
      "  1.98353612e-14+1.17029969e-15j -2.49570563e-14+2.80281624e-14j\n",
      " -7.83456118e-15+3.43512526e-15j -4.32591485e-15+3.30090397e-14j\n",
      "  9.66265501e-15+1.73336115e-14j -4.24135519e-14+1.67612523e-14j\n",
      " -9.36995727e-15-1.26276405e-14j -1.86508719e-14+1.38566389e-14j\n",
      " -1.49115056e-14-1.49218463e-14j -1.64520430e-14+1.28100497e-16j\n",
      " -7.08509568e-15-4.94032451e-15j -2.74958094e-14+1.85798698e-14j\n",
      " -9.75510498e-15-1.11643302e-14j  1.94378330e-14-1.76128144e-14j\n",
      " -1.60585292e-14-1.18980643e-14j  1.38760600e-14+1.32116492e-14j\n",
      "  2.00214280e-14+1.97805127e-14j -2.76127853e-14+3.04120885e-14j\n",
      " -8.23505683e-15-3.07490506e-14j -1.81064092e-15-1.39004720e-14j\n",
      "  4.01179236e-14-2.77529709e-16j  7.21295635e-15+2.49453791e-14j\n",
      " -5.23496125e-15+1.80045450e-14j  9.46091163e-15+6.14978792e-15j\n",
      " -4.16041897e-15+8.52382394e-15j -1.66179037e-14+1.99854818e-14j\n",
      "  1.37735873e-14+1.62392882e-14j  4.27983608e-14+1.42662345e-14j\n",
      " -4.31174177e-14+1.36146271e-14j -1.84450637e-14+3.32635209e-14j\n",
      "  1.20276001e-14-2.31244106e-15j -2.21219605e-14+1.42934776e-14j\n",
      " -2.02511521e-14-1.99430756e-15j  3.01485907e-15-8.58491448e-15j\n",
      " -2.74217121e-14+1.23057378e-14j -3.42629228e-14+8.10455830e-15j\n",
      " -3.27721567e-14-3.14540830e-14j  1.53838343e-14+9.80587967e-15j\n",
      " -1.76040243e-14-2.36627634e-14j  1.86629493e-14-1.56306399e-14j\n",
      "  2.24641054e-14+1.08395469e-14j  1.53524273e-14+1.83289757e-14j\n",
      " -3.11523868e-14-2.73247177e-14j  2.26135265e-14-2.24767155e-14j\n",
      "  4.45663372e-14-8.05866912e-15j  5.42256507e-16+2.98618773e-14j\n",
      "  5.89921514e-15+3.69112870e-14j  4.52996380e-14+1.74866479e-14j\n",
      " -1.84583642e-14+1.04883264e-14j -1.43711878e-14+1.75646320e-14j\n",
      "  4.93764522e-14+1.63320630e-14j  2.38076244e-14+6.20269656e-14j\n",
      " -3.34992564e-14+1.82505518e-14j -2.18617231e-14+1.54755592e-14j\n",
      " -1.11983731e-14+4.23897133e-14j -1.68423776e-14+1.00326463e-14j\n",
      " -1.66544246e-14-3.31038325e-14j -2.37749685e-14+2.37892645e-14j\n",
      " -1.34971015e-14+8.68228421e-14j -7.47779783e-14-2.47590372e-14j\n",
      "  1.03648948e-14+9.19004918e-15j  1.55290753e-14-1.49464171e-14j\n",
      " -4.42633463e-14-4.34514690e-14j  1.05902020e-15-1.51405330e-14j\n",
      "  3.23815531e-14+7.41141139e-15j -2.33321986e-14+1.89327435e-14j\n",
      " -2.99179454e-14-4.36369302e-14j  4.27677971e-14-4.77928198e-14j\n",
      "  6.10949567e-14+2.06136969e-14j  2.56198232e-14-2.40553705e-14j\n",
      "  4.00576801e-14+1.63448042e-14j  2.04917583e-14+4.59598397e-14j\n",
      "  2.74955379e-14+6.58877994e-14j  2.24497840e-14-7.66413004e-14j\n",
      "  7.00139774e-14+1.19417396e-13j  7.89476523e-14+1.53034660e-13j\n",
      " -7.15081007e-14-2.92828776e-14j -2.44594868e-14+1.00733863e-13j\n",
      " -1.91533079e-14+9.26240135e-14j -4.59713610e-14+3.37497850e-14j\n",
      " -1.07841866e-14+2.80861543e-14j  9.23488888e-14+1.21500681e-13j\n",
      " -2.43477001e-13+1.81306002e-13j -1.56363276e-13-1.44452859e-13j\n",
      "  9.23847812e-15+5.02367676e-15j -6.74951785e-14+6.02595948e-15j\n",
      " -3.28437813e-14-4.45358326e-14j  1.25633974e-14-3.38400144e-14j\n",
      "  3.28469482e-14+6.36495001e-14j  1.22464112e-14+7.32403374e-14j\n",
      " -2.86601866e-13+5.00000000e+02j -1.57905710e-14-1.07063607e-13j\n",
      "  4.71996809e-14+1.49285511e-14j  3.20283641e-16-1.04844812e-13j\n",
      "  9.81007440e-14+6.99734755e-14j  1.38746205e-14+1.42893095e-13j\n",
      " -5.36394684e-14-2.64117086e-14j -1.19835206e-13+2.27388883e-13j\n",
      " -2.34783864e-13-1.90523028e-13j  1.25558179e-13-8.19409140e-14j]\n"
     ]
    },
    {
     "data": {
      "text/plain": "<Figure size 432x288 with 1 Axes>",
      "image/png": "[encoded data removed]"
     },
     "metadata": {
      "needs_background": "light"
     },
     "output_type": "display_data"
    }
   ],
   "source": [
    "# ejemplo FF\n",
    "\n",
    "# Crear una señal de prueba\n",
    "\n",
    "# Frecuencia de muestreo representa la frecuencia de muestreo, es decir, la cantidad de muestras que se toman por segundo para representar una señal analógica.\n",
    "# En este caso, se está utilizando una frecuencia de muestreo de 1000 Hz, lo que significa que se tomarán 1000 muestras por segundo.\n",
    "fs = 1000\n",
    "\n",
    "# frecuencia de la señal (Hz): representa la frecuencia de la señal sinusoidal que se desea crear. En este caso, se está utilizando una frecuencia de 10 Hz.\n",
    "# Se mide en hercios (Hz), una unidad internacional de medida donde 1 hercio es igual a 1 ciclo por segundo.\n",
    "f = 10\n",
    "\n",
    "\n",
    "# vector de tiempo:  se está creando un vector de tiempo que va desde 0 hasta 1 segundo, con un incremento de 1/fs (0.001 segundos). El resultado es un vector de tiempo con 1000 muestras.\n",
    "t = np.arange(0, 1, 1/fs)\n",
    "\n",
    "# señal sinusoidal de frecuencia f representa la señal sinusoidal que se desea crear.\n",
    "# En este caso, se está creando una señal sinusoidal con frecuencia f (10 Hz) utilizando la función np.sin.\n",
    "# El argumento de la función es 2*np.pi*f*t, que representa el ángulo de la señal sinusoidal en cada punto del vector de tiempo t.\n",
    "# La señal sinusoidal resultante se guarda en la variable x.\n",
    "x = np.sin(2*np.pi*f*t)\n",
    "\n",
    "# En resumen, estas líneas de código crean una señal sinusoidal con una frecuencia de 10 Hz y una duración de 1 segundo, con una frecuencia de muestreo de 1000 Hz.\n",
    "# La señal resultante se guarda en la variable x. Esta señal se puede utilizar para demostrar el uso de la Transformada Rápida de Fourier (FFT) en Python, tal como se muestra en el ejemplo.\n",
    "\n",
    "\n",
    "# Plot x\n",
    "plt.plot(x)\n",
    "\n",
    "# Aplicar la FFT\n",
    "# La variable X contiene los coeficientes complejos de la FFT, que representan la amplitud y fase de cada componente de frecuencia en la señal.\n",
    "X = np.fft.fft(x)\n",
    "\n",
    "# # Calcular las frecuencias correspondientes a los coeficientes de la FFT\n",
    "# freqs = np.fft.fftfreq(len(x), 1/fs)\n",
    "#\n",
    "# # Graficar la señal en el dominio frecuencial\n",
    "# plt.plot(freqs, np.abs(X))\n",
    "# plt.xlabel('Frecuencia (Hz)')\n",
    "# plt.ylabel('Amplitud')\n",
    "# plt.show()"
   ],
   "metadata": {
    "collapsed": false,
    "pycharm": {
     "name": "#%%\n"
    }
   }
  },
  {
   "cell_type": "code",
   "execution_count": null,
   "outputs": [],
   "source": [],
   "metadata": {
    "collapsed": false,
    "pycharm": {
     "name": "#%%\n"
    }
   }
  },
  {
   "cell_type": "code",
   "execution_count": null,
   "outputs": [],
   "source": [],
   "metadata": {
    "collapsed": false,
    "pycharm": {
     "name": "#%%\n"
    }
   }
  },
  {
   "cell_type": "code",
   "execution_count": 137,
   "metadata": {
    "collapsed": false,
    "pycharm": {
     "name": "#%%\n"
    }
   },
   "outputs": [
    {
     "data": {
      "text/plain": [
       "1.30    7039\n",
       "1.56    6743\n",
       "1.29    6644\n",
       "1.31    6333\n",
       "1.61    5880\n",
       "1.60    5790\n",
       "1.55    5690\n",
       "1.59    5078\n",
       "1.54    4994\n",
       "1.32    4710\n",
       "Name: Close, dtype: int64"
      ]
     },
     "execution_count": 137,
     "metadata": {},
     "output_type": "execute_result"
    }
   ],
   "source": [
    "# TODO: Find the support and resistance\n",
    "\n",
    "#Top most frequent values with only 3 decimals\n",
    "df['Close'].astype(str).str[:4].value_counts()[:10]"
   ]
  },
  {
   "cell_type": "code",
   "execution_count": 166,
   "metadata": {
    "collapsed": false,
    "pycharm": {
     "name": "#%%\n"
    }
   },
   "outputs": [
    {
     "name": "stdout",
     "output_type": "stream",
     "text": [
      "X_train: (129888, 73), X_test: (63976, 73), y_train:(129888,), y_test:(63976,)\n"
     ]
    }
   ],
   "source": [
    "#Spit\n",
    "X_train, X_test, y_train, y_test = train_test_split(df.iloc[:,2:].values, df.iloc[:,1].values, test_size=0.33, shuffle=False)\n",
    "print(f\"X_train: {X_train.shape}, X_test: {X_test.shape}, y_train:{y_train.shape}, y_test:{y_test.shape}\")"
   ]
  },
  {
   "cell_type": "markdown",
   "metadata": {
    "collapsed": false,
    "pycharm": {
     "name": "#%% md\n"
    }
   },
   "source": [
    "## ML  version"
   ]
  },
  {
   "cell_type": "code",
   "execution_count": 167,
   "metadata": {
    "collapsed": false,
    "pycharm": {
     "name": "#%%\n"
    }
   },
   "outputs": [
    {
     "name": "stdout",
     "output_type": "stream",
     "text": [
      "n: 1  VAR: 0.6556259397410565 ACUM: 0.6556259397410565\n",
      "n: 2  VAR: 0.1520670692530078 ACUM: 0.8076930089940644\n",
      "n: 3  VAR: 0.07708603360487656 ACUM: 0.8847790425989409\n",
      "n: 4  VAR: 0.013522578095065456 ACUM: 0.8983016206940063\n",
      "n: 5  VAR: 0.01333578184029602 ACUM: 0.9116374025343024\n",
      "n: 6  VAR: 0.011824996783963522 ACUM: 0.9234623993182659\n",
      "n: 7  VAR: 0.01016604070503651 ACUM: 0.9336284400233024\n",
      "n: 8  VAR: 0.0054301844124912705 ACUM: 0.9390586244357937\n",
      "n: 9  VAR: 0.004327732247191205 ACUM: 0.9433863566829849\n",
      "n: 10  VAR: 0.0043259345084433135 ACUM: 0.9477122911914282\n",
      "n: 11  VAR: 0.00397093710871278 ACUM: 0.951683228300141\n",
      "n: 12  VAR: 0.003654005189891512 ACUM: 0.9553372334900325\n",
      "n: 13  VAR: 0.0033091606115968394 ACUM: 0.9586463941016293\n",
      "n: 14  VAR: 0.002956490340187711 ACUM: 0.9616028844418171\n",
      "n: 15  VAR: 0.0025824378109120015 ACUM: 0.9641853222527291\n",
      "n: 16  VAR: 0.0024492253774186182 ACUM: 0.9666345476301478\n",
      "n: 17  VAR: 0.00232485224489157 ACUM: 0.9689593998750393\n",
      "n: 18  VAR: 0.0022908781230523735 ACUM: 0.9712502779980917\n",
      "n: 19  VAR: 0.002268849585751538 ACUM: 0.9735191275838433\n",
      "n: 20  VAR: 0.0020468403334021985 ACUM: 0.9755659679172455\n",
      "n: 21  VAR: 0.0018326987715551004 ACUM: 0.9773986666888006\n",
      "n: 22  VAR: 0.001694358453841482 ACUM: 0.9790930251426421\n",
      "n: 23  VAR: 0.0016892930525306735 ACUM: 0.9807823181951727\n",
      "n: 24  VAR: 0.0016816892649524754 ACUM: 0.9824640074601252\n",
      "n: 25  VAR: 0.0015907540544322638 ACUM: 0.9840547615145574\n",
      "n: 26  VAR: 0.001589413903709919 ACUM: 0.9856441754182673\n",
      "n: 27  VAR: 0.0015845034541694305 ACUM: 0.9872286788724367\n",
      "n: 28  VAR: 0.0014995838301884422 ACUM: 0.9887282627026251\n",
      "n: 29  VAR: 0.0014886461172231938 ACUM: 0.9902169088198484\n",
      "n: 30  VAR: 0.001467398322510805 ACUM: 0.9916843071423592\n",
      "n: 31  VAR: 0.0014522732912413152 ACUM: 0.9931365804336005\n",
      "n: 32  VAR: 0.0014492138741847365 ACUM: 0.9945857943077853\n",
      "n: 33  VAR: 0.0014192259676492215 ACUM: 0.9960050202754345\n",
      "n: 34  VAR: 0.001382675888328419 ACUM: 0.9973876961637629\n",
      "n: 35  VAR: 0.0013193116906919059 ACUM: 0.9987070078544548\n",
      "n: 36  VAR: 0.0012929918193905932 ACUM: 0.9999999996738453\n",
      "n: 37  VAR: 3.2607336247802686e-10 ACUM: 0.9999999999999187\n",
      "n: 38  VAR: 4.8788690240036056e-14 ACUM: 0.9999999999999675\n",
      "n: 39  VAR: 1.2659355613967424e-14 ACUM: 0.9999999999999801\n",
      "n: 40  VAR: 5.707554148571385e-15 ACUM: 0.9999999999999858\n",
      "n: 41  VAR: 3.2147200835987557e-15 ACUM: 0.999999999999989\n",
      "n: 42  VAR: 2.0395550993999424e-15 ACUM: 0.999999999999991\n",
      "n: 43  VAR: 1.3935796621089728e-15 ACUM: 0.9999999999999925\n",
      "n: 44  VAR: 1.0278604569026672e-15 ACUM: 0.9999999999999934\n",
      "n: 45  VAR: 8.129865414167984e-16 ACUM: 0.9999999999999942\n",
      "n: 46  VAR: 6.663830346507975e-16 ACUM: 0.9999999999999949\n",
      "n: 47  VAR: 5.459705951465507e-16 ACUM: 0.9999999999999954\n",
      "n: 48  VAR: 4.484074081916659e-16 ACUM: 0.9999999999999959\n",
      "n: 49  VAR: 3.805681466507715e-16 ACUM: 0.9999999999999962\n",
      "n: 50  VAR: 3.320875524188465e-16 ACUM: 0.9999999999999966\n",
      "n: 51  VAR: 2.916375130121632e-16 ACUM: 0.9999999999999969\n",
      "n: 52  VAR: 2.601162735599127e-16 ACUM: 0.9999999999999971\n",
      "n: 53  VAR: 2.384714102262541e-16 ACUM: 0.9999999999999973\n",
      "n: 54  VAR: 2.2130090117444934e-16 ACUM: 0.9999999999999976\n",
      "n: 55  VAR: 2.0145128411800158e-16 ACUM: 0.9999999999999978\n",
      "n: 56  VAR: 1.8668136706974923e-16 ACUM: 0.999999999999998\n",
      "n: 57  VAR: 1.732698556997881e-16 ACUM: 0.9999999999999982\n",
      "n: 58  VAR: 1.616885589181076e-16 ACUM: 0.9999999999999983\n",
      "n: 59  VAR: 1.5055069927272697e-16 ACUM: 0.9999999999999984\n",
      "n: 60  VAR: 1.3881307353953225e-16 ACUM: 0.9999999999999986\n",
      "n: 61  VAR: 1.3156798793640604e-16 ACUM: 0.9999999999999987\n",
      "n: 62  VAR: 1.2437452290719354e-16 ACUM: 0.9999999999999988\n",
      "n: 63  VAR: 1.1712098466006498e-16 ACUM: 0.9999999999999989\n",
      "n: 64  VAR: 1.1323155227474783e-16 ACUM: 0.999999999999999\n",
      "n: 65  VAR: 1.1192551889929717e-16 ACUM: 0.9999999999999991\n",
      "n: 66  VAR: 1.117188965096192e-16 ACUM: 0.9999999999999992\n",
      "n: 67  VAR: 1.0733070369327885e-16 ACUM: 0.9999999999999993\n",
      "n: 68  VAR: 1.0409792735414933e-16 ACUM: 0.9999999999999994\n",
      "n: 69  VAR: 1.0315982002337095e-16 ACUM: 0.9999999999999996\n",
      "n: 70  VAR: 1.0301061832643594e-16 ACUM: 0.9999999999999997\n",
      "n: 71  VAR: 1.0273709329920514e-16 ACUM: 0.9999999999999998\n",
      "n: 72  VAR: 1.0247443961004926e-16 ACUM: 0.9999999999999999\n",
      "n: 73  VAR: 3.452624018484431e-19 ACUM: 0.9999999999999999\n"
     ]
    }
   ],
   "source": [
    "pca = PCA().fit(df.iloc[:,2:])\n",
    "acum=0\n",
    "for i, (comp, var) in enumerate(zip(pca.components_, pca.explained_variance_ratio_)):\n",
    "    acum+=var\n",
    "    print(\"n:\",i+1,\" VAR:\", var, \"ACUM:\",acum)"
   ]
  },
  {
   "cell_type": "code",
   "execution_count": 168,
   "metadata": {
    "collapsed": false,
    "pycharm": {
     "name": "#%%\n"
    }
   },
   "outputs": [],
   "source": [
    "#Fecha inicial\n",
    "inicial_date = '01/01/2017 00:00:00'\n",
    "inicial_date = datetime.strptime(inicial_date, '%d/%m/%Y %H:%M:%S')\n",
    "#Fecha final\n",
    "end_date = '12/07/2022 23:00:00'\n",
    "end_date = datetime.strptime(end_date, '%d/%m/%Y %H:%M:%S')\n",
    "\n",
    "#Nombre experimiento\n",
    "NOM_EXP = 'artik47_ML'\n",
    "\n",
    "#Variables generales de los modelos\n",
    "retrain_days = [0]    #Monday is 0 and Sunday is 6\n",
    "cutoff = 30         #Dias atras del index que se toman para entrenar el modelo en min"
   ]
  },
  {
   "cell_type": "code",
   "execution_count": 169,
   "metadata": {
    "collapsed": false,
    "pycharm": {
     "name": "#%%\n"
    }
   },
   "outputs": [],
   "source": [
    "def backtest_regression(model_name, fecha_inicio, fecha_fin, data, cutoff, retrain_days, t_scaler, n_pca, params=None):\n",
    "    # print(\"from: \", fecha_inicio, \" to: \", fecha_fin)\n",
    "\n",
    "    #Primer entreno\n",
    "    mask = (data.ds < (fecha_inicio - timedelta(minutes=cutoff)))\n",
    "    train = data.loc[mask]\n",
    "\n",
    "    train = train.drop(columns=['ds'])\n",
    "\n",
    "    val_reales = np.array([])\n",
    "    val_pred = np.array([])\n",
    "    val_fechas = np.array([])\n",
    "\n",
    "    # Divide en variables de entrada y salida\n",
    "    X, y = train.values[:, 1:], train.values[:, 0].astype('float64')\n",
    "\n",
    "    #Scalers\n",
    "    if(t_scaler=='MinMaxScaler'):\n",
    "        scaler = MinMaxScaler(feature_range=(0, 1))\n",
    "        X = scaler.fit_transform(X)\n",
    "    elif(t_scaler=='StandardScaler'):\n",
    "        scaler = StandardScaler()\n",
    "        X = scaler.fit_transform(X)\n",
    "    elif(t_scaler=='RobustScaler'):\n",
    "        scaler = RobustScaler(quantile_range=(0, 95.0))\n",
    "        X = scaler.fit_transform(X)\n",
    "\n",
    "    #PCA\n",
    "    if (type(n_pca) == int):\n",
    "        pca = PCA(n_components=n_pca)\n",
    "        X = pca.fit_transform(X)\n",
    "\n",
    "    #Crea el modelo\n",
    "    model = eval(model_name + \"()\")\n",
    "\n",
    "    #Agrega parametros\n",
    "    if(params!=None):\n",
    "        model.set_params(**params)\n",
    "\n",
    "    model.fit(X, y)\n",
    "\n",
    "    pbar = tqdm(total=(fecha_fin-fecha_inicio).days+1)\n",
    "    fecha_index = fecha_inicio\n",
    "    while(fecha_index <= fecha_fin):\n",
    "        # print(fecha_index)\n",
    "        if(fecha_index.weekday() in retrain_days):\n",
    "\n",
    "            #Re entreno\n",
    "            mask = (data.ds < (fecha_index - timedelta(days=cutoff)))\n",
    "            train = data.loc[mask]\n",
    "            #print(\"Train: \\n\", train.iloc[:,0:6], \"\\n\")\n",
    "            train = train.drop(columns=['ds'])\n",
    "\n",
    "            # Divide en variables de entrada y salida\n",
    "            X, y = train.values[:, 1:], train.values[:, 0].astype('float64')\n",
    "\n",
    "            #Scalers\n",
    "            if(t_scaler=='MinMaxScaler'):\n",
    "                scaler = MinMaxScaler(feature_range=(0, 1))\n",
    "                X = scaler.fit_transform(X)\n",
    "            elif(t_scaler=='StandardScaler'):\n",
    "                scaler = StandardScaler()\n",
    "                X = scaler.fit_transform(X)\n",
    "            elif(t_scaler=='RobustScaler'):\n",
    "                scaler = RobustScaler(quantile_range=(0, 95.0))\n",
    "                X = scaler.fit_transform(X)\n",
    "\n",
    "            #PCA\n",
    "            if (type(n_pca) == int):\n",
    "                pca = PCA(n_components=n_pca)\n",
    "                X = pca.fit_transform(X)\n",
    "\n",
    "            model = eval(model_name + \"()\")\n",
    "\n",
    "            if(params!=None):\n",
    "                model.set_params(**params)\n",
    "\n",
    "            model.fit(X, y)\n",
    "\n",
    "        mask = (data.ds >= fecha_index) & (data.ds <= fecha_index + timedelta(hours=23))\n",
    "        to_pred = data.loc[mask]\n",
    "        if not(to_pred.empty):\n",
    "\n",
    "            val_fechas = np.append(val_fechas, to_pred.iloc[:,0].tolist())\n",
    "            #print(\"to_pred: \", to_pred.values)\n",
    "            to_pred = to_pred.drop(columns=['ds'])\n",
    "            # Divide en variables de entrada y salida\n",
    "            X, y = to_pred.values[:, 1:], to_pred.values[:, 0].astype('float64')\n",
    "\n",
    "            #Scalers\n",
    "            if((t_scaler=='MinMaxScaler') or (t_scaler=='StandardScaler') or (t_scaler=='RobustScaler')):\n",
    "                X = scaler.transform(X)\n",
    "\n",
    "            #PCA\n",
    "            if (type(n_pca) == int):\n",
    "                X = pca.transform(X)\n",
    "\n",
    "            y_hat = model.predict(X)\n",
    "\n",
    "            val_reales = np.append(val_reales, y)\n",
    "            val_pred = np.append(val_pred, y_hat)\n",
    "\n",
    "        fecha_index = fecha_index + timedelta(days=1)\n",
    "        pbar.update(1)\n",
    "\n",
    "    resultados = pd.DataFrame({'fechas':val_fechas, 'val_reales':val_reales, 'val_pred':val_pred})\n",
    "    pbar.close()\n",
    "    return resultados"
   ]
  },
  {
   "cell_type": "code",
   "execution_count": 170,
   "metadata": {
    "collapsed": false,
    "pycharm": {
     "name": "#%%\n"
    }
   },
   "outputs": [
    {
     "name": "stdout",
     "output_type": "stream",
     "text": [
      "\n",
      "\n",
      "---> XGBoost0 <--- hora inicio: 2022-10-02 10:22:03.910818\n",
      "Parametros:  {'n_jobs': 10}  scaler:  False  pca:  False\n",
      "XGBoost0_artik47_ML_2022_10_02-10_22.csv\n"
     ]
    },
    {
     "name": "stderr",
     "output_type": "stream",
     "text": [
      "100%|██████████| 2019/2019 [1:35:13<00:00,  2.83s/it]\n"
     ]
    },
    {
     "name": "stdout",
     "output_type": "stream",
     "text": [
      "                   fechas  val_reales  val_pred\n",
      "0     2017-01-02 04:00:00      1.2316    1.2334\n",
      "1     2017-01-02 04:30:00      1.2337    1.2327\n",
      "2     2017-01-02 05:00:00      1.2338    1.2333\n",
      "3     2017-01-02 05:30:00      1.2343    1.2311\n",
      "4     2017-01-02 06:00:00      1.2348    1.2334\n",
      "...                   ...         ...       ...\n",
      "67461 2022-07-12 21:00:00      1.1908    1.1905\n",
      "67462 2022-07-12 21:30:00      1.1906    1.1915\n",
      "67463 2022-07-12 22:00:00      1.1907    1.1921\n",
      "67464 2022-07-12 22:30:00      1.1910    1.1921\n",
      "67465 2022-07-12 23:00:00      1.1899    1.1920\n",
      "\n",
      "[67466 rows x 3 columns]\n",
      "mean absolute porcentage error: 0.09123156193260293\n",
      "mean absolute error: 0.0011786010731331341\n",
      "tiempo de ejecucion:  1:35:29.178767\n",
      "\n",
      "\n",
      "---> XGBoost1 <--- hora inicio: 2022-10-02 11:57:33.359599\n",
      "Parametros:  {'Objective': 'reg:squaredlogerror', 'n_estimator': 100, 'booster': 'gbtree', 'verbosity': 0, 'learning_rate': 0.2, 'max_depth': 7, 'min_child_weight': 2, 'sampling_method': 'gradient_based', 'n_jobs': 10}  scaler:  False  pca:  False\n",
      "XGBoost1_artik47_ML_2022_10_02-11_57.csv\n"
     ]
    },
    {
     "name": "stderr",
     "output_type": "stream",
     "text": [
      "100%|██████████| 2019/2019 [1:50:56<00:00,  3.30s/it]\n"
     ]
    },
    {
     "name": "stdout",
     "output_type": "stream",
     "text": [
      "                   fechas  val_reales  val_pred\n",
      "0     2017-01-02 04:00:00      1.2316    1.2353\n",
      "1     2017-01-02 04:30:00      1.2337    1.2308\n",
      "2     2017-01-02 05:00:00      1.2338    1.2353\n",
      "3     2017-01-02 05:30:00      1.2343    1.2353\n",
      "4     2017-01-02 06:00:00      1.2348    1.2349\n",
      "...                   ...         ...       ...\n",
      "67461 2022-07-12 21:00:00      1.1908    1.1834\n",
      "67462 2022-07-12 21:30:00      1.1906    1.1931\n",
      "67463 2022-07-12 22:00:00      1.1907    1.1929\n",
      "67464 2022-07-12 22:30:00      1.1910    1.1923\n",
      "67465 2022-07-12 23:00:00      1.1899    1.1923\n",
      "\n",
      "[67466 rows x 3 columns]\n",
      "mean absolute porcentage error: 0.08590652519882366\n",
      "mean absolute error: 0.0011078632199922926\n",
      "tiempo de ejecucion:  1:51:16.346870\n",
      ":::::::::::  Error en ElasticNet  :::  'Scaler'\n",
      ":::::::::::  Error en ElasticNet_2  :::  'Scaler'\n",
      "\n",
      "\n",
      "---> RandomForest <--- hora inicio: 2022-10-02 13:48:49.957656\n",
      "Parametros:  {'n_jobs': 4}  scaler:  False  pca:  False\n",
      "RandomForest_artik47_ML_2022_10_02-13_48.csv\n"
     ]
    },
    {
     "name": "stderr",
     "output_type": "stream",
     "text": [
      "1136it [17:22:24, 55.06s/it]:45:21<22:29:15, 43.78s/it]\n",
      " 21%|██        | 421/2019 [4:21:29<14:26:16, 32.53s/it]"
     ]
    },
    {
     "ename": "KeyboardInterrupt",
     "evalue": "",
     "output_type": "error",
     "traceback": [
      "\u001B[1;31m---------------------------------------------------------------------------\u001B[0m",
      "\u001B[1;31mKeyboardInterrupt\u001B[0m                         Traceback (most recent call last)",
      "Input \u001B[1;32mIn [170]\u001B[0m, in \u001B[0;36m<cell line: 40>\u001B[1;34m()\u001B[0m\n\u001B[0;32m     52\u001B[0m nombre \u001B[38;5;241m=\u001B[39m output_name_model \u001B[38;5;241m+\u001B[39m \u001B[38;5;124m'\u001B[39m\u001B[38;5;124m_\u001B[39m\u001B[38;5;124m'\u001B[39m \u001B[38;5;241m+\u001B[39m NOM_EXP \u001B[38;5;241m+\u001B[39m \u001B[38;5;124m'\u001B[39m\u001B[38;5;124m_\u001B[39m\u001B[38;5;124m'\u001B[39m \u001B[38;5;241m+\u001B[39m start_time\u001B[38;5;241m.\u001B[39mstrftime(\u001B[38;5;124m'\u001B[39m\u001B[38;5;124m%\u001B[39m\u001B[38;5;124mY_\u001B[39m\u001B[38;5;124m%\u001B[39m\u001B[38;5;124mm_\u001B[39m\u001B[38;5;132;01m%d\u001B[39;00m\u001B[38;5;124m-\u001B[39m\u001B[38;5;124m%\u001B[39m\u001B[38;5;124mH_\u001B[39m\u001B[38;5;124m%\u001B[39m\u001B[38;5;124mM\u001B[39m\u001B[38;5;124m'\u001B[39m) \u001B[38;5;241m+\u001B[39m \u001B[38;5;124m'\u001B[39m\u001B[38;5;124m.csv\u001B[39m\u001B[38;5;124m'\u001B[39m\n\u001B[0;32m     53\u001B[0m \u001B[38;5;28mprint\u001B[39m(nombre)\n\u001B[1;32m---> 54\u001B[0m resultados \u001B[38;5;241m=\u001B[39m \u001B[43mbacktest_regression\u001B[49m\u001B[43m(\u001B[49m\u001B[43mname_model\u001B[49m\u001B[43m,\u001B[49m\u001B[43m \u001B[49m\u001B[43minicial_date\u001B[49m\u001B[43m,\u001B[49m\u001B[43m \u001B[49m\u001B[43mend_date\u001B[49m\u001B[43m,\u001B[49m\u001B[43m \u001B[49m\u001B[43mdf\u001B[49m\u001B[43m,\u001B[49m\u001B[43m \u001B[49m\u001B[43mcutoff\u001B[49m\u001B[43m,\u001B[49m\u001B[43m \u001B[49m\u001B[43mretrain_days\u001B[49m\u001B[43m,\u001B[49m\n\u001B[0;32m     55\u001B[0m \u001B[43m                                 \u001B[49m\u001B[43mscaler\u001B[49m\u001B[43m,\u001B[49m\u001B[43m \u001B[49m\u001B[43mpca\u001B[49m\u001B[43m,\u001B[49m\u001B[43m \u001B[49m\u001B[43mparams\u001B[49m\u001B[43m)\u001B[49m\n\u001B[0;32m     56\u001B[0m resultados \u001B[38;5;241m=\u001B[39m resultados\u001B[38;5;241m.\u001B[39mround(decimals\u001B[38;5;241m=\u001B[39m\u001B[38;5;241m4\u001B[39m)\n\u001B[0;32m     57\u001B[0m \u001B[38;5;28mprint\u001B[39m(resultados)\n",
      "Input \u001B[1;32mIn [169]\u001B[0m, in \u001B[0;36mbacktest_regression\u001B[1;34m(model_name, fecha_inicio, fecha_fin, data, cutoff, retrain_days, t_scaler, n_pca, params)\u001B[0m\n\u001B[0;32m     75\u001B[0m     \u001B[38;5;28;01mif\u001B[39;00m(params\u001B[38;5;241m!=\u001B[39m\u001B[38;5;28;01mNone\u001B[39;00m):\n\u001B[0;32m     76\u001B[0m         model\u001B[38;5;241m.\u001B[39mset_params(\u001B[38;5;241m*\u001B[39m\u001B[38;5;241m*\u001B[39mparams)\n\u001B[1;32m---> 78\u001B[0m     \u001B[43mmodel\u001B[49m\u001B[38;5;241;43m.\u001B[39;49m\u001B[43mfit\u001B[49m\u001B[43m(\u001B[49m\u001B[43mX\u001B[49m\u001B[43m,\u001B[49m\u001B[43m \u001B[49m\u001B[43my\u001B[49m\u001B[43m)\u001B[49m\n\u001B[0;32m     80\u001B[0m mask \u001B[38;5;241m=\u001B[39m (data\u001B[38;5;241m.\u001B[39mds \u001B[38;5;241m>\u001B[39m\u001B[38;5;241m=\u001B[39m fecha_index) \u001B[38;5;241m&\u001B[39m (data\u001B[38;5;241m.\u001B[39mds \u001B[38;5;241m<\u001B[39m\u001B[38;5;241m=\u001B[39m fecha_index \u001B[38;5;241m+\u001B[39m timedelta(hours\u001B[38;5;241m=\u001B[39m\u001B[38;5;241m23\u001B[39m))\n\u001B[0;32m     81\u001B[0m to_pred \u001B[38;5;241m=\u001B[39m data\u001B[38;5;241m.\u001B[39mloc[mask]\n",
      "File \u001B[1;32m~\\anaconda3\\envs\\sk_tf_gpu_39\\lib\\site-packages\\sklearn\\ensemble\\_forest.py:450\u001B[0m, in \u001B[0;36mBaseForest.fit\u001B[1;34m(self, X, y, sample_weight)\u001B[0m\n\u001B[0;32m    439\u001B[0m trees \u001B[38;5;241m=\u001B[39m [\n\u001B[0;32m    440\u001B[0m     \u001B[38;5;28mself\u001B[39m\u001B[38;5;241m.\u001B[39m_make_estimator(append\u001B[38;5;241m=\u001B[39m\u001B[38;5;28;01mFalse\u001B[39;00m, random_state\u001B[38;5;241m=\u001B[39mrandom_state)\n\u001B[0;32m    441\u001B[0m     \u001B[38;5;28;01mfor\u001B[39;00m i \u001B[38;5;129;01min\u001B[39;00m \u001B[38;5;28mrange\u001B[39m(n_more_estimators)\n\u001B[0;32m    442\u001B[0m ]\n\u001B[0;32m    444\u001B[0m \u001B[38;5;66;03m# Parallel loop: we prefer the threading backend as the Cython code\u001B[39;00m\n\u001B[0;32m    445\u001B[0m \u001B[38;5;66;03m# for fitting the trees is internally releasing the Python GIL\u001B[39;00m\n\u001B[0;32m    446\u001B[0m \u001B[38;5;66;03m# making threading more efficient than multiprocessing in\u001B[39;00m\n\u001B[0;32m    447\u001B[0m \u001B[38;5;66;03m# that case. However, for joblib 0.12+ we respect any\u001B[39;00m\n\u001B[0;32m    448\u001B[0m \u001B[38;5;66;03m# parallel_backend contexts set at a higher level,\u001B[39;00m\n\u001B[0;32m    449\u001B[0m \u001B[38;5;66;03m# since correctness does not rely on using threads.\u001B[39;00m\n\u001B[1;32m--> 450\u001B[0m trees \u001B[38;5;241m=\u001B[39m \u001B[43mParallel\u001B[49m\u001B[43m(\u001B[49m\n\u001B[0;32m    451\u001B[0m \u001B[43m    \u001B[49m\u001B[43mn_jobs\u001B[49m\u001B[38;5;241;43m=\u001B[39;49m\u001B[38;5;28;43mself\u001B[39;49m\u001B[38;5;241;43m.\u001B[39;49m\u001B[43mn_jobs\u001B[49m\u001B[43m,\u001B[49m\n\u001B[0;32m    452\u001B[0m \u001B[43m    \u001B[49m\u001B[43mverbose\u001B[49m\u001B[38;5;241;43m=\u001B[39;49m\u001B[38;5;28;43mself\u001B[39;49m\u001B[38;5;241;43m.\u001B[39;49m\u001B[43mverbose\u001B[49m\u001B[43m,\u001B[49m\n\u001B[0;32m    453\u001B[0m \u001B[43m    \u001B[49m\u001B[38;5;241;43m*\u001B[39;49m\u001B[38;5;241;43m*\u001B[39;49m\u001B[43m_joblib_parallel_args\u001B[49m\u001B[43m(\u001B[49m\u001B[43mprefer\u001B[49m\u001B[38;5;241;43m=\u001B[39;49m\u001B[38;5;124;43m\"\u001B[39;49m\u001B[38;5;124;43mthreads\u001B[39;49m\u001B[38;5;124;43m\"\u001B[39;49m\u001B[43m)\u001B[49m\u001B[43m,\u001B[49m\n\u001B[0;32m    454\u001B[0m \u001B[43m\u001B[49m\u001B[43m)\u001B[49m\u001B[43m(\u001B[49m\n\u001B[0;32m    455\u001B[0m \u001B[43m    \u001B[49m\u001B[43mdelayed\u001B[49m\u001B[43m(\u001B[49m\u001B[43m_parallel_build_trees\u001B[49m\u001B[43m)\u001B[49m\u001B[43m(\u001B[49m\n\u001B[0;32m    456\u001B[0m \u001B[43m        \u001B[49m\u001B[43mt\u001B[49m\u001B[43m,\u001B[49m\n\u001B[0;32m    457\u001B[0m \u001B[43m        \u001B[49m\u001B[38;5;28;43mself\u001B[39;49m\u001B[43m,\u001B[49m\n\u001B[0;32m    458\u001B[0m \u001B[43m        \u001B[49m\u001B[43mX\u001B[49m\u001B[43m,\u001B[49m\n\u001B[0;32m    459\u001B[0m \u001B[43m        \u001B[49m\u001B[43my\u001B[49m\u001B[43m,\u001B[49m\n\u001B[0;32m    460\u001B[0m \u001B[43m        \u001B[49m\u001B[43msample_weight\u001B[49m\u001B[43m,\u001B[49m\n\u001B[0;32m    461\u001B[0m \u001B[43m        \u001B[49m\u001B[43mi\u001B[49m\u001B[43m,\u001B[49m\n\u001B[0;32m    462\u001B[0m \u001B[43m        \u001B[49m\u001B[38;5;28;43mlen\u001B[39;49m\u001B[43m(\u001B[49m\u001B[43mtrees\u001B[49m\u001B[43m)\u001B[49m\u001B[43m,\u001B[49m\n\u001B[0;32m    463\u001B[0m \u001B[43m        \u001B[49m\u001B[43mverbose\u001B[49m\u001B[38;5;241;43m=\u001B[39;49m\u001B[38;5;28;43mself\u001B[39;49m\u001B[38;5;241;43m.\u001B[39;49m\u001B[43mverbose\u001B[49m\u001B[43m,\u001B[49m\n\u001B[0;32m    464\u001B[0m \u001B[43m        \u001B[49m\u001B[43mclass_weight\u001B[49m\u001B[38;5;241;43m=\u001B[39;49m\u001B[38;5;28;43mself\u001B[39;49m\u001B[38;5;241;43m.\u001B[39;49m\u001B[43mclass_weight\u001B[49m\u001B[43m,\u001B[49m\n\u001B[0;32m    465\u001B[0m \u001B[43m        \u001B[49m\u001B[43mn_samples_bootstrap\u001B[49m\u001B[38;5;241;43m=\u001B[39;49m\u001B[43mn_samples_bootstrap\u001B[49m\u001B[43m,\u001B[49m\n\u001B[0;32m    466\u001B[0m \u001B[43m    \u001B[49m\u001B[43m)\u001B[49m\n\u001B[0;32m    467\u001B[0m \u001B[43m    \u001B[49m\u001B[38;5;28;43;01mfor\u001B[39;49;00m\u001B[43m \u001B[49m\u001B[43mi\u001B[49m\u001B[43m,\u001B[49m\u001B[43m \u001B[49m\u001B[43mt\u001B[49m\u001B[43m \u001B[49m\u001B[38;5;129;43;01min\u001B[39;49;00m\u001B[43m \u001B[49m\u001B[38;5;28;43menumerate\u001B[39;49m\u001B[43m(\u001B[49m\u001B[43mtrees\u001B[49m\u001B[43m)\u001B[49m\n\u001B[0;32m    468\u001B[0m \u001B[43m\u001B[49m\u001B[43m)\u001B[49m\n\u001B[0;32m    470\u001B[0m \u001B[38;5;66;03m# Collect newly grown trees\u001B[39;00m\n\u001B[0;32m    471\u001B[0m \u001B[38;5;28mself\u001B[39m\u001B[38;5;241m.\u001B[39mestimators_\u001B[38;5;241m.\u001B[39mextend(trees)\n",
      "File \u001B[1;32m~\\anaconda3\\envs\\sk_tf_gpu_39\\lib\\site-packages\\joblib\\parallel.py:1056\u001B[0m, in \u001B[0;36mParallel.__call__\u001B[1;34m(self, iterable)\u001B[0m\n\u001B[0;32m   1053\u001B[0m     \u001B[38;5;28mself\u001B[39m\u001B[38;5;241m.\u001B[39m_iterating \u001B[38;5;241m=\u001B[39m \u001B[38;5;28;01mFalse\u001B[39;00m\n\u001B[0;32m   1055\u001B[0m \u001B[38;5;28;01mwith\u001B[39;00m \u001B[38;5;28mself\u001B[39m\u001B[38;5;241m.\u001B[39m_backend\u001B[38;5;241m.\u001B[39mretrieval_context():\n\u001B[1;32m-> 1056\u001B[0m     \u001B[38;5;28;43mself\u001B[39;49m\u001B[38;5;241;43m.\u001B[39;49m\u001B[43mretrieve\u001B[49m\u001B[43m(\u001B[49m\u001B[43m)\u001B[49m\n\u001B[0;32m   1057\u001B[0m \u001B[38;5;66;03m# Make sure that we get a last message telling us we are done\u001B[39;00m\n\u001B[0;32m   1058\u001B[0m elapsed_time \u001B[38;5;241m=\u001B[39m time\u001B[38;5;241m.\u001B[39mtime() \u001B[38;5;241m-\u001B[39m \u001B[38;5;28mself\u001B[39m\u001B[38;5;241m.\u001B[39m_start_time\n",
      "File \u001B[1;32m~\\anaconda3\\envs\\sk_tf_gpu_39\\lib\\site-packages\\joblib\\parallel.py:935\u001B[0m, in \u001B[0;36mParallel.retrieve\u001B[1;34m(self)\u001B[0m\n\u001B[0;32m    933\u001B[0m \u001B[38;5;28;01mtry\u001B[39;00m:\n\u001B[0;32m    934\u001B[0m     \u001B[38;5;28;01mif\u001B[39;00m \u001B[38;5;28mgetattr\u001B[39m(\u001B[38;5;28mself\u001B[39m\u001B[38;5;241m.\u001B[39m_backend, \u001B[38;5;124m'\u001B[39m\u001B[38;5;124msupports_timeout\u001B[39m\u001B[38;5;124m'\u001B[39m, \u001B[38;5;28;01mFalse\u001B[39;00m):\n\u001B[1;32m--> 935\u001B[0m         \u001B[38;5;28mself\u001B[39m\u001B[38;5;241m.\u001B[39m_output\u001B[38;5;241m.\u001B[39mextend(\u001B[43mjob\u001B[49m\u001B[38;5;241;43m.\u001B[39;49m\u001B[43mget\u001B[49m\u001B[43m(\u001B[49m\u001B[43mtimeout\u001B[49m\u001B[38;5;241;43m=\u001B[39;49m\u001B[38;5;28;43mself\u001B[39;49m\u001B[38;5;241;43m.\u001B[39;49m\u001B[43mtimeout\u001B[49m\u001B[43m)\u001B[49m)\n\u001B[0;32m    936\u001B[0m     \u001B[38;5;28;01melse\u001B[39;00m:\n\u001B[0;32m    937\u001B[0m         \u001B[38;5;28mself\u001B[39m\u001B[38;5;241m.\u001B[39m_output\u001B[38;5;241m.\u001B[39mextend(job\u001B[38;5;241m.\u001B[39mget())\n",
      "File \u001B[1;32m~\\anaconda3\\envs\\sk_tf_gpu_39\\lib\\multiprocessing\\pool.py:765\u001B[0m, in \u001B[0;36mApplyResult.get\u001B[1;34m(self, timeout)\u001B[0m\n\u001B[0;32m    764\u001B[0m \u001B[38;5;28;01mdef\u001B[39;00m \u001B[38;5;21mget\u001B[39m(\u001B[38;5;28mself\u001B[39m, timeout\u001B[38;5;241m=\u001B[39m\u001B[38;5;28;01mNone\u001B[39;00m):\n\u001B[1;32m--> 765\u001B[0m     \u001B[38;5;28;43mself\u001B[39;49m\u001B[38;5;241;43m.\u001B[39;49m\u001B[43mwait\u001B[49m\u001B[43m(\u001B[49m\u001B[43mtimeout\u001B[49m\u001B[43m)\u001B[49m\n\u001B[0;32m    766\u001B[0m     \u001B[38;5;28;01mif\u001B[39;00m \u001B[38;5;129;01mnot\u001B[39;00m \u001B[38;5;28mself\u001B[39m\u001B[38;5;241m.\u001B[39mready():\n\u001B[0;32m    767\u001B[0m         \u001B[38;5;28;01mraise\u001B[39;00m \u001B[38;5;167;01mTimeoutError\u001B[39;00m\n",
      "File \u001B[1;32m~\\anaconda3\\envs\\sk_tf_gpu_39\\lib\\multiprocessing\\pool.py:762\u001B[0m, in \u001B[0;36mApplyResult.wait\u001B[1;34m(self, timeout)\u001B[0m\n\u001B[0;32m    761\u001B[0m \u001B[38;5;28;01mdef\u001B[39;00m \u001B[38;5;21mwait\u001B[39m(\u001B[38;5;28mself\u001B[39m, timeout\u001B[38;5;241m=\u001B[39m\u001B[38;5;28;01mNone\u001B[39;00m):\n\u001B[1;32m--> 762\u001B[0m     \u001B[38;5;28;43mself\u001B[39;49m\u001B[38;5;241;43m.\u001B[39;49m\u001B[43m_event\u001B[49m\u001B[38;5;241;43m.\u001B[39;49m\u001B[43mwait\u001B[49m\u001B[43m(\u001B[49m\u001B[43mtimeout\u001B[49m\u001B[43m)\u001B[49m\n",
      "File \u001B[1;32m~\\anaconda3\\envs\\sk_tf_gpu_39\\lib\\threading.py:574\u001B[0m, in \u001B[0;36mEvent.wait\u001B[1;34m(self, timeout)\u001B[0m\n\u001B[0;32m    572\u001B[0m signaled \u001B[38;5;241m=\u001B[39m \u001B[38;5;28mself\u001B[39m\u001B[38;5;241m.\u001B[39m_flag\n\u001B[0;32m    573\u001B[0m \u001B[38;5;28;01mif\u001B[39;00m \u001B[38;5;129;01mnot\u001B[39;00m signaled:\n\u001B[1;32m--> 574\u001B[0m     signaled \u001B[38;5;241m=\u001B[39m \u001B[38;5;28;43mself\u001B[39;49m\u001B[38;5;241;43m.\u001B[39;49m\u001B[43m_cond\u001B[49m\u001B[38;5;241;43m.\u001B[39;49m\u001B[43mwait\u001B[49m\u001B[43m(\u001B[49m\u001B[43mtimeout\u001B[49m\u001B[43m)\u001B[49m\n\u001B[0;32m    575\u001B[0m \u001B[38;5;28;01mreturn\u001B[39;00m signaled\n",
      "File \u001B[1;32m~\\anaconda3\\envs\\sk_tf_gpu_39\\lib\\threading.py:312\u001B[0m, in \u001B[0;36mCondition.wait\u001B[1;34m(self, timeout)\u001B[0m\n\u001B[0;32m    310\u001B[0m \u001B[38;5;28;01mtry\u001B[39;00m:    \u001B[38;5;66;03m# restore state no matter what (e.g., KeyboardInterrupt)\u001B[39;00m\n\u001B[0;32m    311\u001B[0m     \u001B[38;5;28;01mif\u001B[39;00m timeout \u001B[38;5;129;01mis\u001B[39;00m \u001B[38;5;28;01mNone\u001B[39;00m:\n\u001B[1;32m--> 312\u001B[0m         \u001B[43mwaiter\u001B[49m\u001B[38;5;241;43m.\u001B[39;49m\u001B[43macquire\u001B[49m\u001B[43m(\u001B[49m\u001B[43m)\u001B[49m\n\u001B[0;32m    313\u001B[0m         gotit \u001B[38;5;241m=\u001B[39m \u001B[38;5;28;01mTrue\u001B[39;00m\n\u001B[0;32m    314\u001B[0m     \u001B[38;5;28;01melse\u001B[39;00m:\n",
      "\u001B[1;31mKeyboardInterrupt\u001B[0m: "
     ]
    }
   ],
   "source": [
    "models_dict = {\n",
    "    'XGBoost0':{'xgb.XGBRegressor':{'n_jobs': 10}, 'Scaler':False, 'PCA':False},\n",
    "    'XGBoost1':{'xgb.XGBRegressor':{'Objective':'reg:squaredlogerror',\n",
    "                                   'n_estimator':100,\n",
    "                                   # 'eval_metric':'mape',\n",
    "                                   'booster':'gbtree',\n",
    "                                   'verbosity':0,\n",
    "                                   # 'disable_default_eval_metric':'false',\n",
    "                                   'learning_rate':0.2,\n",
    "                                   'max_depth':7,\n",
    "                                   'min_child_weight':2,\n",
    "                                   'sampling_method':'gradient_based',\n",
    "                                   'n_jobs': 10}, 'Scaler':False, 'PCA':False},\n",
    "    'ElasticNet':{'ElasticNet':{'alpha':1.0, 'l1_ratio':0.5}},\n",
    "    'ElasticNet_2':{'ElasticNet':None},\n",
    "    #'Lasso':{'Lasso':None},\n",
    "    'RandomForest':{'RandomForestRegressor':{'n_jobs': 4}, 'Scaler':False, 'PCA':False},\n",
    "    'RandomForest_2':{'RandomForestRegressor':{'n_estimators': 300, 'min_samples_split': 10,\n",
    "                                            'min_samples_leaf': 1, 'max_features': 'sqrt','max_depth': 40,\n",
    "                                          'bootstrap': False, 'n_jobs': 10}, 'Scaler':False, 'PCA':False},\n",
    "    #                'AdaBoost':{'AdaBoostRegressor':None},\n",
    "    'SVR0':{'SVR':None, 'Scaler':'StandardScaler', 'PCA':5},\n",
    "    # 'SVR1':{'SVR':None, 'Scaler':'StandardScaler', 'PCA':9},\n",
    "    # 'SVR2':{'SVR':None, 'Scaler':'StandardScaler', 'PCA':10},\n",
    "    'HuberRegressor':{'HuberRegressor':{'epsilon':1.0, 'max_iter':200*20, 'alpha':0.0001}, 'Scaler':False, 'PCA':False},\n",
    "    # 'HuberRegressor1':{'HuberRegressor':None, 'Scaler':'StandardScaler', 'PCA':9},\n",
    "    'HuberRegressor2':{'HuberRegressor':None, 'Scaler':False, 'PCA':9},\n",
    "    # 'HuberRegressor2':{'HuberRegressor':{'epsilon':1.0, 'max_iter':200*20, 'alpha':1e-10}, 'Scaler':False, 'PCA':9},\n",
    "    # 'HuberRegressor3':{'HuberRegressor':None, 'Scaler':'StandardScaler', 'PCA':9},\n",
    "    # 'HuberRegresso4':{'HuberRegressor':{'epsilon':1.0, 'max_iter':200*20, 'alpha':1e-10}, 'Scaler':'StandardScaler', 'PCA':9},\n",
    "    # 'HuberRegressor5':{'HuberRegressor':None, 'Scaler':'StandardScaler', 'PCA':9},\n",
    "    # 'SVR2':{'SVR':None, 'Scaler':'RobustScaler', 'PCA':6},\n",
    "    #'KNR':{'neighbors.KNeighborsRegressor':None},\n",
    "    #'BaggingRegressor':{'BaggingRegressor':None},\n",
    "    #'GradientBoosting':{'GradientBoostingRegressor':None},\n",
    "}\n",
    "\n",
    "df_resultados = pd.DataFrame()\n",
    "\n",
    "for modelo in models_dict.items():\n",
    "    #print(modelo, type(modelo))\n",
    "    try:\n",
    "        output_name_model = modelo[0]\n",
    "        name_model = list(modelo[1])[0]\n",
    "        params = modelo[1].get(name_model)\n",
    "        scaler = modelo[1]['Scaler']\n",
    "        pca = modelo[1]['PCA']\n",
    "\n",
    "        start_time = datetime.now()\n",
    "        print(\"\\n\\n--->\", output_name_model, '<--- hora inicio:', start_time)\n",
    "        print(\"Parametros: \", params, \" scaler: \", scaler, \" pca: \", pca)\n",
    "        nombre = output_name_model + '_' + NOM_EXP + '_' + start_time.strftime('%Y_%m_%d-%H_%M') + '.csv'\n",
    "        print(nombre)\n",
    "        resultados = backtest_regression(name_model, inicial_date, end_date, df, cutoff, retrain_days,\n",
    "                                         scaler, pca, params)\n",
    "        resultados = resultados.round(decimals=4)\n",
    "        print(resultados)\n",
    "        print(\"mean absolute porcentage error:\", mean_absolute_percentage_error(resultados['val_reales'], resultados['val_pred'])*100)\n",
    "        print(\"mean absolute error:\", mean_absolute_error(resultados['val_reales'], resultados['val_pred']))\n",
    "        # print(\"root mean square error:\", root_mean_square_error(resultados))\n",
    "        print(\"tiempo de ejecucion: \", datetime.now() - start_time)\n",
    "        resultados.to_csv(PATH_RESULTS + nombre, index = False, header=True)\n",
    "\n",
    "    except Exception as ex:\n",
    "        print(\":::::::::::  Error en \" + modelo[0], \" ::: \", ex)"
   ]
  },
  {
   "cell_type": "code",
   "execution_count": 141,
   "metadata": {
    "collapsed": false,
    "pycharm": {
     "name": "#%%\n"
    }
   },
   "outputs": [
    {
     "data": {
      "text/html": [
       "<div>\n",
       "<style scoped>\n",
       "    .dataframe tbody tr th:only-of-type {\n",
       "        vertical-align: middle;\n",
       "    }\n",
       "\n",
       "    .dataframe tbody tr th {\n",
       "        vertical-align: top;\n",
       "    }\n",
       "\n",
       "    .dataframe thead th {\n",
       "        text-align: right;\n",
       "    }\n",
       "</style>\n",
       "<table border=\"1\" class=\"dataframe\">\n",
       "  <thead>\n",
       "    <tr style=\"text-align: right;\">\n",
       "      <th></th>\n",
       "      <th>ds</th>\n",
       "      <th>Close</th>\n",
       "      <th>Close_1</th>\n",
       "      <th>Close_2</th>\n",
       "      <th>Close_3</th>\n",
       "      <th>Close_4</th>\n",
       "      <th>Close_5</th>\n",
       "      <th>var_last_val</th>\n",
       "      <th>Volume_1</th>\n",
       "      <th>Volume_2</th>\n",
       "      <th>Volume_3</th>\n",
       "      <th>Volume_4</th>\n",
       "      <th>Volume_5</th>\n",
       "    </tr>\n",
       "  </thead>\n",
       "  <tbody>\n",
       "    <tr>\n",
       "      <th>12516</th>\n",
       "      <td>2008-01-01 00:00:00</td>\n",
       "      <td>1.9821</td>\n",
       "      <td>1.9824</td>\n",
       "      <td>1.9826</td>\n",
       "      <td>1.9840</td>\n",
       "      <td>1.9872</td>\n",
       "      <td>1.9908</td>\n",
       "      <td>1.280000e-05</td>\n",
       "      <td>3833.0</td>\n",
       "      <td>3714.0</td>\n",
       "      <td>9333.0</td>\n",
       "      <td>14286.0</td>\n",
       "      <td>18370.0</td>\n",
       "    </tr>\n",
       "    <tr>\n",
       "      <th>12517</th>\n",
       "      <td>2008-01-01 00:30:00</td>\n",
       "      <td>1.9837</td>\n",
       "      <td>1.9821</td>\n",
       "      <td>1.9824</td>\n",
       "      <td>1.9826</td>\n",
       "      <td>1.9840</td>\n",
       "      <td>1.9872</td>\n",
       "      <td>4.448000e-06</td>\n",
       "      <td>2204.0</td>\n",
       "      <td>3833.0</td>\n",
       "      <td>3714.0</td>\n",
       "      <td>9333.0</td>\n",
       "      <td>14286.0</td>\n",
       "    </tr>\n",
       "    <tr>\n",
       "      <th>12518</th>\n",
       "      <td>2008-01-01 01:00:00</td>\n",
       "      <td>1.9839</td>\n",
       "      <td>1.9837</td>\n",
       "      <td>1.9821</td>\n",
       "      <td>1.9824</td>\n",
       "      <td>1.9826</td>\n",
       "      <td>1.9840</td>\n",
       "      <td>7.030000e-07</td>\n",
       "      <td>1567.0</td>\n",
       "      <td>2204.0</td>\n",
       "      <td>3833.0</td>\n",
       "      <td>3714.0</td>\n",
       "      <td>9333.0</td>\n",
       "    </tr>\n",
       "    <tr>\n",
       "      <th>12519</th>\n",
       "      <td>2008-01-01 01:30:00</td>\n",
       "      <td>1.9847</td>\n",
       "      <td>1.9839</td>\n",
       "      <td>1.9837</td>\n",
       "      <td>1.9821</td>\n",
       "      <td>1.9824</td>\n",
       "      <td>1.9826</td>\n",
       "      <td>6.530000e-07</td>\n",
       "      <td>1336.0</td>\n",
       "      <td>1567.0</td>\n",
       "      <td>2204.0</td>\n",
       "      <td>3833.0</td>\n",
       "      <td>3714.0</td>\n",
       "    </tr>\n",
       "    <tr>\n",
       "      <th>12520</th>\n",
       "      <td>2008-01-01 02:00:00</td>\n",
       "      <td>1.9848</td>\n",
       "      <td>1.9847</td>\n",
       "      <td>1.9839</td>\n",
       "      <td>1.9837</td>\n",
       "      <td>1.9821</td>\n",
       "      <td>1.9824</td>\n",
       "      <td>1.178000e-06</td>\n",
       "      <td>1165.0</td>\n",
       "      <td>1336.0</td>\n",
       "      <td>1567.0</td>\n",
       "      <td>2204.0</td>\n",
       "      <td>3833.0</td>\n",
       "    </tr>\n",
       "    <tr>\n",
       "      <th>...</th>\n",
       "      <td>...</td>\n",
       "      <td>...</td>\n",
       "      <td>...</td>\n",
       "      <td>...</td>\n",
       "      <td>...</td>\n",
       "      <td>...</td>\n",
       "      <td>...</td>\n",
       "      <td>...</td>\n",
       "      <td>...</td>\n",
       "      <td>...</td>\n",
       "      <td>...</td>\n",
       "      <td>...</td>\n",
       "      <td>...</td>\n",
       "    </tr>\n",
       "    <tr>\n",
       "      <th>12606</th>\n",
       "      <td>2008-01-02 21:00:00</td>\n",
       "      <td>1.9806</td>\n",
       "      <td>1.9784</td>\n",
       "      <td>1.9786</td>\n",
       "      <td>1.9798</td>\n",
       "      <td>1.9807</td>\n",
       "      <td>1.9818</td>\n",
       "      <td>2.048000e-06</td>\n",
       "      <td>16191.0</td>\n",
       "      <td>18928.0</td>\n",
       "      <td>15231.0</td>\n",
       "      <td>18075.0</td>\n",
       "      <td>11442.0</td>\n",
       "    </tr>\n",
       "    <tr>\n",
       "      <th>12607</th>\n",
       "      <td>2008-01-02 21:30:00</td>\n",
       "      <td>1.9791</td>\n",
       "      <td>1.9806</td>\n",
       "      <td>1.9784</td>\n",
       "      <td>1.9786</td>\n",
       "      <td>1.9798</td>\n",
       "      <td>1.9807</td>\n",
       "      <td>1.172000e-06</td>\n",
       "      <td>19885.0</td>\n",
       "      <td>16191.0</td>\n",
       "      <td>18928.0</td>\n",
       "      <td>15231.0</td>\n",
       "      <td>18075.0</td>\n",
       "    </tr>\n",
       "    <tr>\n",
       "      <th>12608</th>\n",
       "      <td>2008-01-02 22:00:00</td>\n",
       "      <td>1.9806</td>\n",
       "      <td>1.9791</td>\n",
       "      <td>1.9806</td>\n",
       "      <td>1.9784</td>\n",
       "      <td>1.9786</td>\n",
       "      <td>1.9798</td>\n",
       "      <td>8.200000e-07</td>\n",
       "      <td>12797.0</td>\n",
       "      <td>19885.0</td>\n",
       "      <td>16191.0</td>\n",
       "      <td>18928.0</td>\n",
       "      <td>15231.0</td>\n",
       "    </tr>\n",
       "    <tr>\n",
       "      <th>12609</th>\n",
       "      <td>2008-01-02 22:30:00</td>\n",
       "      <td>1.9821</td>\n",
       "      <td>1.9806</td>\n",
       "      <td>1.9791</td>\n",
       "      <td>1.9806</td>\n",
       "      <td>1.9784</td>\n",
       "      <td>1.9786</td>\n",
       "      <td>1.148000e-06</td>\n",
       "      <td>21229.0</td>\n",
       "      <td>12797.0</td>\n",
       "      <td>19885.0</td>\n",
       "      <td>16191.0</td>\n",
       "      <td>18928.0</td>\n",
       "    </tr>\n",
       "    <tr>\n",
       "      <th>12610</th>\n",
       "      <td>2008-01-02 23:00:00</td>\n",
       "      <td>1.9803</td>\n",
       "      <td>1.9821</td>\n",
       "      <td>1.9806</td>\n",
       "      <td>1.9791</td>\n",
       "      <td>1.9806</td>\n",
       "      <td>1.9784</td>\n",
       "      <td>2.093000e-06</td>\n",
       "      <td>17247.0</td>\n",
       "      <td>21229.0</td>\n",
       "      <td>12797.0</td>\n",
       "      <td>19885.0</td>\n",
       "      <td>16191.0</td>\n",
       "    </tr>\n",
       "  </tbody>\n",
       "</table>\n",
       "<p>95 rows × 13 columns</p>\n",
       "</div>"
      ],
      "text/plain": [
       "                       ds   Close  Close_1  Close_2  Close_3  Close_4  \\\n",
       "12516 2008-01-01 00:00:00  1.9821   1.9824   1.9826   1.9840   1.9872   \n",
       "12517 2008-01-01 00:30:00  1.9837   1.9821   1.9824   1.9826   1.9840   \n",
       "12518 2008-01-01 01:00:00  1.9839   1.9837   1.9821   1.9824   1.9826   \n",
       "12519 2008-01-01 01:30:00  1.9847   1.9839   1.9837   1.9821   1.9824   \n",
       "12520 2008-01-01 02:00:00  1.9848   1.9847   1.9839   1.9837   1.9821   \n",
       "...                   ...     ...      ...      ...      ...      ...   \n",
       "12606 2008-01-02 21:00:00  1.9806   1.9784   1.9786   1.9798   1.9807   \n",
       "12607 2008-01-02 21:30:00  1.9791   1.9806   1.9784   1.9786   1.9798   \n",
       "12608 2008-01-02 22:00:00  1.9806   1.9791   1.9806   1.9784   1.9786   \n",
       "12609 2008-01-02 22:30:00  1.9821   1.9806   1.9791   1.9806   1.9784   \n",
       "12610 2008-01-02 23:00:00  1.9803   1.9821   1.9806   1.9791   1.9806   \n",
       "\n",
       "       Close_5  var_last_val  Volume_1  Volume_2  Volume_3  Volume_4  Volume_5  \n",
       "12516   1.9908  1.280000e-05    3833.0    3714.0    9333.0   14286.0   18370.0  \n",
       "12517   1.9872  4.448000e-06    2204.0    3833.0    3714.0    9333.0   14286.0  \n",
       "12518   1.9840  7.030000e-07    1567.0    2204.0    3833.0    3714.0    9333.0  \n",
       "12519   1.9826  6.530000e-07    1336.0    1567.0    2204.0    3833.0    3714.0  \n",
       "12520   1.9824  1.178000e-06    1165.0    1336.0    1567.0    2204.0    3833.0  \n",
       "...        ...           ...       ...       ...       ...       ...       ...  \n",
       "12606   1.9818  2.048000e-06   16191.0   18928.0   15231.0   18075.0   11442.0  \n",
       "12607   1.9807  1.172000e-06   19885.0   16191.0   18928.0   15231.0   18075.0  \n",
       "12608   1.9798  8.200000e-07   12797.0   19885.0   16191.0   18928.0   15231.0  \n",
       "12609   1.9786  1.148000e-06   21229.0   12797.0   19885.0   16191.0   18928.0  \n",
       "12610   1.9784  2.093000e-06   17247.0   21229.0   12797.0   19885.0   16191.0  \n",
       "\n",
       "[95 rows x 13 columns]"
      ]
     },
     "execution_count": 141,
     "metadata": {},
     "output_type": "execute_result"
    }
   ],
   "source": [
    "df.loc[(df['ds'] >= '2008-01-01 00:00:00') & (df['ds'] <= '2008-01-02 23:00:00')]"
   ]
  }
 ],
 "metadata": {
  "kernelspec": {
   "display_name": "Python 3",
   "language": "python",
   "name": "python3"
  },
  "language_info": {
   "codemirror_mode": {
    "name": "ipython",
    "version": 2
   },
   "file_extension": ".py",
   "mimetype": "text/x-python",
   "name": "python",
   "nbconvert_exporter": "python",
   "pygments_lexer": "ipython2",
   "version": "2.7.6"
  }
 },
 "nbformat": 4,
 "nbformat_minor": 0
}
