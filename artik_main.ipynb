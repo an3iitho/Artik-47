{
 "cells": [
  {
   "cell_type": "markdown",
   "metadata": {
    "collapsed": false,
    "pycharm": {
     "name": "#%% md\n"
    }
   },
   "source": [
    "# Artik 47"
   ]
  },
  {
   "cell_type": "code",
   "execution_count": 5,
   "metadata": {
    "collapsed": false,
    "pycharm": {
     "name": "#%%\n"
    }
   },
   "outputs": [
    {
     "name": "stdout",
     "output_type": "stream",
     "text": [
      "[name: \"/device:CPU:0\"\n",
      "device_type: \"CPU\"\n",
      "memory_limit: 268435456\n",
      "locality {\n",
      "}\n",
      "incarnation: 14530019185048515595\n",
      "xla_global_id: -1\n",
      ", name: \"/device:GPU:0\"\n",
      "device_type: \"GPU\"\n",
      "memory_limit: 2255906407\n",
      "locality {\n",
      "  bus_id: 1\n",
      "  links {\n",
      "  }\n",
      "}\n",
      "incarnation: 10831226224613394344\n",
      "physical_device_desc: \"device: 0, name: NVIDIA GeForce GTX 1650, pci bus id: 0000:01:00.0, compute capability: 7.5\"\n",
      "xla_global_id: 416903419\n",
      "]\n"
     ]
    }
   ],
   "source": [
    "import pandas as pd\n",
    "import numpy as np\n",
    "import tensorflow as tf\n",
    "\n",
    "from tensorflow.python.client import device_lib\n",
    "print(device_lib.list_local_devices())"
   ]
  },
  {
   "cell_type": "code",
   "execution_count": 14,
   "metadata": {
    "collapsed": false,
    "pycharm": {
     "name": "#%%\n"
    }
   },
   "outputs": [
    {
     "data": {
      "text/html": [
       "<div>\n",
       "<style scoped>\n",
       "    .dataframe tbody tr th:only-of-type {\n",
       "        vertical-align: middle;\n",
       "    }\n",
       "\n",
       "    .dataframe tbody tr th {\n",
       "        vertical-align: top;\n",
       "    }\n",
       "\n",
       "    .dataframe thead th {\n",
       "        text-align: right;\n",
       "    }\n",
       "</style>\n",
       "<table border=\"1\" class=\"dataframe\">\n",
       "  <thead>\n",
       "    <tr style=\"text-align: right;\">\n",
       "      <th></th>\n",
       "      <th>Time</th>\n",
       "      <th>Open</th>\n",
       "      <th>High</th>\n",
       "      <th>Low</th>\n",
       "      <th>Close</th>\n",
       "      <th>Volume</th>\n",
       "    </tr>\n",
       "  </thead>\n",
       "  <tbody>\n",
       "    <tr>\n",
       "      <th>0</th>\n",
       "      <td>2007-01-01 06:00:00</td>\n",
       "      <td>1.95805</td>\n",
       "      <td>1.95836</td>\n",
       "      <td>1.95795</td>\n",
       "      <td>1.95817</td>\n",
       "      <td>1728</td>\n",
       "    </tr>\n",
       "    <tr>\n",
       "      <th>1</th>\n",
       "      <td>2007-01-01 06:30:00</td>\n",
       "      <td>1.95813</td>\n",
       "      <td>1.95835</td>\n",
       "      <td>1.95788</td>\n",
       "      <td>1.95815</td>\n",
       "      <td>1651</td>\n",
       "    </tr>\n",
       "    <tr>\n",
       "      <th>2</th>\n",
       "      <td>2007-01-01 07:00:00</td>\n",
       "      <td>1.95815</td>\n",
       "      <td>1.95832</td>\n",
       "      <td>1.95807</td>\n",
       "      <td>1.95824</td>\n",
       "      <td>1352</td>\n",
       "    </tr>\n",
       "    <tr>\n",
       "      <th>3</th>\n",
       "      <td>2007-01-01 07:30:00</td>\n",
       "      <td>1.95818</td>\n",
       "      <td>1.95833</td>\n",
       "      <td>1.95807</td>\n",
       "      <td>1.95822</td>\n",
       "      <td>1722</td>\n",
       "    </tr>\n",
       "    <tr>\n",
       "      <th>4</th>\n",
       "      <td>2007-01-01 08:00:00</td>\n",
       "      <td>1.95815</td>\n",
       "      <td>1.95871</td>\n",
       "      <td>1.95808</td>\n",
       "      <td>1.95852</td>\n",
       "      <td>1729</td>\n",
       "    </tr>\n",
       "    <tr>\n",
       "      <th>...</th>\n",
       "      <td>...</td>\n",
       "      <td>...</td>\n",
       "      <td>...</td>\n",
       "      <td>...</td>\n",
       "      <td>...</td>\n",
       "      <td>...</td>\n",
       "    </tr>\n",
       "    <tr>\n",
       "      <th>193895</th>\n",
       "      <td>2022-07-13 03:30:00</td>\n",
       "      <td>1.18882</td>\n",
       "      <td>1.18885</td>\n",
       "      <td>1.18852</td>\n",
       "      <td>1.18863</td>\n",
       "      <td>596</td>\n",
       "    </tr>\n",
       "    <tr>\n",
       "      <th>193896</th>\n",
       "      <td>2022-07-13 04:00:00</td>\n",
       "      <td>1.18858</td>\n",
       "      <td>1.18894</td>\n",
       "      <td>1.18796</td>\n",
       "      <td>1.18813</td>\n",
       "      <td>1522</td>\n",
       "    </tr>\n",
       "    <tr>\n",
       "      <th>193897</th>\n",
       "      <td>2022-07-13 04:30:00</td>\n",
       "      <td>1.18811</td>\n",
       "      <td>1.18827</td>\n",
       "      <td>1.18779</td>\n",
       "      <td>1.18794</td>\n",
       "      <td>1852</td>\n",
       "    </tr>\n",
       "    <tr>\n",
       "      <th>193898</th>\n",
       "      <td>2022-07-13 05:00:00</td>\n",
       "      <td>1.18793</td>\n",
       "      <td>1.18814</td>\n",
       "      <td>1.18744</td>\n",
       "      <td>1.18797</td>\n",
       "      <td>1404</td>\n",
       "    </tr>\n",
       "    <tr>\n",
       "      <th>193899</th>\n",
       "      <td>2022-07-13 05:30:00</td>\n",
       "      <td>1.18796</td>\n",
       "      <td>1.18820</td>\n",
       "      <td>1.18755</td>\n",
       "      <td>1.18774</td>\n",
       "      <td>1175</td>\n",
       "    </tr>\n",
       "  </tbody>\n",
       "</table>\n",
       "<p>193900 rows × 6 columns</p>\n",
       "</div>"
      ],
      "text/plain": [
       "                       Time     Open     High      Low    Close  Volume\n",
       "0       2007-01-01 06:00:00  1.95805  1.95836  1.95795  1.95817    1728\n",
       "1       2007-01-01 06:30:00  1.95813  1.95835  1.95788  1.95815    1651\n",
       "2       2007-01-01 07:00:00  1.95815  1.95832  1.95807  1.95824    1352\n",
       "3       2007-01-01 07:30:00  1.95818  1.95833  1.95807  1.95822    1722\n",
       "4       2007-01-01 08:00:00  1.95815  1.95871  1.95808  1.95852    1729\n",
       "...                     ...      ...      ...      ...      ...     ...\n",
       "193895  2022-07-13 03:30:00  1.18882  1.18885  1.18852  1.18863     596\n",
       "193896  2022-07-13 04:00:00  1.18858  1.18894  1.18796  1.18813    1522\n",
       "193897  2022-07-13 04:30:00  1.18811  1.18827  1.18779  1.18794    1852\n",
       "193898  2022-07-13 05:00:00  1.18793  1.18814  1.18744  1.18797    1404\n",
       "193899  2022-07-13 05:30:00  1.18796  1.18820  1.18755  1.18774    1175\n",
       "\n",
       "[193900 rows x 6 columns]"
      ]
     },
     "execution_count": 14,
     "metadata": {},
     "output_type": "execute_result"
    }
   ],
   "source": [
    "gbpusd = pd.read_csv(f'~\\Documents\\Artik_47\\Artik-47\\data\\GBPUSD_M30.csv', sep='\\t')\n",
    "gbpusd"
   ]
  }
 ],
 "metadata": {
  "kernelspec": {
   "display_name": "Python 3",
   "language": "python",
   "name": "python3"
  },
  "language_info": {
   "codemirror_mode": {
    "name": "ipython",
    "version": 2
   },
   "file_extension": ".py",
   "mimetype": "text/x-python",
   "name": "python",
   "nbconvert_exporter": "python",
   "pygments_lexer": "ipython2",
   "version": "2.7.6"
  }
 },
 "nbformat": 4,
 "nbformat_minor": 0
}
